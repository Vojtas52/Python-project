{
 "cells": [
  {
   "cell_type": "markdown",
   "id": "f6cebc63",
   "metadata": {},
   "source": [
    "<h1><center> Text mining part </center></h1>"
   ]
  },
  {
   "cell_type": "code",
   "execution_count": 1,
   "id": "2c0c56e3",
   "metadata": {},
   "outputs": [],
   "source": [
    "import requests\n",
    "from bs4 import BeautifulSoup"
   ]
  },
  {
   "cell_type": "code",
   "execution_count": 2,
   "id": "2fe3ac69",
   "metadata": {},
   "outputs": [],
   "source": [
    "add_page = requests.get('https://auto.bazos.cz/inzerat/157012769/vw-golf-7-20tdi-110kw-107tkm-plna-zaruka-2-roky-zdarma.php')"
   ]
  },
  {
   "cell_type": "code",
   "execution_count": 3,
   "id": "e24fa1d2",
   "metadata": {},
   "outputs": [],
   "source": [
    "soup_add = BeautifulSoup(add_page.text, 'html')"
   ]
  },
  {
   "cell_type": "code",
   "execution_count": 4,
   "id": "bfac664a",
   "metadata": {},
   "outputs": [
    {
     "name": "stdout",
     "output_type": "stream",
     "text": [
      "S tímhle autem můžete rovnou vyrazit na cesty. Vybrali jsme ho pečlivě přímo u autorizovaného dealera Volkswagen. Zkontrolovali vlastním servisem. A vybavili širokou dvouletou zárukou. Doveze vás kamkoliv stejně dobře jako nové. Jen za citelně lepší cenu.\n",
      "\r\n",
      "JEZDĚTE V KLIDU - plnou dvouletou záruku máte teď k autu zdarma - Akce platí do konce prázdnin\n",
      "\r\n",
      "Volkswagen Golf 7 Comfortline 2.0 TDI 110kW se zárukou 2 roky\n",
      "\r\n",
      "Cena 428 000 Kč\r\n",
      "DPH si můžete odečíst.\n",
      "\r\n",
      "Po 1. majiteli\r\n",
      "VIN: WVWZZZAUZJP076699\r\n",
      "Registrace: 2/2018\r\n",
      "Najeto: 107 604 km\r\n",
      "Emise: Plní nejmodernější emisní normu EURO 6 Poznámka servisu: servisováno ve VW, STK do 2023, servisní knížka k dispozici, servisováno ve Volkswagen podle předepsaných intervalů.\n",
      "\r\n",
      "VÝBAVA:\r\n",
      "6 rychlostních stupňů, ACC adaptivní tempomat, Asistent nouzového brzdění, Asistent rozpoznávání únavy, Bezdrátová nabíječka mobilu, Climatronic 2-zónová, Čalounění sedadel Alcantara&Textil, Dešťový senzor, El. vyhřívaná zpětná zrcátka, ERGO masážní sedadlo řidiče, Funkce Auto Hold, FULL LED světlomety, Isofix, Kontrola trakce ASR, Kožené čalounění sedadel, LED denní svícení, Mlhové světlomety s funkcí Corner, Navigace DISCOVER Media, Parkovací senzory přední, Parkovací senzory zadní, Samostmívací zpětné zrcátko, Speed Limiter, Vyhřívaná přední sedadla\n",
      "\r\n",
      "PŮVOD\r\n",
      "Auto pochází přímo z dealerství Volkswagen v Německu. Vybrali jsme ho u jednoho z našich 117 partnerů.\n",
      "\r\n",
      "KONDICE\r\n",
      "Auto prověřoval německý autorizovaný servis a náš servis Krafter. Za bezvadný stav ručí mistr dílny. Od motoru po baterii v klíčku.\n",
      "\r\n",
      "ZÁRUKA\r\n",
      "Auto chrání naše rozšířená dvouletá záruka. Bez omezení kilometrů. Najdete v ní všechno – od turbojednotky po filtr pevných částic.\n",
      "\r\n",
      "REFERENCE\r\n",
      "Na českých silnicích potkáte už více než 9000 našich zákazníků. Nebojte se zeptat. O dobrou zkušenost se lidé rádi podělí.\n",
      "\r\n",
      "ZAJÍMÁ VÁS TOTO AUTO?\r\n",
      "Volejte:\r\n",
      "Ondřej Holman +420 735 127 096\r\n",
      "nebo pevnou linku: +420 284 828 188\n",
      "\r\n",
      "Ondřej vám rád rezervuje vaši prohlídku. Auto si můžete důkladně projet, zvednout na zvedák nebo napojit na diagnostiku.\n",
      "\r\n",
      "JAKÉ TEĎ KOUPIT AUTO?\n",
      "\r\n",
      "NOVÉ, NEBO ZAJETÉ?\r\n",
      "Dobře zajeté vás doveze kamkoliv budete potřebovat. Stejně spolehlivě. A zbyde vám na jiné důležité věci.\n",
      "\r\n",
      "JAK UŠETŘIT NA PROVOZU?\r\n",
      "Modernější auto vám šetří už od prvního kilometru. Na spotřebě. A pravidelné servisy jsou u koncernových aut za hubičku.\n",
      "\r\n",
      "KDO MI POMŮŽE S KONTROLOU?\r\n",
      "Rádi přivítáme vašeho mechanika. A pokud nemá čas, provede vás někdo z našich. Ukáže vám stav podvozku nebo vysvětlí, jaký servis vás v nejbližší době čeká.\n",
      "\r\n",
      "CO UDĚLAT JAKO PRVNÍ KROK?\r\n",
      "Zavolejte. Jsme tu denně včetně víkendů do 8 večer. Rádi vám rezervujeme vaši prohlídku.\n"
     ]
    }
   ],
   "source": [
    "add = soup_add.find('div', {'class':'popisdetail'}).get_text()\n",
    "print(add)"
   ]
  },
  {
   "cell_type": "code",
   "execution_count": 11,
   "id": "b1468c2e",
   "metadata": {},
   "outputs": [],
   "source": [
    "def remove_spaces(text):\n",
    "    return text.replace(\" \", \"\")"
   ]
  },
  {
   "cell_type": "code",
   "execution_count": 17,
   "id": "4e4eebde",
   "metadata": {},
   "outputs": [
    {
     "name": "stdout",
     "output_type": "stream",
     "text": [
      "Stímhleautemmůžeterovnouvyrazitnacesty.VybralijsmehopečlivěpřímouautorizovanéhodealeraVolkswagen.Zkontrolovalivlastnímservisem.Avybaviliširokoudvouletouzárukou.Dovezeváskamkolivstejnědobřejakonové.Jenzacitelnělepšícenu.\n",
      "\r\n",
      "JEZDĚTEVKLIDU-plnoudvouletouzárukumáteteďkautuzdarma-Akceplatídokonceprázdnin\n",
      "\r\n",
      "VolkswagenGolf7Comfortline2.0TDI110kWsezárukou2roky\n",
      "\r\n",
      "Cena428000Kč\r\n",
      "DPHsimůžeteodečíst.\n",
      "\r\n",
      "Po1.majiteli\r\n",
      "VIN:WVWZZZAUZJP076699\r\n",
      "Registrace:2/2018\r\n",
      "Najeto:107604km\r\n",
      "Emise:PlnínejmodernějšíemisnínormuEURO6Poznámkaservisu:servisovánoveVW,STKdo2023,servisníknížkakdispozici,servisovánoveVolkswagenpodlepředepsanýchintervalů.\n",
      "\r\n",
      "VÝBAVA:\r\n",
      "6rychlostníchstupňů,ACCadaptivnítempomat,Asistentnouzovéhobrzdění,Asistentrozpoznáváníúnavy,Bezdrátovánabíječkamobilu,Climatronic2-zónová,ČalouněnísedadelAlcantara&Textil,Dešťovýsenzor,El.vyhřívanázpětnázrcátka,ERGOmasážnísedadlořidiče,FunkceAutoHold,FULLLEDsvětlomety,Isofix,KontrolatrakceASR,Koženéčalouněnísedadel,LEDdennísvícení,MlhovésvětlometysfunkcíCorner,NavigaceDISCOVERMedia,Parkovacísenzorypřední,Parkovacísenzoryzadní,Samostmívacízpětnézrcátko,SpeedLimiter,Vyhřívanápřednísedadla\n",
      "\r\n",
      "PŮVOD\r\n",
      "AutopocházípřímozdealerstvíVolkswagenvNěmecku.Vybralijsmehoujednohoznašich117partnerů.\n",
      "\r\n",
      "KONDICE\r\n",
      "AutoprověřovalněmeckýautorizovanýservisanášservisKrafter.Zabezvadnýstavručímistrdílny.Odmotorupobateriivklíčku.\n",
      "\r\n",
      "ZÁRUKA\r\n",
      "Autochránínašerozšířenádvouletázáruka.Bezomezeníkilometrů.Najdetevnívšechno–odturbojednotkypofiltrpevnýchčástic.\n",
      "\r\n",
      "REFERENCE\r\n",
      "Načeskýchsilnicíchpotkáteužvícenež9000našichzákazníků.Nebojtesezeptat.Odobrouzkušenostselidérádipodělí.\n",
      "\r\n",
      "ZAJÍMÁVÁSTOTOAUTO?\r\n",
      "Volejte:\r\n",
      "OndřejHolman+420735127096\r\n",
      "nebopevnoulinku:+420284828188\n",
      "\r\n",
      "Ondřejvámrádrezervujevašiprohlídku.Autosimůžetedůkladněprojet,zvednoutnazvedáknebonapojitnadiagnostiku.\n",
      "\r\n",
      "JAKÉTEĎKOUPITAUTO?\n",
      "\r\n",
      "NOVÉ,NEBOZAJETÉ?\r\n",
      "Dobřezajetévásdovezekamkolivbudetepotřebovat.Stejněspolehlivě.Azbydevámnajinédůležitévěci.\n",
      "\r\n",
      "JAKUŠETŘITNAPROVOZU?\r\n",
      "Modernějšíautovámšetříužodprvníhokilometru.Naspotřebě.Apravidelnéservisyjsouukoncernovýchautzahubičku.\n",
      "\r\n",
      "KDOMIPOMŮŽESKONTROLOU?\r\n",
      "Rádipřivítámevašehomechanika.Apokudnemáčas,provedevásněkdoznašich.Ukáževámstavpodvozkunebovysvětlí,jakýservisvásvnejbližšídoběčeká.\n",
      "\r\n",
      "COUDĚLATJAKOPRVNÍKROK?\r\n",
      "Zavolejte.Jsmetudenněvčetněvíkendůdo8večer.Rádivámrezervujemevašiprohlídku.\n"
     ]
    }
   ],
   "source": [
    "add = remove_spaces(add)\n",
    "print(add)"
   ]
  },
  {
   "cell_type": "code",
   "execution_count": 14,
   "id": "f426337c",
   "metadata": {},
   "outputs": [],
   "source": [
    "def get_numbers_from_text(text):\n",
    "    import re\n",
    "    text = remove_spaces(text)\n",
    "    pattern = '[-+]?[.]?[\\d]+(?:,\\d\\d\\d)*[\\.]?\\d*(?:[eE][-+]?\\d+)?'\n",
    "    list_of_numbers = re.findall(pattern, text)\n",
    "    return list_of_numbers"
   ]
  },
  {
   "cell_type": "code",
   "execution_count": 27,
   "id": "c00912f5",
   "metadata": {},
   "outputs": [
    {
     "name": "stdout",
     "output_type": "stream",
     "text": [
      "['7', '2.0', '110', '2', '428000', '1.', '076699', '2', '2018', '107604', '6', '2023', '6', '2', '117', '9000', '+420735127096', '+420284828188', '8']\n"
     ]
    },
    {
     "data": {
      "text/plain": [
       "str"
      ]
     },
     "execution_count": 27,
     "metadata": {},
     "output_type": "execute_result"
    }
   ],
   "source": [
    "all_numbers = get_numbers_from_text(add)\n",
    "print(all_numbers)\n",
    "type(all_numbers[0])"
   ]
  },
  {
   "cell_type": "code",
   "execution_count": 35,
   "id": "54be05bc",
   "metadata": {},
   "outputs": [],
   "source": [
    "def find_years(numbers):\n",
    "    numbers = [x for x in numbers if (float(x) > 1980) and (float(x) < 2030)]\n",
    "    return numbers"
   ]
  },
  {
   "cell_type": "code",
   "execution_count": 43,
   "id": "9acf9848",
   "metadata": {},
   "outputs": [
    {
     "name": "stdout",
     "output_type": "stream",
     "text": [
      "['2018', '2023']\n"
     ]
    }
   ],
   "source": [
    "all_years = find_years(all_numbers)\n",
    "print(all_years)"
   ]
  },
  {
   "cell_type": "code",
   "execution_count": 40,
   "id": "31bd4b93",
   "metadata": {},
   "outputs": [
    {
     "data": {
      "text/plain": [
       "str"
      ]
     },
     "execution_count": 40,
     "metadata": {},
     "output_type": "execute_result"
    }
   ],
   "source": [
    "type(all_years[0])"
   ]
  },
  {
   "cell_type": "code",
   "execution_count": 67,
   "id": "5db53de1",
   "metadata": {},
   "outputs": [],
   "source": [
    "def find_km(numbers):\n",
    "    numbers = [x for x in numbers if (float(x) > 3000) and (float(x) < 500000)]\n",
    "    return numbers"
   ]
  },
  {
   "cell_type": "code",
   "execution_count": 68,
   "id": "80f3fa16",
   "metadata": {},
   "outputs": [
    {
     "name": "stdout",
     "output_type": "stream",
     "text": [
      "['428000', '076699', '107604', '9000']\n"
     ]
    }
   ],
   "source": [
    "test = find_km(all_numbers)\n",
    "print(test)"
   ]
  },
  {
   "cell_type": "code",
   "execution_count": 69,
   "id": "04624233",
   "metadata": {},
   "outputs": [
    {
     "name": "stdout",
     "output_type": "stream",
     "text": [
      "['2018', '107604']\n"
     ]
    }
   ],
   "source": [
    "def get_context(text, list_of_tokens, year_dictionary, km_dictionary, context_span=20):\n",
    "    import re\n",
    "    context = []\n",
    "    year = 'No match'\n",
    "    km = 'No match'\n",
    "    for token in find_years(list_of_tokens):\n",
    "        all_occurences_indices = [m.start() for m in re.finditer(token, text)]\n",
    "        for index in all_occurences_indices:\n",
    "            left_index = max(index - context_span, 0)\n",
    "            right_index = min(index + context_span, len(text))\n",
    "            substring = text[left_index: right_index].strip()\n",
    "            for s in year_dictionary:\n",
    "                year_find = [m.start() for m in re.finditer(s, substring)]\n",
    "                if len(year_find) > 0:\n",
    "                    year = token\n",
    "    for token in find_km(list_of_tokens):\n",
    "        all_occurences_indices = [m.start() for m in re.finditer(token, text)]\n",
    "        for index in all_occurences_indices:\n",
    "            left_index = max(index - context_span, 0)\n",
    "            right_index = min(index + context_span, len(text))\n",
    "            substring = text[left_index: right_index].strip()\n",
    "            for s in km_dictionary:\n",
    "                km_find = [m.start() for m in re.finditer(s, substring)]\n",
    "                if len(km_find) > 0:\n",
    "                    km = token\n",
    "    return [year, km] #context\n",
    "year_dict = ['egistr', 'r.v', 'vyrob', 'výrob', 'prov']\n",
    "km_dict = ['km', 'Km', 'KM', 'ilomet', 'ajet', 'ájez', 'achom', 'atoč']\n",
    "context_got = get_context(add, all_numbers, year_dict, km_dict)\n",
    "print(context_got)"
   ]
  },
  {
   "cell_type": "code",
   "execution_count": 52,
   "id": "84d974cc",
   "metadata": {},
   "outputs": [
    {
     "name": "stdout",
     "output_type": "stream",
     "text": [
      "['', '']\n"
     ]
    }
   ],
   "source": [
    "def get_context(text, list_of_tokens, context_span=20):\n",
    "    import re\n",
    "    context = []\n",
    "    for token in list_of_tokens:\n",
    "        all_occurences_indices = [m.start() for m in re.finditer(token, text)]\n",
    "        for index in all_occurences_indices:\n",
    "            left_index = max(index - context_span, 0)\n",
    "            right_index = min(index + context_span, len(text))\n",
    "            substring = text[left_index: right_index].strip()\n",
    "            \n",
    "            if left_index == 0:\n",
    "                substring = ' '.join(substring.split(' ')[:-1])\n",
    "            elif right_index == len(text):\n",
    "                substring = ' '.join(substring.split(' ')[1:])\n",
    "            else:\n",
    "                substring = ' '.join(substring.split(' ')[1:-1])\n",
    "            context.append(substring)\n",
    "    return context\n",
    "context_got = get_context(add, all_years)\n",
    "print(context_got)"
   ]
  },
  {
   "cell_type": "code",
   "execution_count": 54,
   "id": "a42a12b3",
   "metadata": {},
   "outputs": [
    {
     "data": {
      "text/plain": [
       "['76699', '2', '2018', '107604']"
      ]
     },
     "execution_count": 54,
     "metadata": {},
     "output_type": "execute_result"
    }
   ],
   "source": [
    "def find_year_of_manifacture(contexts):\n",
    "    import re\n",
    "    for text in contexts:\n",
    "        test = [m.start() for m in re.finditer('egist', text)]\n",
    "        if len(test) > 0:\n",
    "            year = \n",
    "    return km_number    \n",
    "find_year_of_manifacture(context_got)"
   ]
  },
  {
   "cell_type": "code",
   "execution_count": 51,
   "id": "075165ca",
   "metadata": {},
   "outputs": [
    {
     "data": {
      "text/plain": [
       "['202160']"
      ]
     },
     "execution_count": 51,
     "metadata": {},
     "output_type": "execute_result"
    }
   ],
   "source": [
    "def find_km(contexts):\n",
    "    import re\n",
    "    for text in contexts:\n",
    "        test = [m.start() for m in re.finditer('Km', text)]\n",
    "        if len(test) > 0:\n",
    "            km_number = get_numbers_from_text(text)\n",
    "    return km_number    \n",
    "find_km(context_got)"
   ]
  },
  {
   "cell_type": "code",
   "execution_count": 43,
   "id": "32334055",
   "metadata": {},
   "outputs": [
    {
     "name": "stdout",
     "output_type": "stream",
     "text": [
      "[24]\n",
      "[24]\n",
      "21\n"
     ]
    },
    {
     "ename": "TypeError",
     "evalue": "unsupported operand type(s) for -: 'int' and 'list'",
     "output_type": "error",
     "traceback": [
      "\u001b[1;31m---------------------------------------------------------------------------\u001b[0m",
      "\u001b[1;31mTypeError\u001b[0m                                 Traceback (most recent call last)",
      "\u001b[1;32m~\\AppData\\Local\\Temp/ipykernel_17688/143760977.py\u001b[0m in \u001b[0;36m<module>\u001b[1;34m\u001b[0m\n\u001b[0;32m     30\u001b[0m             \u001b[0mcontext\u001b[0m\u001b[1;33m.\u001b[0m\u001b[0mappend\u001b[0m\u001b[1;33m(\u001b[0m\u001b[0msubstring\u001b[0m\u001b[1;33m)\u001b[0m\u001b[1;33m\u001b[0m\u001b[1;33m\u001b[0m\u001b[0m\n\u001b[0;32m     31\u001b[0m     \u001b[1;32mreturn\u001b[0m \u001b[0mcontext\u001b[0m\u001b[1;33m,\u001b[0m \u001b[0mall_indexes\u001b[0m\u001b[1;33m\u001b[0m\u001b[1;33m\u001b[0m\u001b[0m\n\u001b[1;32m---> 32\u001b[1;33m \u001b[0mget_context\u001b[0m\u001b[1;33m(\u001b[0m\u001b[0madd\u001b[0m\u001b[1;33m,\u001b[0m \u001b[0mall_numbers\u001b[0m\u001b[1;33m)\u001b[0m\u001b[1;33m\u001b[0m\u001b[1;33m\u001b[0m\u001b[0m\n\u001b[0m",
      "\u001b[1;32m~\\AppData\\Local\\Temp/ipykernel_17688/143760977.py\u001b[0m in \u001b[0;36mget_context\u001b[1;34m(text, list_of_tokens, context_span)\u001b[0m\n\u001b[0;32m     17\u001b[0m         \u001b[1;32mfor\u001b[0m \u001b[0mindex\u001b[0m \u001b[1;32min\u001b[0m \u001b[0mall_occurences_indices\u001b[0m\u001b[1;33m:\u001b[0m\u001b[1;33m\u001b[0m\u001b[1;33m\u001b[0m\u001b[0m\n\u001b[0;32m     18\u001b[0m             \u001b[0mprint\u001b[0m\u001b[1;33m(\u001b[0m\u001b[0mindex\u001b[0m\u001b[1;33m)\u001b[0m\u001b[1;33m\u001b[0m\u001b[1;33m\u001b[0m\u001b[0m\n\u001b[1;32m---> 19\u001b[1;33m             \u001b[0mleft_index\u001b[0m \u001b[1;33m=\u001b[0m \u001b[0mmax\u001b[0m\u001b[1;33m(\u001b[0m\u001b[0mmin\u001b[0m\u001b[1;33m(\u001b[0m\u001b[0mindex\u001b[0m \u001b[1;33m-\u001b[0m \u001b[0mcontext_span\u001b[0m\u001b[1;33m,\u001b[0m \u001b[0mindex\u001b[0m \u001b[1;33m-\u001b[0m \u001b[0mall_indexes\u001b[0m\u001b[1;33m[\u001b[0m\u001b[1;33m-\u001b[0m\u001b[1;36m1\u001b[0m\u001b[1;33m]\u001b[0m\u001b[1;33m)\u001b[0m\u001b[1;33m,\u001b[0m \u001b[1;36m0\u001b[0m\u001b[1;33m)\u001b[0m\u001b[1;33m\u001b[0m\u001b[1;33m\u001b[0m\u001b[0m\n\u001b[0m\u001b[0;32m     20\u001b[0m             \u001b[1;31m#left_index = max(index - context_span, 0)\u001b[0m\u001b[1;33m\u001b[0m\u001b[1;33m\u001b[0m\u001b[0m\n\u001b[0;32m     21\u001b[0m             \u001b[0mright_index\u001b[0m \u001b[1;33m=\u001b[0m \u001b[0mmin\u001b[0m\u001b[1;33m(\u001b[0m\u001b[0mindex\u001b[0m \u001b[1;33m+\u001b[0m \u001b[0mcontext_span\u001b[0m\u001b[1;33m,\u001b[0m \u001b[0mlen\u001b[0m\u001b[1;33m(\u001b[0m\u001b[0mtext\u001b[0m\u001b[1;33m)\u001b[0m\u001b[1;33m)\u001b[0m\u001b[1;33m\u001b[0m\u001b[1;33m\u001b[0m\u001b[0m\n",
      "\u001b[1;31mTypeError\u001b[0m: unsupported operand type(s) for -: 'int' and 'list'"
     ]
    }
   ],
   "source": [
    "def get_context(text, list_of_tokens, context_span=20):\n",
    "    import re\n",
    "    context = []\n",
    "    all_indexes = []\n",
    "    for token in list_of_tokens:\n",
    "        all_occurences_indices = [m.start() for m in re.finditer(token, text)]\n",
    "        all_occurences_indices_ends = [m.end() for m in re.finditer(token, text)]\n",
    "        \n",
    "        if len(all_occurences_indices) > 1:\n",
    "            all_occurences_indices = [max(all_occurences_indices)] #have to solve more sophistically\n",
    "        if len(all_occurences_indices_ends) > 1:\n",
    "            all_occurences_indices_ends = [max(all_occurences_indices_ends)]\n",
    "        all_indexes.append(all_occurences_indices_ends)\n",
    "        print(max(all_indexes))\n",
    "        print(all_indexes[-1])\n",
    "        \n",
    "        for index in all_occurences_indices:\n",
    "            print(index)\n",
    "            left_index = max(min(index - context_span, index - all_indexes[-1]), 0)\n",
    "            #left_index = max(index - context_span, 0)\n",
    "            right_index = min(index + context_span, len(text))\n",
    "            substring = text[left_index: right_index].strip()\n",
    "            \n",
    "            if left_index == 0:\n",
    "                substring = ' '.join(substring.split(' ')[:-1])\n",
    "            elif right_index == len(text):\n",
    "                substring = ' '.join(substring.split(' ')[1:])\n",
    "            else:\n",
    "                substring = ' '.join(substring.split(' ')[1:-1])\n",
    "            context.append(substring)\n",
    "    return context, all_indexes\n",
    "get_context(add, all_numbers)"
   ]
  }
 ],
 "metadata": {
  "kernelspec": {
   "display_name": "Python 3 (ipykernel)",
   "language": "python",
   "name": "python3"
  },
  "language_info": {
   "codemirror_mode": {
    "name": "ipython",
    "version": 3
   },
   "file_extension": ".py",
   "mimetype": "text/x-python",
   "name": "python",
   "nbconvert_exporter": "python",
   "pygments_lexer": "ipython3",
   "version": "3.9.7"
  }
 },
 "nbformat": 4,
 "nbformat_minor": 5
}
