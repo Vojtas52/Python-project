{
 "cells": [
  {
   "cell_type": "markdown",
   "id": "f6cebc63",
   "metadata": {},
   "source": [
    "<h1><center> Text mining part </center></h1>"
   ]
  },
  {
   "cell_type": "code",
   "execution_count": 1,
   "id": "2c0c56e3",
   "metadata": {},
   "outputs": [],
   "source": [
    "import requests\n",
    "from bs4 import BeautifulSoup"
   ]
  },
  {
   "cell_type": "code",
   "execution_count": 43,
   "id": "2fe3ac69",
   "metadata": {},
   "outputs": [],
   "source": [
    "add_page = requests.get('https://auto.bazos.cz/inzerat/156776866/skoda-octavia-3-fc-14tsi-cng-81kw-dsg-style-koupcr107tkm.php')"
   ]
  },
  {
   "cell_type": "code",
   "execution_count": 44,
   "id": "e24fa1d2",
   "metadata": {},
   "outputs": [],
   "source": [
    "soup_add = BeautifulSoup(add_page.text, 'html')"
   ]
  },
  {
   "cell_type": "code",
   "execution_count": 45,
   "id": "bfac664a",
   "metadata": {},
   "outputs": [
    {
     "name": "stdout",
     "output_type": "stream",
     "text": [
      "  399 900 Kč\n"
     ]
    }
   ],
   "source": [
    "add = soup_add.find('div', {'class':'popisdetail'}).get_text()\n",
    "test = soup_add.find('table').find_all('b')[-1].get_text()\n",
    "print(test)\n"
   ]
  },
  {
   "cell_type": "code",
   "execution_count": 19,
   "id": "46e191d4",
   "metadata": {},
   "outputs": [
    {
     "name": "stdout",
     "output_type": "stream",
     "text": [
      "\n",
      "\n",
      "<tr><td class=\"listadvlevo\" valign=\"top\" width=\"35%\">\n",
      "<table cellpadding=\"0\" cellspacing=\"1\" width=\"*\">\n",
      "<tr><td height=\"22px\" width=\"25%\">Jméno:<br/><br/></td><td colspan=\"2\"><b><a href=\"https://www.bazos.cz/hodnoceni.php?idmail=6108226&amp;idphone=3722517&amp;jmeno=Luk%C3%A1%C5%A1+Lau+\" rel=\"nofollow\">Lukáš Lau </a></b><br/><br/></td></tr>\n",
      "<tr id=\"overlaydetail\"><td height=\"22px\" width=\"25%\">Telefon:<br/><br/></td><td colspan=\"2\"><span class=\"teldetail\" onclick=\"odeslatrequest('/detailtel.php?idi=157061853&amp;idphone=3722517');\"><span style=\"white-space: nowrap;\">732... zobraz číslo</span></span><br/><br/></td></tr>\n",
      "<tr><td height=\"22px\" width=\"25%\">Lokalita:</td><td width=\"9%\"><img alt=\"Mapa\" height=\"17\" src=\"https://www.bazos.cz/obrazky/map.svg\"/></td><td><a href=\"https://www.google.com/maps/place/49.864104,18.524323/@49.864104,18.524323,12z/data=!4m2!3m1!1s0x0:0x0\" rel=\"nofollow\" title=\"Přibližná lokalita\">734 01</a> <a href=\"https://auto.bazos.cz/inzeraty/karvin%C3%A1-4/73401/\">Karviná</a></td></tr>\n",
      "<tr><td height=\"22px\" width=\"25%\"><br/>Vidělo:</td><td colspan=\"2\"><br/>85 lidí</td></tr>\n",
      "<tr><td height=\"22px\" width=\"25%\"><br/>Cena:</td><td colspan=\"2\"><br/><b>Dohodou</b></td></tr>\n",
      "</table>\n",
      "</td>\n",
      "<td class=\"listadvpravo\" valign=\"top\" width=\"*\">\n",
      "<table cellpadding=\"0\" cellspacing=\"1\">\n",
      "<tr><td height=\"22px\"><img alt=\"Uživatel\" height=\"17\" src=\"https://www.bazos.cz/obrazky/user.svg\"/></td><td><a href=\"https://www.bazos.cz/hodnoceni.php?idmail=6108226&amp;idphone=3722517&amp;jmeno=Luk%C3%A1%C5%A1+Lau+\" rel=\"nofollow\">Všechny inzeráty a hodnocení uživatele</a></td></tr>\n",
      "<tr><td height=\"22px\"><img alt=\"Oblíbené\" height=\"18\" id=\"obrfavour\" src=\"https://www.bazos.cz/obrazky/favourite.svg\"/></td><td><span id=\"favour\"><a href=\"https://www.bazos.cz/oblibene.php\" rel=\"nofollow\">Přidat do oblíbených</a></span></td></tr>\n",
      "<tr><td height=\"22px\"><img alt=\"Spam\" height=\"17\" src=\"https://www.bazos.cz/obrazky/spam.svg\"/></td><td><a href=\"https://www.bazos.cz/report.php?idad=157061853&amp;report=1\" rel=\"nofollow\">Označit špatný inzerát</a></td></tr>\n",
      "<tr><td height=\"22px\"><img alt=\"Chybná kategorie\" height=\"17\" src=\"https://www.bazos.cz/obrazky/miscat.svg\"/></td><td><a href=\"https://www.bazos.cz/report.php?idad=157061853&amp;report=2\" rel=\"nofollow\">Označit chybnou kategorii inzerátu</a></td></tr>\n",
      "<tr><td height=\"22px\"><img alt=\"Tisk\" height=\"17\" src=\"https://www.bazos.cz/obrazky/print.svg\"/></td><td><a href=\"#\" onclick=\"window.print()\">Vytisknout inzerát</a></td></tr>\n",
      "<tr><td height=\"22px\"><a href=\"https://www.facebook.com/sharer/sharer.php?u=https://auto.bazos.cz/inzerat/157061853/skoda-octavia-3-20tdi-110kw-dsg.php\" rel=\"nofollow\" target=\"_blank\"><img alt=\"Facebook\" height=\"22\" src=\"https://www.bazos.cz/obrazky/facebook.svg\"/></a></td><td><a href=\"https://www.facebook.com/sharer/sharer.php?u=https://auto.bazos.cz/inzerat/157061853/skoda-octavia-3-20tdi-110kw-dsg.php\" rel=\"nofollow\" target=\"_blank\">Sdílejte na Facebooku</a></td></tr>\n",
      "<tr><td height=\"22px\"><img alt=\"Mail\" height=\"17\" src=\"https://www.bazos.cz/obrazky/mail.svg\"/></td><td><a href=\"https://www.bazos.cz/doporucit.php?idi=157061853\" rel=\"nofollow\">Doporučit kamarádovi</a></td></tr>\n",
      "<tr><td height=\"22px\"><img alt=\"Podobné\" height=\"17\" src=\"https://www.bazos.cz/obrazky/similar.svg\"/></td><td><a href=\"https://auto.bazos.cz/inzeraty/%C5%A1koda-octavia/\">Vyhledat podobné inzeráty</a></td></tr>\n",
      "</table>\n",
      "</td></tr>\n",
      "\n",
      "\n"
     ]
    }
   ],
   "source": [
    "for child in soup_add.find('table').children\n",
    "    print(child)"
   ]
  },
  {
   "cell_type": "code",
   "execution_count": 46,
   "id": "b1468c2e",
   "metadata": {},
   "outputs": [],
   "source": [
    "def remove_spaces(text):\n",
    "    return text.replace(\" \", \"\").replace(\".\", \"\").replace(\"xxx\", \"000\")"
   ]
  },
  {
   "cell_type": "code",
   "execution_count": 47,
   "id": "4e4eebde",
   "metadata": {},
   "outputs": [
    {
     "name": "stdout",
     "output_type": "stream",
     "text": [
      "000POZORNEJEDNÁSEODOVOZZEZAHRANIČÍ!000-nehrozírizikostočenéhotachometruaprávníchvadjakoudovozu!\n",
      "\r\n",
      "Prodáminasplátky-ŠkodaOctaviacombi14TSiG-TECCNGSTYLEKoupČR,1majitel,Servisníkniha\n",
      "\r\n",
      "PropodnikateleafirmyodpočetDPH!!!\n",
      "\r\n",
      "000smožnostíZÁRUKYažna24měsíců!!!000-ojetývůzseZÁRUKOUjakonaNOVÝ!!!\n",
      "\r\n",
      "000POHONCNGaplnohodnotnánádržnaBENZÍN!!!\r\n",
      "XXXautomatickápřevodovkaDSG!XXX\n",
      "\r\n",
      "rv2018\r\n",
      "81kW-110koní\r\n",
      "najeto-107100km\r\n",
      "PravidelnýservispouzeautorizovanýservisŠkoda\r\n",
      "bílá\n",
      "\r\n",
      "autpřevodovka,airbagřidiče,ABS,stabilizacepodvozku(ESP),protiprokluzovýsystémkol(ASR),autzabrzděnívkopci,autklimatizace,tempomat,alukola,palubnípočítač,parkovacíasistent,multifunkčnívolant,deaktivaceairbaguspolujezdce,elokna,střešnínosič,elzrcátka,startovánítlačítkem,imobilizér,alarm,centráldálkový,vyhřívanásedadla,výškověnastavitelnásedadla,výškověnastavitelnésedadlořidiče,senzortlakuvpneumatikách,zadnísvětlaLED,ostřikovačesvětlometů,mlhovky,autorádio,vyhřívanázrcátka,klimatizovanápřihrádka,dělenázadnísedadla,USB,handsfree,dvouzónováklimatizace,bluetooth,bi-xenonovésvětlomety,start-stopsystém,paměťovákarta,nouzovébrzdění(PEBS),isofix,parkovacísenzoryzadní,bezklíčovéstartování,bezklíčovéodemykání,zaslepenízámků,tónovanáskla,zadnístěrač,nastavitelnývolant,venkovníteploměr,posilovačřízení,7xairbag,LEDdennísvícení,digitálnípříjemrádia(DAB),AndroidAuto,AppleCarPlay,LEDadaptivnísvětlomety,zadníloketníopěrka,řazenípádlypodvolantem,dotykovéovládánípalubníhopočítače\n",
      "\r\n",
      "KoupenovČR\r\n",
      "Po1majiteli\r\n",
      "Servisníkniha\r\n",
      "MožnostodpočtuDPH!\r\n",
      "PravidelnýservispouzeautorizovanýservisŠKODA\n",
      "\r\n",
      "POSKYTUJI100%GARANCIPůVODUANAJETÝCHKILOMETRů-Doloženoservisníknihou,předávacímprotokolem,CEBII!!\n",
      "\r\n",
      "!!!Bojítese,ževpřípaděnečekanéporuchyautabudetemusetsahathlubokodokapsy?\r\n",
      "Uměnemusíte!Můžemesjednatzárukuažna36měsíců,kteráVámkryjenáhléanepředvídatelnévnitřnímechanickéneboelektricképoruchypojištěnéhomotorovéhovozidla!!!\n",
      "\r\n",
      "MÁMKRYTOUPRODEJNUVOLOMOUCI!ProdávámjenvozidlapocházejícízČR,poprvnímmajiteli,seservisníknížkou,sjasnouservisníhistoriíagarancínajetýchkilometrů!VŽDYVíTECOKUPUJETE!\n",
      "\r\n",
      "DoBANKYPROPENÍZENEMUSÍTE!-StačíVámsložitpouze10%zcenyneboVášstarývůznaprotiúčet!\n",
      "\r\n",
      "Proosobníprohlídku,zkušebníjízduavíceinfovolejteprosím-739266184!tomaskadula@seznamcz\n",
      "\r\n",
      "KrytáautoprodejnavOlomouci-Autamámzaparkovanávkrytéprodejně-uměnaVásneprší!\n",
      "\r\n",
      "jsemtadyproVásjiž15let!\n",
      "\r\n",
      "Tatoinzercenenínávrhnauzavřeníkupnísmlouvydlezákona89/2012Sb3558\n"
     ]
    }
   ],
   "source": [
    "add = remove_spaces(add)\n",
    "print(add)"
   ]
  },
  {
   "cell_type": "code",
   "execution_count": 48,
   "id": "f426337c",
   "metadata": {},
   "outputs": [],
   "source": [
    "def get_numbers_from_text(text):\n",
    "    import re\n",
    "    text = remove_spaces(text)\n",
    "    pattern = '[-+]?[.]?[\\d]+(?:,\\d\\d\\d)*[\\.]?\\d*(?:[eE][-+]?\\d+)?'\n",
    "    list_of_numbers = re.findall(pattern, text)\n",
    "    return list_of_numbers"
   ]
  },
  {
   "cell_type": "code",
   "execution_count": 49,
   "id": "c00912f5",
   "metadata": {},
   "outputs": [
    {
     "name": "stdout",
     "output_type": "stream",
     "text": [
      "['000', '000', '14', '1', '000', '24', '000', '000', '2018', '81', '-110', '-107100', '7', '1', '100', '36', '10', '-739266184', '15', '89', '2012', '3558']\n"
     ]
    },
    {
     "data": {
      "text/plain": [
       "str"
      ]
     },
     "execution_count": 49,
     "metadata": {},
     "output_type": "execute_result"
    }
   ],
   "source": [
    "all_numbers = get_numbers_from_text(add)\n",
    "print(all_numbers)\n",
    "type(all_numbers[0])"
   ]
  },
  {
   "cell_type": "code",
   "execution_count": 38,
   "id": "54be05bc",
   "metadata": {},
   "outputs": [],
   "source": [
    "def find_years(numbers):\n",
    "    numbers = [x for x in numbers if (float(x) > 1980) and (float(x) < 2030)]\n",
    "    return numbers"
   ]
  },
  {
   "cell_type": "code",
   "execution_count": 39,
   "id": "9acf9848",
   "metadata": {},
   "outputs": [
    {
     "name": "stdout",
     "output_type": "stream",
     "text": [
      "['2022', '2022', '2015']\n"
     ]
    }
   ],
   "source": [
    "all_years = find_years(all_numbers)\n",
    "print(all_years)"
   ]
  },
  {
   "cell_type": "code",
   "execution_count": 40,
   "id": "31bd4b93",
   "metadata": {},
   "outputs": [
    {
     "data": {
      "text/plain": [
       "str"
      ]
     },
     "execution_count": 40,
     "metadata": {},
     "output_type": "execute_result"
    }
   ],
   "source": [
    "type(all_years[0])"
   ]
  },
  {
   "cell_type": "code",
   "execution_count": 40,
   "id": "5db53de1",
   "metadata": {},
   "outputs": [],
   "source": [
    "def find_km(numbers):\n",
    "    numbers = [x for x in numbers if (float(x) > 3000) and (float(x) < 500000)]\n",
    "    return numbers"
   ]
  },
  {
   "cell_type": "code",
   "execution_count": 41,
   "id": "80f3fa16",
   "metadata": {},
   "outputs": [
    {
     "name": "stdout",
     "output_type": "stream",
     "text": [
      "['92000', '0195566']\n"
     ]
    }
   ],
   "source": [
    "test = find_km(all_numbers)\n",
    "print(test)"
   ]
  },
  {
   "cell_type": "code",
   "execution_count": 42,
   "id": "04624233",
   "metadata": {},
   "outputs": [
    {
     "name": "stdout",
     "output_type": "stream",
     "text": [
      "['2015', '92000']\n"
     ]
    }
   ],
   "source": [
    "def get_context(text, list_of_tokens, year_dictionary, km_dictionary, context_span=20):\n",
    "    import re\n",
    "    context = []\n",
    "    year = 'No match'\n",
    "    km = 'No match'\n",
    "    for token in find_years(list_of_tokens):\n",
    "        all_occurences_indices = [m.start() for m in re.finditer(token, text)]\n",
    "        for index in all_occurences_indices:\n",
    "            left_index = max(index - context_span, 0)\n",
    "            right_index = min(index + context_span, len(text))\n",
    "            substring = text[left_index: right_index].strip()\n",
    "            for s in year_dictionary:\n",
    "                year_find = [m.start() for m in re.finditer(s, substring)]\n",
    "                if len(year_find) > 0:\n",
    "                    year = token\n",
    "    for token in find_km(list_of_tokens):\n",
    "        all_occurences_indices = [m.start() for m in re.finditer(token, text)]\n",
    "        for index in all_occurences_indices:\n",
    "            left_index = max(index - context_span, 0)\n",
    "            right_index = min(index + context_span, len(text))\n",
    "            substring = text[left_index: right_index].strip()\n",
    "            for s in km_dictionary:\n",
    "                km_find = [m.start() for m in re.finditer(s, substring)]\n",
    "                if len(km_find) > 0:\n",
    "                    km = token\n",
    "    return [year, km] #context\n",
    "year_dict = ['egistr', 'rv', 'yrob', 'výrob', 'prov']\n",
    "km_dict = ['km', 'Km', 'KM', 'ilomet', 'ajet', 'ájez', 'achom', 'atoč']\n",
    "context_got = get_context(add, all_numbers, year_dict, km_dict)\n",
    "print(context_got)"
   ]
  },
  {
   "cell_type": "code",
   "execution_count": 52,
   "id": "84d974cc",
   "metadata": {},
   "outputs": [
    {
     "name": "stdout",
     "output_type": "stream",
     "text": [
      "['', '']\n"
     ]
    }
   ],
   "source": [
    "def get_context(text, list_of_tokens, context_span=20):\n",
    "    import re\n",
    "    context = []\n",
    "    for token in list_of_tokens:\n",
    "        all_occurences_indices = [m.start() for m in re.finditer(token, text)]\n",
    "        for index in all_occurences_indices:\n",
    "            left_index = max(index - context_span, 0)\n",
    "            right_index = min(index + context_span, len(text))\n",
    "            substring = text[left_index: right_index].strip()\n",
    "            \n",
    "            if left_index == 0:\n",
    "                substring = ' '.join(substring.split(' ')[:-1])\n",
    "            elif right_index == len(text):\n",
    "                substring = ' '.join(substring.split(' ')[1:])\n",
    "            else:\n",
    "                substring = ' '.join(substring.split(' ')[1:-1])\n",
    "            context.append(substring)\n",
    "    return context\n",
    "context_got = get_context(add, all_years)\n",
    "print(context_got)"
   ]
  },
  {
   "cell_type": "code",
   "execution_count": 54,
   "id": "a42a12b3",
   "metadata": {},
   "outputs": [
    {
     "data": {
      "text/plain": [
       "['76699', '2', '2018', '107604']"
      ]
     },
     "execution_count": 54,
     "metadata": {},
     "output_type": "execute_result"
    }
   ],
   "source": [
    "def find_year_of_manifacture(contexts):\n",
    "    import re\n",
    "    for text in contexts:\n",
    "        test = [m.start() for m in re.finditer('egist', text)]\n",
    "        if len(test) > 0:\n",
    "            year = \n",
    "    return km_number    \n",
    "find_year_of_manifacture(context_got)"
   ]
  },
  {
   "cell_type": "code",
   "execution_count": 51,
   "id": "075165ca",
   "metadata": {},
   "outputs": [
    {
     "data": {
      "text/plain": [
       "['202160']"
      ]
     },
     "execution_count": 51,
     "metadata": {},
     "output_type": "execute_result"
    }
   ],
   "source": [
    "def find_km(contexts):\n",
    "    import re\n",
    "    for text in contexts:\n",
    "        test = [m.start() for m in re.finditer('Km', text)]\n",
    "        if len(test) > 0:\n",
    "            km_number = get_numbers_from_text(text)\n",
    "    return km_number    \n",
    "find_km(context_got)"
   ]
  },
  {
   "cell_type": "code",
   "execution_count": 43,
   "id": "32334055",
   "metadata": {},
   "outputs": [
    {
     "name": "stdout",
     "output_type": "stream",
     "text": [
      "[24]\n",
      "[24]\n",
      "21\n"
     ]
    },
    {
     "ename": "TypeError",
     "evalue": "unsupported operand type(s) for -: 'int' and 'list'",
     "output_type": "error",
     "traceback": [
      "\u001b[1;31m---------------------------------------------------------------------------\u001b[0m",
      "\u001b[1;31mTypeError\u001b[0m                                 Traceback (most recent call last)",
      "\u001b[1;32m~\\AppData\\Local\\Temp/ipykernel_17688/143760977.py\u001b[0m in \u001b[0;36m<module>\u001b[1;34m\u001b[0m\n\u001b[0;32m     30\u001b[0m             \u001b[0mcontext\u001b[0m\u001b[1;33m.\u001b[0m\u001b[0mappend\u001b[0m\u001b[1;33m(\u001b[0m\u001b[0msubstring\u001b[0m\u001b[1;33m)\u001b[0m\u001b[1;33m\u001b[0m\u001b[1;33m\u001b[0m\u001b[0m\n\u001b[0;32m     31\u001b[0m     \u001b[1;32mreturn\u001b[0m \u001b[0mcontext\u001b[0m\u001b[1;33m,\u001b[0m \u001b[0mall_indexes\u001b[0m\u001b[1;33m\u001b[0m\u001b[1;33m\u001b[0m\u001b[0m\n\u001b[1;32m---> 32\u001b[1;33m \u001b[0mget_context\u001b[0m\u001b[1;33m(\u001b[0m\u001b[0madd\u001b[0m\u001b[1;33m,\u001b[0m \u001b[0mall_numbers\u001b[0m\u001b[1;33m)\u001b[0m\u001b[1;33m\u001b[0m\u001b[1;33m\u001b[0m\u001b[0m\n\u001b[0m",
      "\u001b[1;32m~\\AppData\\Local\\Temp/ipykernel_17688/143760977.py\u001b[0m in \u001b[0;36mget_context\u001b[1;34m(text, list_of_tokens, context_span)\u001b[0m\n\u001b[0;32m     17\u001b[0m         \u001b[1;32mfor\u001b[0m \u001b[0mindex\u001b[0m \u001b[1;32min\u001b[0m \u001b[0mall_occurences_indices\u001b[0m\u001b[1;33m:\u001b[0m\u001b[1;33m\u001b[0m\u001b[1;33m\u001b[0m\u001b[0m\n\u001b[0;32m     18\u001b[0m             \u001b[0mprint\u001b[0m\u001b[1;33m(\u001b[0m\u001b[0mindex\u001b[0m\u001b[1;33m)\u001b[0m\u001b[1;33m\u001b[0m\u001b[1;33m\u001b[0m\u001b[0m\n\u001b[1;32m---> 19\u001b[1;33m             \u001b[0mleft_index\u001b[0m \u001b[1;33m=\u001b[0m \u001b[0mmax\u001b[0m\u001b[1;33m(\u001b[0m\u001b[0mmin\u001b[0m\u001b[1;33m(\u001b[0m\u001b[0mindex\u001b[0m \u001b[1;33m-\u001b[0m \u001b[0mcontext_span\u001b[0m\u001b[1;33m,\u001b[0m \u001b[0mindex\u001b[0m \u001b[1;33m-\u001b[0m \u001b[0mall_indexes\u001b[0m\u001b[1;33m[\u001b[0m\u001b[1;33m-\u001b[0m\u001b[1;36m1\u001b[0m\u001b[1;33m]\u001b[0m\u001b[1;33m)\u001b[0m\u001b[1;33m,\u001b[0m \u001b[1;36m0\u001b[0m\u001b[1;33m)\u001b[0m\u001b[1;33m\u001b[0m\u001b[1;33m\u001b[0m\u001b[0m\n\u001b[0m\u001b[0;32m     20\u001b[0m             \u001b[1;31m#left_index = max(index - context_span, 0)\u001b[0m\u001b[1;33m\u001b[0m\u001b[1;33m\u001b[0m\u001b[0m\n\u001b[0;32m     21\u001b[0m             \u001b[0mright_index\u001b[0m \u001b[1;33m=\u001b[0m \u001b[0mmin\u001b[0m\u001b[1;33m(\u001b[0m\u001b[0mindex\u001b[0m \u001b[1;33m+\u001b[0m \u001b[0mcontext_span\u001b[0m\u001b[1;33m,\u001b[0m \u001b[0mlen\u001b[0m\u001b[1;33m(\u001b[0m\u001b[0mtext\u001b[0m\u001b[1;33m)\u001b[0m\u001b[1;33m)\u001b[0m\u001b[1;33m\u001b[0m\u001b[1;33m\u001b[0m\u001b[0m\n",
      "\u001b[1;31mTypeError\u001b[0m: unsupported operand type(s) for -: 'int' and 'list'"
     ]
    }
   ],
   "source": [
    "def get_context(text, list_of_tokens, context_span=20):\n",
    "    import re\n",
    "    context = []\n",
    "    all_indexes = []\n",
    "    for token in list_of_tokens:\n",
    "        all_occurences_indices = [m.start() for m in re.finditer(token, text)]\n",
    "        all_occurences_indices_ends = [m.end() for m in re.finditer(token, text)]\n",
    "        \n",
    "        if len(all_occurences_indices) > 1:\n",
    "            all_occurences_indices = [max(all_occurences_indices)] #have to solve more sophistically\n",
    "        if len(all_occurences_indices_ends) > 1:\n",
    "            all_occurences_indices_ends = [max(all_occurences_indices_ends)]\n",
    "        all_indexes.append(all_occurences_indices_ends)\n",
    "        print(max(all_indexes))\n",
    "        print(all_indexes[-1])\n",
    "        \n",
    "        for index in all_occurences_indices:\n",
    "            print(index)\n",
    "            left_index = max(min(index - context_span, index - all_indexes[-1]), 0)\n",
    "            #left_index = max(index - context_span, 0)\n",
    "            right_index = min(index + context_span, len(text))\n",
    "            substring = text[left_index: right_index].strip()\n",
    "            \n",
    "            if left_index == 0:\n",
    "                substring = ' '.join(substring.split(' ')[:-1])\n",
    "            elif right_index == len(text):\n",
    "                substring = ' '.join(substring.split(' ')[1:])\n",
    "            else:\n",
    "                substring = ' '.join(substring.split(' ')[1:-1])\n",
    "            context.append(substring)\n",
    "    return context, all_indexes\n",
    "get_context(add, all_numbers)"
   ]
  }
 ],
 "metadata": {
  "kernelspec": {
   "display_name": "Python 3 (ipykernel)",
   "language": "python",
   "name": "python3"
  },
  "language_info": {
   "codemirror_mode": {
    "name": "ipython",
    "version": 3
   },
   "file_extension": ".py",
   "mimetype": "text/x-python",
   "name": "python",
   "nbconvert_exporter": "python",
   "pygments_lexer": "ipython3",
   "version": "3.9.7"
  }
 },
 "nbformat": 4,
 "nbformat_minor": 5
}
