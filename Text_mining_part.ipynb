{
 "cells": [
  {
   "cell_type": "markdown",
   "id": "8ca7cfce",
   "metadata": {},
   "source": [
    "<h1><center> Text mining part </center></h1>"
   ]
  },
  {
   "cell_type": "code",
   "execution_count": 3,
   "id": "8c2781eb",
   "metadata": {},
   "outputs": [],
   "source": [
    "import requests\n",
    "from bs4 import BeautifulSoup"
   ]
  },
  {
   "cell_type": "code",
   "execution_count": 5,
   "id": "c78e212c",
   "metadata": {},
   "outputs": [],
   "source": [
    "add_page = requests.get('https://auto.bazos.cz/inzerat/152169281/volkswagen-golf-plus-19-tdibez-dpf-filtru77-kw.php')"
   ]
  },
  {
   "cell_type": "code",
   "execution_count": 6,
   "id": "05e0b656",
   "metadata": {},
   "outputs": [],
   "source": [
    "soup_add = BeautifulSoup(add_page.text, 'html')"
   ]
  },
  {
   "cell_type": "code",
   "execution_count": 15,
   "id": "934e3233",
   "metadata": {},
   "outputs": [
    {
     "name": "stdout",
     "output_type": "stream",
     "text": [
      "Volkswagen Golf Plus 1.9 TDi,výkon 77 Kw-NÍZKA SPOTŘEBA.Originál z výroby bez DPF filtru.Stav poctivě najetých kilometrů je 202160 Km-pravost kilometrů doložím.Lak vozidla je bez kosmetických vad,zachovalý NEKUŘÁCKÝ interiér viz foto-více foto zašlu na email.Rok 2006-při přihlášení vozidla se platí pouze 800 Kč.BYLA PROVEDENA KONTROLA V AUTOSERVISU-podvozkově a mechanicky vše v pořádku.Zadní sedačky s odkládacími stolečky a ISOFIXY.Bez koroze.16 ALU kola,zachovalé pneu (vzorek cca 70 %).STK platná do 10/2023.\r\n",
      "Výbava:TAŽNÉ ZAŘÍZENÍ,ZADNÍ INDIKÁTOR PARKOVÁNÍ,TEMPOMAT,Dvouzonová digitální klimatizace,ABS, ESP, Protiprokluzový systém kol (ASR),\r\n",
      "Centrální zamykání, Dálkové centrální zamykání,El. ovládání oken, El. ovládání zrcátek, Posilovač řízení,Autorádio, Palubní počítač,\n"
     ]
    }
   ],
   "source": [
    "add = soup_add.find('div', {'class':'popisdetail'}).get_text()\n",
    "print(add)"
   ]
  },
  {
   "cell_type": "code",
   "execution_count": 14,
   "id": "e6f349d7",
   "metadata": {},
   "outputs": [
    {
     "name": "stdout",
     "output_type": "stream",
     "text": [
      "Volkswagen Golf Plus 1.9 TDi,výkon 77 Kw-NÍZKA SPOTŘEBA.Originál z výroby bez DPF filtru.Stav poctivě najetých kilometrů je 202160 Km-pravost kilometrů doložím.Lak vozidla je bez kosmetických vad,zachovalý NEKUŘÁCKÝ interiér viz foto-více foto zašlu na email.Rok 2006-při přihlášení vozidla se platí pouze 800 Kč.BYLA PROVEDENA KONTROLA V AUTOSERVISU-podvozkově a mechanicky vše v pořádku.Zadní sedačky s odkládacími stolečky a ISOFIXY.Bez koroze.16 ALU kola,zachovalé pneu (vzorek cca 70 %).STK platná do 10/2023.\r\n",
      "Výbava:TAŽNÉ ZAŘÍZENÍ,ZADNÍ INDIKÁTOR PARKOVÁNÍ,TEMPOMAT,Dvouzonová digitální klimatizace,ABS, ESP, Protiprokluzový systém kol (ASR),\r\n",
      "Centrální zamykání, Dálkové centrální zamykání,El. ovládání oken, El. ovládání zrcátek, Posilovač řízení,Autorádio, Palubní počítač,\n"
     ]
    }
   ],
   "source": [
    "print(soup_add.find('div', {'class':'popisdetail'}).get_text())"
   ]
  },
  {
   "cell_type": "code",
   "execution_count": 8,
   "id": "c6a1f562",
   "metadata": {},
   "outputs": [],
   "source": [
    "def get_numbers_from_text(text):\n",
    "    import re\n",
    "    pattern = '[-+]?[.]?[\\d]+(?:,\\d\\d\\d)*[\\.]?\\d*(?:[eE][-+]?\\d+)?'\n",
    "    list_of_numbers = re.findall(pattern, text)\n",
    "    return list_of_numbers"
   ]
  },
  {
   "cell_type": "code",
   "execution_count": 18,
   "id": "57c99105",
   "metadata": {},
   "outputs": [
    {
     "name": "stdout",
     "output_type": "stream",
     "text": [
      "['1.9', '77', '202160', '2006', '800', '.16', '70', '10', '2023.']\n"
     ]
    }
   ],
   "source": [
    "all_numbers = get_numbers_from_text(add)\n",
    "print(all_numbers)"
   ]
  },
  {
   "cell_type": "code",
   "execution_count": 45,
   "id": "71ee2245",
   "metadata": {},
   "outputs": [
    {
     "name": "stdout",
     "output_type": "stream",
     "text": [
      "['Golf Plus 1.9 TDi,výkon 77', '1.9 TDi,výkon 77 Kw-NÍZKA', 'kilometrů je 202160 Km-pravost', 'na email.Rok 2006-při', 'se platí pouze 800 Kč.BYLA', 'kilometrů je 202160 Km-pravost', 'ISOFIXY.Bez koroze.16 ALU', 'pneu (vzorek cca 70 %).STK platná', '%).STK platná do', 'platná do']\n"
     ]
    }
   ],
   "source": [
    "def get_context(text, list_of_tokens, context_span=20):\n",
    "    import re\n",
    "    context = []\n",
    "    for token in list_of_tokens:\n",
    "        all_occurences_indices = [m.start() for m in re.finditer(token, text)]\n",
    "        for index in all_occurences_indices:\n",
    "            left_index = max(index - context_span, 0)\n",
    "            right_index = min(index + context_span, len(text))\n",
    "            substring = text[left_index: right_index].strip()\n",
    "            \n",
    "            if left_index == 0:\n",
    "                substring = ' '.join(substring.split(' ')[:-1])\n",
    "            elif right_index == len(text):\n",
    "                substring = ' '.join(substring.split(' ')[1:])\n",
    "            else:\n",
    "                substring = ' '.join(substring.split(' ')[1:-1])\n",
    "            context.append(substring)\n",
    "    return context\n",
    "context_got = get_context(add, all_numbers)\n",
    "print(context_got)"
   ]
  },
  {
   "cell_type": "code",
   "execution_count": 51,
   "id": "a359fd1b",
   "metadata": {},
   "outputs": [
    {
     "data": {
      "text/plain": [
       "['202160']"
      ]
     },
     "execution_count": 51,
     "metadata": {},
     "output_type": "execute_result"
    }
   ],
   "source": [
    "def find_km(contexts):\n",
    "    import re\n",
    "    for text in contexts:\n",
    "        test = [m.start() for m in re.finditer('Km', text)]\n",
    "        if len(test) > 0:\n",
    "            km_number = get_numbers_from_text(text)\n",
    "    return km_number    \n",
    "find_km(context_got)"
   ]
  },
  {
   "cell_type": "code",
   "execution_count": 43,
   "id": "10f44f4f",
   "metadata": {},
   "outputs": [
    {
     "name": "stdout",
     "output_type": "stream",
     "text": [
      "[24]\n",
      "[24]\n",
      "21\n"
     ]
    },
    {
     "ename": "TypeError",
     "evalue": "unsupported operand type(s) for -: 'int' and 'list'",
     "output_type": "error",
     "traceback": [
      "\u001b[1;31m---------------------------------------------------------------------------\u001b[0m",
      "\u001b[1;31mTypeError\u001b[0m                                 Traceback (most recent call last)",
      "\u001b[1;32m~\\AppData\\Local\\Temp/ipykernel_17688/143760977.py\u001b[0m in \u001b[0;36m<module>\u001b[1;34m\u001b[0m\n\u001b[0;32m     30\u001b[0m             \u001b[0mcontext\u001b[0m\u001b[1;33m.\u001b[0m\u001b[0mappend\u001b[0m\u001b[1;33m(\u001b[0m\u001b[0msubstring\u001b[0m\u001b[1;33m)\u001b[0m\u001b[1;33m\u001b[0m\u001b[1;33m\u001b[0m\u001b[0m\n\u001b[0;32m     31\u001b[0m     \u001b[1;32mreturn\u001b[0m \u001b[0mcontext\u001b[0m\u001b[1;33m,\u001b[0m \u001b[0mall_indexes\u001b[0m\u001b[1;33m\u001b[0m\u001b[1;33m\u001b[0m\u001b[0m\n\u001b[1;32m---> 32\u001b[1;33m \u001b[0mget_context\u001b[0m\u001b[1;33m(\u001b[0m\u001b[0madd\u001b[0m\u001b[1;33m,\u001b[0m \u001b[0mall_numbers\u001b[0m\u001b[1;33m)\u001b[0m\u001b[1;33m\u001b[0m\u001b[1;33m\u001b[0m\u001b[0m\n\u001b[0m",
      "\u001b[1;32m~\\AppData\\Local\\Temp/ipykernel_17688/143760977.py\u001b[0m in \u001b[0;36mget_context\u001b[1;34m(text, list_of_tokens, context_span)\u001b[0m\n\u001b[0;32m     17\u001b[0m         \u001b[1;32mfor\u001b[0m \u001b[0mindex\u001b[0m \u001b[1;32min\u001b[0m \u001b[0mall_occurences_indices\u001b[0m\u001b[1;33m:\u001b[0m\u001b[1;33m\u001b[0m\u001b[1;33m\u001b[0m\u001b[0m\n\u001b[0;32m     18\u001b[0m             \u001b[0mprint\u001b[0m\u001b[1;33m(\u001b[0m\u001b[0mindex\u001b[0m\u001b[1;33m)\u001b[0m\u001b[1;33m\u001b[0m\u001b[1;33m\u001b[0m\u001b[0m\n\u001b[1;32m---> 19\u001b[1;33m             \u001b[0mleft_index\u001b[0m \u001b[1;33m=\u001b[0m \u001b[0mmax\u001b[0m\u001b[1;33m(\u001b[0m\u001b[0mmin\u001b[0m\u001b[1;33m(\u001b[0m\u001b[0mindex\u001b[0m \u001b[1;33m-\u001b[0m \u001b[0mcontext_span\u001b[0m\u001b[1;33m,\u001b[0m \u001b[0mindex\u001b[0m \u001b[1;33m-\u001b[0m \u001b[0mall_indexes\u001b[0m\u001b[1;33m[\u001b[0m\u001b[1;33m-\u001b[0m\u001b[1;36m1\u001b[0m\u001b[1;33m]\u001b[0m\u001b[1;33m)\u001b[0m\u001b[1;33m,\u001b[0m \u001b[1;36m0\u001b[0m\u001b[1;33m)\u001b[0m\u001b[1;33m\u001b[0m\u001b[1;33m\u001b[0m\u001b[0m\n\u001b[0m\u001b[0;32m     20\u001b[0m             \u001b[1;31m#left_index = max(index - context_span, 0)\u001b[0m\u001b[1;33m\u001b[0m\u001b[1;33m\u001b[0m\u001b[0m\n\u001b[0;32m     21\u001b[0m             \u001b[0mright_index\u001b[0m \u001b[1;33m=\u001b[0m \u001b[0mmin\u001b[0m\u001b[1;33m(\u001b[0m\u001b[0mindex\u001b[0m \u001b[1;33m+\u001b[0m \u001b[0mcontext_span\u001b[0m\u001b[1;33m,\u001b[0m \u001b[0mlen\u001b[0m\u001b[1;33m(\u001b[0m\u001b[0mtext\u001b[0m\u001b[1;33m)\u001b[0m\u001b[1;33m)\u001b[0m\u001b[1;33m\u001b[0m\u001b[1;33m\u001b[0m\u001b[0m\n",
      "\u001b[1;31mTypeError\u001b[0m: unsupported operand type(s) for -: 'int' and 'list'"
     ]
    }
   ],
   "source": [
    "def get_context(text, list_of_tokens, context_span=20):\n",
    "    import re\n",
    "    context = []\n",
    "    all_indexes = []\n",
    "    for token in list_of_tokens:\n",
    "        all_occurences_indices = [m.start() for m in re.finditer(token, text)]\n",
    "        all_occurences_indices_ends = [m.end() for m in re.finditer(token, text)]\n",
    "        \n",
    "        if len(all_occurences_indices) > 1:\n",
    "            all_occurences_indices = [max(all_occurences_indices)] #have to solve more sophistically\n",
    "        if len(all_occurences_indices_ends) > 1:\n",
    "            all_occurences_indices_ends = [max(all_occurences_indices_ends)]\n",
    "        all_indexes.append(all_occurences_indices_ends)\n",
    "        print(max(all_indexes))\n",
    "        print(all_indexes[-1])\n",
    "        \n",
    "        for index in all_occurences_indices:\n",
    "            print(index)\n",
    "            left_index = max(min(index - context_span, index - all_indexes[-1]), 0)\n",
    "            #left_index = max(index - context_span, 0)\n",
    "            right_index = min(index + context_span, len(text))\n",
    "            substring = text[left_index: right_index].strip()\n",
    "            \n",
    "            if left_index == 0:\n",
    "                substring = ' '.join(substring.split(' ')[:-1])\n",
    "            elif right_index == len(text):\n",
    "                substring = ' '.join(substring.split(' ')[1:])\n",
    "            else:\n",
    "                substring = ' '.join(substring.split(' ')[1:-1])\n",
    "            context.append(substring)\n",
    "    return context, all_indexes\n",
    "get_context(add, all_numbers)"
   ]
  }
 ],
 "metadata": {
  "kernelspec": {
   "display_name": "Python 3 (ipykernel)",
   "language": "python",
   "name": "python3"
  },
  "language_info": {
   "codemirror_mode": {
    "name": "ipython",
    "version": 3
   },
   "file_extension": ".py",
   "mimetype": "text/x-python",
   "name": "python",
   "nbconvert_exporter": "python",
   "pygments_lexer": "ipython3",
   "version": "3.9.7"
  }
 },
 "nbformat": 4,
 "nbformat_minor": 5
}
