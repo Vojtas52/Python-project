{
 "cells": [
  {
   "cell_type": "markdown",
   "id": "f6cebc63",
   "metadata": {},
   "source": [
    "<h1><center> Text mining part </center></h1>"
   ]
  },
  {
   "cell_type": "code",
   "execution_count": 1,
   "id": "2c0c56e3",
   "metadata": {},
   "outputs": [],
   "source": [
    "import requests\n",
    "from bs4 import BeautifulSoup"
   ]
  },
  {
   "cell_type": "code",
   "execution_count": 75,
   "id": "2fe3ac69",
   "metadata": {},
   "outputs": [
    {
     "data": {
      "text/plain": [
       "[['https://auto.bazos.cz/inzerat/157012769/vw-golf-7-20tdi-110kw-107tkm-plna-zaruka-2-roky-zdarma.php',\n",
       "  '2018',\n",
       "  '107604'],\n",
       " ['https://auto.bazos.cz/inzerat/156954743/skoda-octavia-3dsg-20-tdi.php',\n",
       "  '2013',\n",
       "  '207000']]"
      ]
     },
     "execution_count": 75,
     "metadata": {},
     "output_type": "execute_result"
    }
   ],
   "source": [
    "def remove_spaces(text):\n",
    "    return text.replace(\" \", \"\")\n",
    "def get_numbers_from_text(text):\n",
    "    import re\n",
    "    text = remove_spaces(text)\n",
    "    pattern = '[-+]?[.]?[\\d]+(?:,\\d\\d\\d)*[\\.]?\\d*(?:[eE][-+]?\\d+)?'\n",
    "    list_of_numbers = re.findall(pattern, text)\n",
    "    return list_of_numbers\n",
    "def find_years(numbers):\n",
    "    numbers = [x for x in numbers if (float(x) > 1980) and (float(x) < 2030)]\n",
    "    return numbers\n",
    "def find_km(numbers):\n",
    "    numbers = [x for x in numbers if (float(x) > 3000) and (float(x) < 500000)]\n",
    "    return numbers\n",
    "def get_context(text, list_of_tokens, year_dictionary = ['egistr', 'r.v', 'vyrob', 'výrob', 'prov'], km_dictionary = ['km', 'Km', 'KM', 'ilomet', 'ajet', 'ájez', 'achom', 'atoč'], context_span=20):\n",
    "    import re\n",
    "    context = []\n",
    "    year = 'No match'\n",
    "    km = 'No match'\n",
    "    for token in find_years(list_of_tokens):\n",
    "        all_occurences_indices = [m.start() for m in re.finditer(token, text)]\n",
    "        for index in all_occurences_indices:\n",
    "            left_index = max(index - context_span, 0)\n",
    "            right_index = min(index + context_span, len(text))\n",
    "            substring = text[left_index: right_index].strip()\n",
    "            for s in year_dictionary:\n",
    "                year_find = [m.start() for m in re.finditer(s, substring)]\n",
    "                if len(year_find) > 0:\n",
    "                    year = token\n",
    "    for token in find_km(list_of_tokens):\n",
    "        all_occurences_indices = [m.start() for m in re.finditer(token, text)]\n",
    "        for index in all_occurences_indices:\n",
    "            left_index = max(index - context_span, 0)\n",
    "            right_index = min(index + context_span, len(text))\n",
    "            substring = text[left_index: right_index].strip()\n",
    "            for s in km_dictionary:\n",
    "                km_find = [m.start() for m in re.finditer(s, substring)]\n",
    "                if len(km_find) > 0:\n",
    "                    km = token\n",
    "    return [year, km]\n",
    "def get_info(links):\n",
    "    results = []\n",
    "    for i in links:\n",
    "        add_page = requests.get(i)\n",
    "        soup_add = BeautifulSoup(add_page.text, 'html')\n",
    "        add = remove_spaces(soup_add.find('div', {'class':'popisdetail'}).get_text())\n",
    "        all_numbers = get_numbers_from_text(add)\n",
    "        context_got = get_context(add, all_numbers)\n",
    "        result = [i, context_got[0], context_got[1]]\n",
    "        results.append(result)\n",
    "    return results\n",
    "link = ['https://auto.bazos.cz/inzerat/157012769/vw-golf-7-20tdi-110kw-107tkm-plna-zaruka-2-roky-zdarma.php', 'https://auto.bazos.cz/inzerat/156954743/skoda-octavia-3dsg-20-tdi.php']\n",
    "get_info(link)"
   ]
  }
 ],
 "metadata": {
  "kernelspec": {
   "display_name": "Python 3 (ipykernel)",
   "language": "python",
   "name": "python3"
  },
  "language_info": {
   "codemirror_mode": {
    "name": "ipython",
    "version": 3
   },
   "file_extension": ".py",
   "mimetype": "text/x-python",
   "name": "python",
   "nbconvert_exporter": "python",
   "pygments_lexer": "ipython3",
   "version": "3.9.7"
  }
 },
 "nbformat": 4,
 "nbformat_minor": 5
}
