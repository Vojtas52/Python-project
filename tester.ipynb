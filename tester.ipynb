{
 "cells": [
  {
   "cell_type": "code",
   "execution_count": 1,
   "id": "11e91195",
   "metadata": {},
   "outputs": [],
   "source": [
    "from flask import Flask"
   ]
  },
  {
   "cell_type": "code",
   "execution_count": 2,
   "id": "faf17ac9",
   "metadata": {},
   "outputs": [
    {
     "name": "stdout",
     "output_type": "stream",
     "text": [
      "Package              Version\n",
      "-------------------- -----------\n",
      "anyio                3.6.1\n",
      "appnope              0.1.3\n",
      "argon2-cffi          21.3.0\n",
      "argon2-cffi-bindings 21.2.0\n",
      "asttokens            2.0.7\n",
      "attrs                22.1.0\n",
      "Babel                2.10.3\n",
      "backcall             0.2.0\n",
      "beautifulsoup4       4.11.1\n",
      "bleach               5.0.1\n",
      "certifi              2022.6.15\n",
      "cffi                 1.15.1\n",
      "charset-normalizer   2.1.0\n",
      "click                8.1.3\n",
      "cycler               0.11.0\n",
      "debugpy              1.6.2\n",
      "decorator            5.1.1\n",
      "defusedxml           0.7.1\n",
      "entrypoints          0.4\n",
      "executing            0.9.1\n",
      "fastjsonschema       2.16.1\n",
      "Flask                2.2.2\n",
      "fonttools            4.37.1\n",
      "idna                 3.3\n",
      "ipykernel            6.15.1\n",
      "ipython              8.4.0\n",
      "ipython-genutils     0.2.0\n",
      "itsdangerous         2.1.2\n",
      "jedi                 0.18.1\n",
      "Jinja2               3.1.2\n",
      "json5                0.9.9\n",
      "jsonschema           4.9.1\n",
      "jupyter_client       7.3.4\n",
      "jupyter-console      6.4.4\n",
      "jupyter_core         4.11.1\n",
      "jupyter-server       1.18.1\n",
      "jupyterlab           3.4.5\n",
      "jupyterlab-pygments  0.2.2\n",
      "jupyterlab_server    2.15.0\n",
      "kiwisolver           1.4.4\n",
      "lxml                 4.9.1\n",
      "MarkupSafe           2.1.1\n",
      "matplotlib           3.5.3\n",
      "matplotlib-inline    0.1.3\n",
      "mistune              0.8.4\n",
      "nbclassic            0.4.3\n",
      "nbclient             0.6.6\n",
      "nbconvert            6.5.3\n",
      "nbformat             5.4.0\n",
      "nest-asyncio         1.5.5\n",
      "notebook             6.4.12\n",
      "notebook-shim        0.1.0\n",
      "numpy                1.23.2\n",
      "packaging            21.3\n",
      "pandas               1.4.3\n",
      "pandocfilters        1.5.0\n",
      "parso                0.8.3\n",
      "pexpect              4.8.0\n",
      "pickleshare          0.7.5\n",
      "Pillow               9.2.0\n",
      "pip                  22.2.2\n",
      "prometheus-client    0.14.1\n",
      "prompt-toolkit       3.0.30\n",
      "psutil               5.9.1\n",
      "ptyprocess           0.7.0\n",
      "pure-eval            0.2.2\n",
      "pycparser            2.21\n",
      "Pygments             2.12.0\n",
      "pyparsing            3.0.9\n",
      "pyrsistent           0.18.1\n",
      "python-dateutil      2.8.2\n",
      "pytz                 2022.2\n",
      "pyzmq                23.2.0\n",
      "requests             2.28.1\n",
      "Send2Trash           1.8.0\n",
      "setuptools           63.4.3\n",
      "six                  1.16.0\n",
      "sniffio              1.2.0\n",
      "soupsieve            2.3.2.post1\n",
      "stack-data           0.3.0\n",
      "terminado            0.15.0\n",
      "tinycss2             1.1.1\n",
      "tornado              6.2\n",
      "traitlets            5.3.0\n",
      "urllib3              1.26.11\n",
      "wcwidth              0.2.5\n",
      "webencodings         0.5.1\n",
      "websocket-client     1.3.3\n",
      "Werkzeug             2.2.2\n",
      "wheel                0.37.1\n",
      "Note: you may need to restart the kernel to use updated packages.\n"
     ]
    }
   ],
   "source": [
    "pip list"
   ]
  },
  {
   "cell_type": "code",
   "execution_count": null,
   "id": "cb82c832",
   "metadata": {},
   "outputs": [],
   "source": [
    "import "
   ]
  },
  {
   "cell_type": "code",
   "execution_count": null,
   "id": "c203ab96",
   "metadata": {},
   "outputs": [],
   "source": [
    "export FLASK_APP=__main__.py\n",
    "flask run"
   ]
  },
  {
   "cell_type": "code",
   "execution_count": null,
   "id": "a2f1365f",
   "metadata": {},
   "outputs": [],
   "source": []
  }
 ],
 "metadata": {
  "kernelspec": {
   "display_name": "Python 3 (ipykernel)",
   "language": "python",
   "name": "python3"
  },
  "language_info": {
   "codemirror_mode": {
    "name": "ipython",
    "version": 3
   },
   "file_extension": ".py",
   "mimetype": "text/x-python",
   "name": "python",
   "nbconvert_exporter": "python",
   "pygments_lexer": "ipython3",
   "version": "3.10.6"
  }
 },
 "nbformat": 4,
 "nbformat_minor": 5
}
