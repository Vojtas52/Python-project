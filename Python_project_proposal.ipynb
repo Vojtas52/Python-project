{
 "cells": [
  {
   "cell_type": "markdown",
   "id": "5a3d543d",
   "metadata": {},
   "source": [
    "<h1><center> Python project proposal </center></h1>\n",
    "<h2><center>Current car prices from bazos.cz</center></h2>\n",
    "<h3><center>Daniel Brosko, Vojtěch Suchánek</center></h3>\n",
    "\n",
    "Our goal is to web-scrape advertisements listed on website bazos.cz, which is currently one of the most used websites for selling used cars in Czech republic. It has more than 15 000 car adds daily. On the other hand, it has really poor search options, which pretty much complicates searching for desired car based on your parameters.\n",
    "\n",
    "We are going to code algorithm, which will scan adds for the current day, pick those, which fulfill our conditions on date and car type and save their links. Then we will go to each link and save the text of the add. Then we will try to analyze the text of the add to find our parameters. In the end, we will perform some visualizations of distribution of price and selected parameters and try to select some underprices offers.\n",
    "\n",
    "This task might be better to perform continuouslly, for example each hour, to not overload the website. This approach might also allow for longer time period to analyze the data. But since this project should be designed as one-time run, we decided to limit the data to only current date."
   ]
  },
  {
   "cell_type": "code",
   "execution_count": 49,
   "id": "22d614ae",
   "metadata": {},
   "outputs": [],
   "source": [
    "import requests\n",
    "from bs4 import BeautifulSoup\n",
    "import re\n",
    "from datetime import date\n",
    "from datetime import datetime\n",
    "import time\n",
    "import numpy as np\n",
    "import pandas as pd"
   ]
  },
  {
   "cell_type": "code",
   "execution_count": 51,
   "id": "22ebbd09",
   "metadata": {},
   "outputs": [],
   "source": [
    "# Just to get the version of packages for requirements.txt\n",
    "#pip list"
   ]
  },
  {
   "cell_type": "code",
   "execution_count": 18,
   "id": "988784bf",
   "metadata": {},
   "outputs": [],
   "source": [
    "bots = requests.get('https://auto.bazos.cz/robots.txt')\n",
    "#print(bots.text)"
   ]
  },
  {
   "cell_type": "markdown",
   "id": "8887d0ee",
   "metadata": {},
   "source": [
    "From the robots page we can see that our actions done in our projects are allowed, since we are not gonna use these search commands."
   ]
  },
  {
   "cell_type": "markdown",
   "id": "f3d424b1",
   "metadata": {},
   "source": [
    "Here we will get the main page from car section of bazos."
   ]
  },
  {
   "cell_type": "code",
   "execution_count": 19,
   "id": "f9eff4be",
   "metadata": {
    "scrolled": true
   },
   "outputs": [
    {
     "name": "stdout",
     "output_type": "stream",
     "text": [
      "['https://auto.bazos.cz/0/?hledat=octávia+3&hlokalita=&humkreis=25&cenaod=&cenado=&order=', 'https://auto.bazos.cz/20/?hledat=octávia+3&hlokalita=&humkreis=25&cenaod=&cenado=&order=', 'https://auto.bazos.cz/40/?hledat=octávia+3&hlokalita=&humkreis=25&cenaod=&cenado=&order=', 'https://auto.bazos.cz/60/?hledat=octávia+3&hlokalita=&humkreis=25&cenaod=&cenado=&order=', 'https://auto.bazos.cz/80/?hledat=octávia+3&hlokalita=&humkreis=25&cenaod=&cenado=&order=', 'https://auto.bazos.cz/100/?hledat=octávia+3&hlokalita=&humkreis=25&cenaod=&cenado=&order=', 'https://auto.bazos.cz/120/?hledat=octávia+3&hlokalita=&humkreis=25&cenaod=&cenado=&order=', 'https://auto.bazos.cz/140/?hledat=octávia+3&hlokalita=&humkreis=25&cenaod=&cenado=&order=', 'https://auto.bazos.cz/160/?hledat=octávia+3&hlokalita=&humkreis=25&cenaod=&cenado=&order=', 'https://auto.bazos.cz/180/?hledat=octávia+3&hlokalita=&humkreis=25&cenaod=&cenado=&order=', 'https://auto.bazos.cz/200/?hledat=octávia+3&hlokalita=&humkreis=25&cenaod=&cenado=&order=', 'https://auto.bazos.cz/220/?hledat=octávia+3&hlokalita=&humkreis=25&cenaod=&cenado=&order=', 'https://auto.bazos.cz/240/?hledat=octávia+3&hlokalita=&humkreis=25&cenaod=&cenado=&order=', 'https://auto.bazos.cz/260/?hledat=octávia+3&hlokalita=&humkreis=25&cenaod=&cenado=&order=', 'https://auto.bazos.cz/280/?hledat=octávia+3&hlokalita=&humkreis=25&cenaod=&cenado=&order=', 'https://auto.bazos.cz/300/?hledat=octávia+3&hlokalita=&humkreis=25&cenaod=&cenado=&order=', 'https://auto.bazos.cz/320/?hledat=octávia+3&hlokalita=&humkreis=25&cenaod=&cenado=&order=', 'https://auto.bazos.cz/340/?hledat=octávia+3&hlokalita=&humkreis=25&cenaod=&cenado=&order=', 'https://auto.bazos.cz/360/?hledat=octávia+3&hlokalita=&humkreis=25&cenaod=&cenado=&order=', 'https://auto.bazos.cz/380/?hledat=octávia+3&hlokalita=&humkreis=25&cenaod=&cenado=&order=', 'https://auto.bazos.cz/400/?hledat=octávia+3&hlokalita=&humkreis=25&cenaod=&cenado=&order=', 'https://auto.bazos.cz/420/?hledat=octávia+3&hlokalita=&humkreis=25&cenaod=&cenado=&order=', 'https://auto.bazos.cz/440/?hledat=octávia+3&hlokalita=&humkreis=25&cenaod=&cenado=&order=', 'https://auto.bazos.cz/460/?hledat=octávia+3&hlokalita=&humkreis=25&cenaod=&cenado=&order=', 'https://auto.bazos.cz/480/?hledat=octávia+3&hlokalita=&humkreis=25&cenaod=&cenado=&order=', 'https://auto.bazos.cz/500/?hledat=octávia+3&hlokalita=&humkreis=25&cenaod=&cenado=&order=', 'https://auto.bazos.cz/520/?hledat=octávia+3&hlokalita=&humkreis=25&cenaod=&cenado=&order=', 'https://auto.bazos.cz/540/?hledat=octávia+3&hlokalita=&humkreis=25&cenaod=&cenado=&order=', 'https://auto.bazos.cz/560/?hledat=octávia+3&hlokalita=&humkreis=25&cenaod=&cenado=&order=', 'https://auto.bazos.cz/580/?hledat=octávia+3&hlokalita=&humkreis=25&cenaod=&cenado=&order=', 'https://auto.bazos.cz/600/?hledat=octávia+3&hlokalita=&humkreis=25&cenaod=&cenado=&order=', 'https://auto.bazos.cz/620/?hledat=octávia+3&hlokalita=&humkreis=25&cenaod=&cenado=&order=', 'https://auto.bazos.cz/640/?hledat=octávia+3&hlokalita=&humkreis=25&cenaod=&cenado=&order=', 'https://auto.bazos.cz/660/?hledat=octávia+3&hlokalita=&humkreis=25&cenaod=&cenado=&order=', 'https://auto.bazos.cz/680/?hledat=octávia+3&hlokalita=&humkreis=25&cenaod=&cenado=&order=', 'https://auto.bazos.cz/700/?hledat=octávia+3&hlokalita=&humkreis=25&cenaod=&cenado=&order=', 'https://auto.bazos.cz/720/?hledat=octávia+3&hlokalita=&humkreis=25&cenaod=&cenado=&order=', 'https://auto.bazos.cz/740/?hledat=octávia+3&hlokalita=&humkreis=25&cenaod=&cenado=&order=', 'https://auto.bazos.cz/760/?hledat=octávia+3&hlokalita=&humkreis=25&cenaod=&cenado=&order=', 'https://auto.bazos.cz/780/?hledat=octávia+3&hlokalita=&humkreis=25&cenaod=&cenado=&order=', 'https://auto.bazos.cz/800/?hledat=octávia+3&hlokalita=&humkreis=25&cenaod=&cenado=&order=', 'https://auto.bazos.cz/820/?hledat=octávia+3&hlokalita=&humkreis=25&cenaod=&cenado=&order=', 'https://auto.bazos.cz/840/?hledat=octávia+3&hlokalita=&humkreis=25&cenaod=&cenado=&order=', 'https://auto.bazos.cz/860/?hledat=octávia+3&hlokalita=&humkreis=25&cenaod=&cenado=&order=', 'https://auto.bazos.cz/880/?hledat=octávia+3&hlokalita=&humkreis=25&cenaod=&cenado=&order=', 'https://auto.bazos.cz/900/?hledat=octávia+3&hlokalita=&humkreis=25&cenaod=&cenado=&order=', 'https://auto.bazos.cz/920/?hledat=octávia+3&hlokalita=&humkreis=25&cenaod=&cenado=&order=', 'https://auto.bazos.cz/940/?hledat=octávia+3&hlokalita=&humkreis=25&cenaod=&cenado=&order=', 'https://auto.bazos.cz/960/?hledat=octávia+3&hlokalita=&humkreis=25&cenaod=&cenado=&order=', 'https://auto.bazos.cz/980/?hledat=octávia+3&hlokalita=&humkreis=25&cenaod=&cenado=&order=', 'https://auto.bazos.cz/1000/?hledat=octávia+3&hlokalita=&humkreis=25&cenaod=&cenado=&order=', 'https://auto.bazos.cz/1020/?hledat=octávia+3&hlokalita=&humkreis=25&cenaod=&cenado=&order=', 'https://auto.bazos.cz/1040/?hledat=octávia+3&hlokalita=&humkreis=25&cenaod=&cenado=&order=', 'https://auto.bazos.cz/1060/?hledat=octávia+3&hlokalita=&humkreis=25&cenaod=&cenado=&order=', 'https://auto.bazos.cz/1080/?hledat=octávia+3&hlokalita=&humkreis=25&cenaod=&cenado=&order=', 'https://auto.bazos.cz/1100/?hledat=octávia+3&hlokalita=&humkreis=25&cenaod=&cenado=&order=', 'https://auto.bazos.cz/1120/?hledat=octávia+3&hlokalita=&humkreis=25&cenaod=&cenado=&order=', 'https://auto.bazos.cz/1140/?hledat=octávia+3&hlokalita=&humkreis=25&cenaod=&cenado=&order=', 'https://auto.bazos.cz/1160/?hledat=octávia+3&hlokalita=&humkreis=25&cenaod=&cenado=&order=', 'https://auto.bazos.cz/1180/?hledat=octávia+3&hlokalita=&humkreis=25&cenaod=&cenado=&order=', 'https://auto.bazos.cz/1200/?hledat=octávia+3&hlokalita=&humkreis=25&cenaod=&cenado=&order=', 'https://auto.bazos.cz/1220/?hledat=octávia+3&hlokalita=&humkreis=25&cenaod=&cenado=&order=', 'https://auto.bazos.cz/1240/?hledat=octávia+3&hlokalita=&humkreis=25&cenaod=&cenado=&order=', 'https://auto.bazos.cz/1260/?hledat=octávia+3&hlokalita=&humkreis=25&cenaod=&cenado=&order=', 'https://auto.bazos.cz/1280/?hledat=octávia+3&hlokalita=&humkreis=25&cenaod=&cenado=&order=', 'https://auto.bazos.cz/1300/?hledat=octávia+3&hlokalita=&humkreis=25&cenaod=&cenado=&order=', 'https://auto.bazos.cz/1320/?hledat=octávia+3&hlokalita=&humkreis=25&cenaod=&cenado=&order=', 'https://auto.bazos.cz/1340/?hledat=octávia+3&hlokalita=&humkreis=25&cenaod=&cenado=&order=', 'https://auto.bazos.cz/1360/?hledat=octávia+3&hlokalita=&humkreis=25&cenaod=&cenado=&order=', 'https://auto.bazos.cz/1380/?hledat=octávia+3&hlokalita=&humkreis=25&cenaod=&cenado=&order=', 'https://auto.bazos.cz/1400/?hledat=octávia+3&hlokalita=&humkreis=25&cenaod=&cenado=&order=', 'https://auto.bazos.cz/1420/?hledat=octávia+3&hlokalita=&humkreis=25&cenaod=&cenado=&order=', 'https://auto.bazos.cz/1440/?hledat=octávia+3&hlokalita=&humkreis=25&cenaod=&cenado=&order=', 'https://auto.bazos.cz/1460/?hledat=octávia+3&hlokalita=&humkreis=25&cenaod=&cenado=&order=', 'https://auto.bazos.cz/1480/?hledat=octávia+3&hlokalita=&humkreis=25&cenaod=&cenado=&order=', 'https://auto.bazos.cz/1500/?hledat=octávia+3&hlokalita=&humkreis=25&cenaod=&cenado=&order=', 'https://auto.bazos.cz/1520/?hledat=octávia+3&hlokalita=&humkreis=25&cenaod=&cenado=&order=', 'https://auto.bazos.cz/1540/?hledat=octávia+3&hlokalita=&humkreis=25&cenaod=&cenado=&order=', 'https://auto.bazos.cz/1560/?hledat=octávia+3&hlokalita=&humkreis=25&cenaod=&cenado=&order=', 'https://auto.bazos.cz/1580/?hledat=octávia+3&hlokalita=&humkreis=25&cenaod=&cenado=&order=', 'https://auto.bazos.cz/1600/?hledat=octávia+3&hlokalita=&humkreis=25&cenaod=&cenado=&order=', 'https://auto.bazos.cz/1620/?hledat=octávia+3&hlokalita=&humkreis=25&cenaod=&cenado=&order=', 'https://auto.bazos.cz/1640/?hledat=octávia+3&hlokalita=&humkreis=25&cenaod=&cenado=&order=', 'https://auto.bazos.cz/1660/?hledat=octávia+3&hlokalita=&humkreis=25&cenaod=&cenado=&order=', 'https://auto.bazos.cz/1680/?hledat=octávia+3&hlokalita=&humkreis=25&cenaod=&cenado=&order=', 'https://auto.bazos.cz/1700/?hledat=octávia+3&hlokalita=&humkreis=25&cenaod=&cenado=&order=', 'https://auto.bazos.cz/1720/?hledat=octávia+3&hlokalita=&humkreis=25&cenaod=&cenado=&order=', 'https://auto.bazos.cz/1740/?hledat=octávia+3&hlokalita=&humkreis=25&cenaod=&cenado=&order=', 'https://auto.bazos.cz/1760/?hledat=octávia+3&hlokalita=&humkreis=25&cenaod=&cenado=&order=', 'https://auto.bazos.cz/1780/?hledat=octávia+3&hlokalita=&humkreis=25&cenaod=&cenado=&order=', 'https://auto.bazos.cz/1800/?hledat=octávia+3&hlokalita=&humkreis=25&cenaod=&cenado=&order=', 'https://auto.bazos.cz/1820/?hledat=octávia+3&hlokalita=&humkreis=25&cenaod=&cenado=&order=', 'https://auto.bazos.cz/1840/?hledat=octávia+3&hlokalita=&humkreis=25&cenaod=&cenado=&order=', 'https://auto.bazos.cz/1860/?hledat=octávia+3&hlokalita=&humkreis=25&cenaod=&cenado=&order=', 'https://auto.bazos.cz/1880/?hledat=octávia+3&hlokalita=&humkreis=25&cenaod=&cenado=&order=', 'https://auto.bazos.cz/1900/?hledat=octávia+3&hlokalita=&humkreis=25&cenaod=&cenado=&order=', 'https://auto.bazos.cz/1920/?hledat=octávia+3&hlokalita=&humkreis=25&cenaod=&cenado=&order=', 'https://auto.bazos.cz/1940/?hledat=octávia+3&hlokalita=&humkreis=25&cenaod=&cenado=&order=', 'https://auto.bazos.cz/1960/?hledat=octávia+3&hlokalita=&humkreis=25&cenaod=&cenado=&order=', 'https://auto.bazos.cz/1980/?hledat=octávia+3&hlokalita=&humkreis=25&cenaod=&cenado=&order=', 'https://auto.bazos.cz/2000/?hledat=octávia+3&hlokalita=&humkreis=25&cenaod=&cenado=&order=', 'https://auto.bazos.cz/2020/?hledat=octávia+3&hlokalita=&humkreis=25&cenaod=&cenado=&order=', 'https://auto.bazos.cz/2040/?hledat=octávia+3&hlokalita=&humkreis=25&cenaod=&cenado=&order=', 'https://auto.bazos.cz/2060/?hledat=octávia+3&hlokalita=&humkreis=25&cenaod=&cenado=&order=', 'https://auto.bazos.cz/2080/?hledat=octávia+3&hlokalita=&humkreis=25&cenaod=&cenado=&order=', 'https://auto.bazos.cz/2100/?hledat=octávia+3&hlokalita=&humkreis=25&cenaod=&cenado=&order=', 'https://auto.bazos.cz/2120/?hledat=octávia+3&hlokalita=&humkreis=25&cenaod=&cenado=&order=']\n"
     ]
    }
   ],
   "source": [
    "# firstly, we define the input variable so the user can search according to their preference\n",
    "user_search_input = str(\"octávia 3\")\n",
    "user_search_input = re.sub(r\"[^\\w\\s]\", '', user_search_input)\n",
    "user_search_input = re.sub(r\"\\s+\", '+', user_search_input)\n",
    "\n",
    "no_of_adv_url = 'https://auto.bazos.cz/0/?hledat=' + user_search_input + '&hlokalita=&humkreis=25&cenaod=&cenado=&order='\n",
    "\n",
    "page = requests.get(no_of_adv_url)\n",
    "no_of_adv_html = BeautifulSoup(page.text, 'html')\n",
    "\n",
    "get_no_adv = no_of_adv_html.find('div', {'class':'listainzerat inzeratyflex'})\n",
    "get_no_adv = get_no_adv.find('div', {'class':'inzeratynadpis'})\n",
    "get_no_adv = get_no_adv.text\n",
    "get_no_adv = get_no_adv.split(\"z \")[-1]\n",
    "number_adv = get_no_adv.replace(\" \",\"\")\n",
    "number_adv = int(number_adv)\n",
    "# works properly, \"number_adv\" represents total number of advertisements for particular search input,\n",
    "# however, we modify it so that it correspondents correctly to the structure of page\n",
    "no_of_ad_lists = number_adv // 20\n",
    "if number_adv % 20 == 0:\n",
    "    number_adv = no_of_ad_lists * 19\n",
    "else:\n",
    "    number_adv = no_of_ad_lists * 20\n",
    "\n",
    "\n",
    "number_sequence = range(0, number_adv, 20) #start, stop (not included), step\n",
    "# we create empty list for saving the urls,\n",
    "# and then append other tabs with offers (since there are only 20 offers per tab by default)\n",
    "main_url_list = list()\n",
    "\n",
    "for i in range(0,len(number_sequence)):\n",
    "    url = f'https://auto.bazos.cz/{number_sequence[i]}/'\n",
    "    url = url + '?hledat=' + user_search_input + '&hlokalita=&humkreis=25&cenaod=&cenado=&order='\n",
    "    main_url_list.append(url)\n",
    "# here we can check the list of urls for particular tabs\n",
    "#print(main_url_list)"
   ]
  },
  {
   "cell_type": "code",
   "execution_count": 33,
   "id": "878c4324",
   "metadata": {},
   "outputs": [],
   "source": [
    "# in the next step, we get the text of each of those tabs using the BeautifulSoup function,\n",
    "# and save it as elements of the \"soup_list\"\n",
    "soup_list = list()\n",
    "for url in main_url_list:\n",
    "    page = requests.get(url)\n",
    "\n",
    "    ## MAYBE SLOW DOWN LATER by 0.3s per iteration\n",
    "    soup_list.append(BeautifulSoup(page.text, 'html'))\n",
    "\n",
    "# filter to cut-off pseudo-empty elements in main_url_list to prevent the unwanted behaviour of the code\n",
    "res_soup_list = []\n",
    "for element in soup_list:\n",
    "    if \"html\" in element:\n",
    "        res_soup_list.append(element)\n",
    "soup_list = res_soup_list"
   ]
  },
  {
   "cell_type": "markdown",
   "id": "d839ec54",
   "metadata": {},
   "source": [
    "There are 20 adds plus other page elements. Lets pick just one add to see their construction."
   ]
  },
  {
   "cell_type": "markdown",
   "id": "4889ec75",
   "metadata": {},
   "source": [
    "There are several elements, which are important to us. In this section, we are interested in add id, which we are able to extract from href in element a on the second line. Its the number after \"inzerat/\". We are also interested in the href itself, since it is our link to follow to the actual add. Another element important to us is h2 class = \"nadpis\", which contains title of the add, from which we can extract type of car. And the last interesting element is span with class \"velikost10\", which reffers to date uploaded.\n",
    "\n",
    "Now we can follow the link to the actual add page to see its content."
   ]
  },
  {
   "cell_type": "markdown",
   "id": "da86b156",
   "metadata": {},
   "source": [
    "In the next chunk, we filter for the ads added today - if we compare the numbers, now we have today's 98 of out entire 2020 (as of now) avertisements."
   ]
  },
  {
   "cell_type": "code",
   "execution_count": 36,
   "id": "f460d7f4",
   "metadata": {},
   "outputs": [
    {
     "name": "stdout",
     "output_type": "stream",
     "text": [
      "['https://auto.bazos.cz/inzerat/157075143/skoda-octavia-3-20tdi-110kw-dsg-plna-zaruka-2-roky-zdarma.php', 'https://auto.bazos.cz/inzerat/157035970/octavia-scout-4x420tdi-110kwr2018dsgledacc123tiskm.php', 'https://auto.bazos.cz/inzerat/157035183/octavia-rs-20tsi-230psm2018facecantoncolumbuslane.php', 'https://auto.bazos.cz/inzerat/156861400/skoda-octavia-3-20tdi-110kw-plna-zaruka-2-roky-zdarma.php', 'https://auto.bazos.cz/inzerat/156839898/skoda-octavia-3-20tdi-110kw-dsg-plna-zaruka-2-roky-zdarma.php', 'https://auto.bazos.cz/inzerat/156800462/skoda-octavia-3-16tdi-85kw-plna-zaruka-2-roky-zdarma.php', 'https://auto.bazos.cz/inzerat/156776866/skoda-octavia-3-fc-14tsi-cng-81kw-dsg-style-koupcr107tkm.php', 'https://auto.bazos.cz/inzerat/156583245/skoda-octavia-3-16tdi-85kw-dsg-plna-zaruka-2-roky-zdarma.php', 'https://auto.bazos.cz/inzerat/157066972/skoda-octavia-rs-dsg-fullled-acc-columbus-vyhrsedacky.php', 'https://auto.bazos.cz/inzerat/157066943/skoda-octavia-iii-rs-fullled-navi-panorama-vyhrsedacky.php', 'https://auto.bazos.cz/inzerat/156538058/skoda-octavia-3-15tsi-110kw-plna-zaruka-2-roky-zdarma.php', 'https://auto.bazos.cz/inzerat/156512794/skoda-octavia-3-fc-16tdi-85kw-koupcr1majiteltazne2017.php', 'https://auto.bazos.cz/inzerat/156511278/skoda-octavia-3-fc-20tdi-110kw-4x4-koupcr1majitel78tkm.php', 'https://auto.bazos.cz/inzerat/156458612/skoda-octavia-iii-rs-20-tsi-162kwvyhrsklo-columbustazne.php', 'https://auto.bazos.cz/inzerat/156454350/octavia-scout-4x420tdi-110kw6stmancolumbus113tiskm.php', 'https://auto.bazos.cz/inzerat/156416445/skoda-octavia-3-fc-14tsi-cng-81kw-dsg-style-koupcr111tkm.php', 'https://auto.bazos.cz/inzerat/157066677/skoda-octavia-iii-tsi-ambition-vyhrsedacky-senzory.php', 'https://auto.bazos.cz/inzerat/156371658/octavia-iii-14-tsi-110kw-dsg-business-style-odpocet-dph.php', 'https://auto.bazos.cz/inzerat/157020354/skoda-octavia-3-14-tsi-103kw-125tkm-klimaautomatik.php', 'https://auto.bazos.cz/inzerat/156898684/skoda-octavia-iii-tsi-dsg-fullled-navi-vyhrsedacky-tazne.php', 'https://auto.bazos.cz/inzerat/156928243/skoda-octavia-3-18-tsi-132kw-85tkm-1majitel-acc-navi-led.php', 'https://auto.bazos.cz/inzerat/156252288/skoda-octavia-3-fc-16tdi-85kw-koupcr1majitel201977tkm.php', 'https://auto.bazos.cz/inzerat/156899499/skoda-octavia-iii-style-acc-xenon-columbus-senzory.php', 'https://auto.bazos.cz/inzerat/155953550/skoda-octavia-iii-combi-14-tsi-110kw-2018-puvod-cr-dph.php', 'https://auto.bazos.cz/inzerat/156216596/skoda-octavia-3-15tsi-110kw-style-dsgneztopeni2019cr.php', 'https://auto.bazos.cz/inzerat/156116224/skoda-kodiaq-4x4-20-tdi-140kw-dsg2019stylevirtualcrdph.php', 'https://auto.bazos.cz/inzerat/156722365/skoda-octavia-iii-rs-4x4-fullled-acc-dcc-columbus-webasto.php', 'https://auto.bazos.cz/inzerat/156724451/skoda-octavia-iii-tsi-dsg-xenon-columbus-webasto.php', 'https://auto.bazos.cz/inzerat/156722270/skoda-octavia-tsi-style-fullled-kamera-vyhrsedacky.php', 'https://auto.bazos.cz/inzerat/156118438/skoda-octavia-3-20tsi-140kw-dsg-panorama-nakup-v-klidu.php', 'https://auto.bazos.cz/inzerat/156117308/skoda-octavia-3-rs-245-20tsi-dsg-78tkm-dcc-full-led-dab-acc.php', 'https://auto.bazos.cz/inzerat/156080631/skoda-octavia-3-fc-16tdi-85kw-style-koupcr1majitel2019.php', 'https://auto.bazos.cz/inzerat/156559059/skoda-octavia-3-16tdi-77kw-bixenon-panorama-navi-parkasist.php', 'https://auto.bazos.cz/inzerat/156625476/skoda-octavia-kombi-3-vrs-20tdi-135kw-dsg.php', 'https://auto.bazos.cz/inzerat/156463895/skoda-octavia-3-14tsi.php', 'https://auto.bazos.cz/inzerat/155970833/skoda-octavia-3-20tdi-110kw-dsg-elviko-led-appconnect.php', 'https://auto.bazos.cz/inzerat/155970730/skoda-octavia-3-20tdi-110kw-canton-dab-nakup-v-klidu.php', 'https://auto.bazos.cz/inzerat/156787528/octavia-3-fl-style-16-tdi-85-kw.php', 'https://auto.bazos.cz/inzerat/156218183/skoda-octavia-3-rs-20tdi-135kw-top-cz-puvod.php', 'https://auto.bazos.cz/inzerat/156487898/skoda-octavia-iii-20-tdi-135kw-4x4-dsg-dph.php', 'https://auto.bazos.cz/inzerat/157061853/skoda-octavia-3-20tdi-110kw-dsg.php', 'https://auto.bazos.cz/inzerat/155752703/skoda-octavia-3-20tdi-4x4-110kw-dsg-al17-webasto-full-led.php', 'https://auto.bazos.cz/inzerat/156976635/skoda-octavia-iii-20-tdi-110-kw-dsg-combi-drive.php', 'https://auto.bazos.cz/inzerat/155676510/skoda-octavia-3-rs-20tdi-135kw-dsg-panorama-nakup-v-klidu.php', 'https://auto.bazos.cz/inzerat/156268385/skoda-octavia-16-tdi-combi.php', 'https://auto.bazos.cz/inzerat/156285764/skoda-octavia-iii-tsi-style-xenon-columbus-vyhrsedacky.php', 'https://auto.bazos.cz/inzerat/155633748/skoda-octavia-3-14tsi-g-tec-81kw-panorama-kuze-full-led.php', 'https://auto.bazos.cz/inzerat/156861644/skoda-octavia-3.php', 'https://auto.bazos.cz/inzerat/156055868/octavia-3-rs-tsi-180kw-2020.php', 'https://auto.bazos.cz/inzerat/156986825/prodam-origo-sadu-skoda-octavia.php', 'https://auto.bazos.cz/inzerat/156272101/rizeni-pro-skoda-vw.php', 'https://auto.bazos.cz/inzerat/157058620/skoda-octavia-3-5e-nahradni-dily.php', 'https://auto.bazos.cz/inzerat/157058415/skoda-octavia-3-5e-facelift-nahradni-dily.php', 'https://auto.bazos.cz/inzerat/155736867/radio-swing-pro-skoda-octavia-iii-5e0035871d.php', 'https://auto.bazos.cz/inzerat/157029392/skoda-octavia-iii-18tsi-dsg-4x4.php', 'https://auto.bazos.cz/inzerat/156812248/skoda-octavia-challenge-rs-combi-20-tdi-135kw.php', 'https://auto.bazos.cz/inzerat/156812397/skoda-octavia-3-facelift-20tdi-110kw.php', 'https://auto.bazos.cz/inzerat/157012610/skoda-octavia-320-tdi110-kw112014crtop-stav-nehavar.php', 'https://auto.bazos.cz/inzerat/157005391/octavia-3-rs-20-tdi.php', 'https://auto.bazos.cz/inzerat/156145341/octavia.php', 'https://auto.bazos.cz/inzerat/156943422/sada-kol-octavia-35-zimni-plech-2055516.php', 'https://auto.bazos.cz/inzerat/156553458/5x112-r16-original-alu-disky-skoda-octavia-3-2020.php', 'https://auto.bazos.cz/inzerat/156564360/octavia-3-hlavy-motoru-tdi.php', 'https://auto.bazos.cz/inzerat/156410679/octavia-3-combi-16-tdi-rv-2016.php', 'https://auto.bazos.cz/inzerat/155904809/octavia-iii-16tdi-81kw-style-1maj-2016-cr-digiklima-dph.php', 'https://auto.bazos.cz/inzerat/156574604/skoda-octavia-iii-scout-20-tdi-135kw-dsg-navi-tazne.php', 'https://auto.bazos.cz/inzerat/156975210/skoda-octavia-iii-rs.php', 'https://auto.bazos.cz/inzerat/156334791/octavia-3-combi-navigace-servisni-knizka-pekna-vybava.php', 'https://auto.bazos.cz/inzerat/156935895/skoda-octavia-3-superb-2-zimni-alu-kola-17-top-design.php', 'https://auto.bazos.cz/inzerat/156935792/skoda-octavia-superb-zimni-alu-kola-17-5x112.php', 'https://auto.bazos.cz/inzerat/155443203/skoda-octavia-3-fc-10tsi-85kw-koupcr1majitel201875tkm.php', 'https://auto.bazos.cz/inzerat/156922992/skoda-octavia-3-fc-16tdi-85kw-dsgkoupcr52019.php', 'https://auto.bazos.cz/inzerat/156931913/skoda-octavia-3-combi-20-tdi-110kw-100tis-km-nez-topeni.php', 'https://auto.bazos.cz/inzerat/156413656/skoda-octavia-3-20tdi-dsg.php', 'https://auto.bazos.cz/inzerat/155700587/skoda-octavia-3-rs-20tdi-135kw-top-stav.php', 'https://auto.bazos.cz/inzerat/156914984/skoda-octavia-3-dsg-16tdi-77kw-xenon-stav.php', 'https://auto.bazos.cz/inzerat/155094628/skoda-octavia-iii-combi-16-tdi-navipdc-cr-dph.php', 'https://auto.bazos.cz/inzerat/156896886/skoda-octavia-3-rs-20-135kw-4x4-dsg-top-stav.php', 'https://auto.bazos.cz/inzerat/156480836/skoda-octavia-3-16tdi.php', 'https://auto.bazos.cz/inzerat/155354147/skoda-octavia-3-fc-20tdi-110kw-style-koupcr1majitel2018.php', 'https://auto.bazos.cz/inzerat/156024216/skoda-octavia-3-rs-liftback.php', 'https://auto.bazos.cz/inzerat/156879818/multifunkcni-volant-5e0419091ah-skoda-octavia-3-rv-2013.php', 'https://auto.bazos.cz/inzerat/156879203/ridici-jednotka-abs-5q0907379r-agregat-5q0614517q.php', 'https://auto.bazos.cz/inzerat/156879000/skoda-octavia-3-greenline-rozvody.php', 'https://auto.bazos.cz/inzerat/156646740/rizeni-octavia-3-nove-original-kompletni-rizeni-octavie-3.php', 'https://auto.bazos.cz/inzerat/155859328/skoda-octavia-3-rs-20tsi-challenge-combi-manual-facelift.php', 'https://auto.bazos.cz/inzerat/156867606/skoda-octavia-iii-naraznik.php', 'https://auto.bazos.cz/inzerat/156858058/zimni-sada-17-alu-kol-crystal.php', 'https://auto.bazos.cz/inzerat/156853685/prevodovka-6q-dsg-hut-20tsi-147kw-axx-vw-golf-5-gti-152tis.php', 'https://auto.bazos.cz/inzerat/156752913/skoda-octavia-3-facelift-16tdi-clever-led-navi-alu.php', 'https://auto.bazos.cz/inzerat/156551382/skoda-octavia-3-combi-16-tdi-81kw-style-vybava.php', 'https://auto.bazos.cz/inzerat/156686405/octavia-3-dsg-14tsi-110kw-style-1maj-2018-cr-lednavi-dph.php', 'https://auto.bazos.cz/inzerat/156811576/skoda-octavia-3-rs-combi-20tdi-dsg-odecet-dph.php', 'https://auto.bazos.cz/inzerat/156439682/zanovni-motor-skoda-octavia-3-20-tdi-110k-typ-crv.php', 'https://auto.bazos.cz/inzerat/157090267/predni-naraznik-skoda-octavia-3-facelift-topmodra-pacific.php', 'https://auto.bazos.cz/inzerat/157090247/predni-naraznik-skoda-octavia-3-facelift-top-moon-weiss.php', 'https://auto.bazos.cz/inzerat/157090204/predni-naraznik-skoda-octavia-3-facelift-moon-weiss.php', 'https://auto.bazos.cz/inzerat/157089756/octavia-iii-20tdi-110kw-dsg-style-1maj-cr-digiklima-dph.php']\n"
     ]
    }
   ],
   "source": [
    "today = date.today()\n",
    "# by the following code, we get the urls of each advertisement /offer/ (listed in the tabs we work with),\n",
    "# and save it to \"list_of_offers_url\"\n",
    "list_of_offers_url = list()\n",
    "\n",
    "for element in soup_list:\n",
    "    x = element.find_all('div', {'class':'inzeraty inzeratyflex'})\n",
    "    \n",
    "    for sub_element in x:\n",
    "        y = sub_element.find('div', {'class':'inzeratynadpis'})\n",
    "        attribute_a = y.find('a')\n",
    "        w = attribute_a.get('href')\n",
    "        attribute_span = y.find('span')\n",
    "        \n",
    "        #here we just obtain the date from the particular advertisement to make sure we analyze only ads added today\n",
    "        date_str = str(attribute_span.text)\n",
    "        date_str = date_str.replace(\" \",\"\")\n",
    "        date_str = date_str.strip(\"-[]\")\n",
    "        date_str = date_str.strip(\"TOP-[]\")\n",
    "        date_object = datetime.strptime(date_str,'%d.%m.%Y')\n",
    "        date_object = date_object.date()\n",
    "\n",
    "        if date_object != today:\n",
    "            continue\n",
    "    \n",
    "        list_of_offers_url.append(f'https://auto.bazos.cz{w}')\n",
    "        #    time.sleep(0.03)\n",
    "    \n",
    "print(list_of_offers_url)"
   ]
  },
  {
   "cell_type": "code",
   "execution_count": 41,
   "id": "b42795c5",
   "metadata": {},
   "outputs": [
    {
     "ename": "AttributeError",
     "evalue": "'NoneType' object has no attribute 'get_text'",
     "output_type": "error",
     "traceback": [
      "\u001b[0;31m---------------------------------------------------------------------------\u001b[0m",
      "\u001b[0;31mAttributeError\u001b[0m                            Traceback (most recent call last)",
      "Input \u001b[0;32mIn [41]\u001b[0m, in \u001b[0;36m<cell line: 55>\u001b[0;34m()\u001b[0m\n\u001b[1;32m     53\u001b[0m link \u001b[38;5;241m=\u001b[39m [\u001b[38;5;124m'\u001b[39m\u001b[38;5;124mhttps://auto.bazos.cz/inzerat/157012769/vw-golf-7-20tdi-110kw-107tkm-plna-zaruka-2-roky-zdarma.php\u001b[39m\u001b[38;5;124m'\u001b[39m, \u001b[38;5;124m'\u001b[39m\u001b[38;5;124mhttps://auto.bazos.cz/inzerat/156954743/skoda-octavia-3dsg-20-tdi.php\u001b[39m\u001b[38;5;124m'\u001b[39m]\n\u001b[1;32m     54\u001b[0m \u001b[38;5;66;03m#link = list_of_offers_url\u001b[39;00m\n\u001b[0;32m---> 55\u001b[0m \u001b[43mget_info\u001b[49m\u001b[43m(\u001b[49m\u001b[43mlink\u001b[49m\u001b[43m)\u001b[49m\n",
      "Input \u001b[0;32mIn [41]\u001b[0m, in \u001b[0;36mget_info\u001b[0;34m(links)\u001b[0m\n\u001b[1;32m     44\u001b[0m add_page \u001b[38;5;241m=\u001b[39m requests\u001b[38;5;241m.\u001b[39mget(i)\n\u001b[1;32m     45\u001b[0m soup_add \u001b[38;5;241m=\u001b[39m BeautifulSoup(add_page\u001b[38;5;241m.\u001b[39mtext, \u001b[38;5;124m'\u001b[39m\u001b[38;5;124mhtml\u001b[39m\u001b[38;5;124m'\u001b[39m)\n\u001b[0;32m---> 46\u001b[0m add \u001b[38;5;241m=\u001b[39m remove_spaces(\u001b[43msoup_add\u001b[49m\u001b[38;5;241;43m.\u001b[39;49m\u001b[43mfind\u001b[49m\u001b[43m(\u001b[49m\u001b[38;5;124;43m'\u001b[39;49m\u001b[38;5;124;43mdiv\u001b[39;49m\u001b[38;5;124;43m'\u001b[39;49m\u001b[43m,\u001b[49m\u001b[43m \u001b[49m\u001b[43m{\u001b[49m\u001b[38;5;124;43m'\u001b[39;49m\u001b[38;5;124;43mclass\u001b[39;49m\u001b[38;5;124;43m'\u001b[39;49m\u001b[43m:\u001b[49m\u001b[38;5;124;43m'\u001b[39;49m\u001b[38;5;124;43mpopisdetail\u001b[39;49m\u001b[38;5;124;43m'\u001b[39;49m\u001b[43m}\u001b[49m\u001b[43m)\u001b[49m\u001b[38;5;241;43m.\u001b[39;49m\u001b[43mget_text\u001b[49m())\n\u001b[1;32m     47\u001b[0m all_numbers \u001b[38;5;241m=\u001b[39m get_numbers_from_text(add)\n\u001b[1;32m     48\u001b[0m context_got \u001b[38;5;241m=\u001b[39m get_context(add, all_numbers)\n",
      "\u001b[0;31mAttributeError\u001b[0m: 'NoneType' object has no attribute 'get_text'"
     ]
    }
   ],
   "source": [
    "def remove_spaces(text):\n",
    "    return text.replace(\" \", \"\")\n",
    "def get_numbers_from_text(text):\n",
    "    import re\n",
    "    text = remove_spaces(text)\n",
    "    pattern = '[-+]?[.]?[\\d]+(?:,\\d\\d\\d)*[\\.]?\\d*(?:[eE][-+]?\\d+)?'\n",
    "    list_of_numbers = re.findall(pattern, text)\n",
    "    return list_of_numbers\n",
    "def find_years(numbers):\n",
    "    numbers = [x for x in numbers if (float(x) > 1980) and (float(x) < 2030)]\n",
    "    return numbers\n",
    "def find_km(numbers):\n",
    "    numbers = [x for x in numbers if (float(x) > 3000) and (float(x) < 500000)]\n",
    "    return numbers\n",
    "def get_context(text, list_of_tokens, year_dictionary = ['egistr', 'r.v', 'vyrob', 'výrob', 'prov'], km_dictionary = ['km', 'Km', 'KM', 'ilomet', 'ajet', 'ájez', 'achom', 'atoč'], context_span=20):\n",
    "    import re\n",
    "    context = []\n",
    "    year = 'No match'\n",
    "    km = 'No match'\n",
    "    for token in find_years(list_of_tokens):\n",
    "        all_occurences_indices = [m.start() for m in re.finditer(token, text)]\n",
    "        for index in all_occurences_indices:\n",
    "            left_index = max(index - context_span, 0)\n",
    "            right_index = min(index + context_span, len(text))\n",
    "            substring = text[left_index: right_index].strip()\n",
    "            for s in year_dictionary:\n",
    "                year_find = [m.start() for m in re.finditer(s, substring)]\n",
    "                if len(year_find) > 0:\n",
    "                    year = token\n",
    "    for token in find_km(list_of_tokens):\n",
    "        all_occurences_indices = [m.start() for m in re.finditer(token, text)]\n",
    "        for index in all_occurences_indices:\n",
    "            left_index = max(index - context_span, 0)\n",
    "            right_index = min(index + context_span, len(text))\n",
    "            substring = text[left_index: right_index].strip()\n",
    "            for s in km_dictionary:\n",
    "                km_find = [m.start() for m in re.finditer(s, substring)]\n",
    "                if len(km_find) > 0:\n",
    "                    km = token\n",
    "    return [year, km]\n",
    "def get_info(links):\n",
    "    results = []\n",
    "    for i in links:\n",
    "        add_page = requests.get(i)\n",
    "        soup_add = BeautifulSoup(add_page.text, 'html')\n",
    "        add = remove_spaces(soup_add.find('div', {'class':'popisdetail'}).get_text())\n",
    "        all_numbers = get_numbers_from_text(add)\n",
    "        context_got = get_context(add, all_numbers)\n",
    "        result = [i, context_got[0], context_got[1]]\n",
    "        results.append(result)\n",
    "        time.sleep(0.03)\n",
    "    return results\n",
    "link = ['https://auto.bazos.cz/inzerat/157012769/vw-golf-7-20tdi-110kw-107tkm-plna-zaruka-2-roky-zdarma.php', 'https://auto.bazos.cz/inzerat/156954743/skoda-octavia-3dsg-20-tdi.php']\n",
    "#link = list_of_offers_url\n",
    "get_info(link)"
   ]
  },
  {
   "cell_type": "markdown",
   "id": "93548d11",
   "metadata": {},
   "source": [
    "Here we can see the description, which we will use to extract parameters of the car. This will be one of the most difficult parts of the project to extract the relevant text in unformated text. There is no official format to the text, so we will have to find a way how to extract this information from various formats.\n",
    "\n",
    "After retrieving these informations, we will use analysis of the data got from this process."
   ]
  }
 ],
 "metadata": {
  "kernelspec": {
   "display_name": "Python 3 (ipykernel)",
   "language": "python",
   "name": "python3"
  },
  "language_info": {
   "codemirror_mode": {
    "name": "ipython",
    "version": 3
   },
   "file_extension": ".py",
   "mimetype": "text/x-python",
   "name": "python",
   "nbconvert_exporter": "python",
   "pygments_lexer": "ipython3",
   "version": "3.10.6"
  }
 },
 "nbformat": 4,
 "nbformat_minor": 5
}
