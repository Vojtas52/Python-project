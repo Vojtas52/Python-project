{
 "cells": [
  {
   "cell_type": "markdown",
   "id": "5a3d543d",
   "metadata": {},
   "source": [
    "<h1><center> Python project proposal </center></h1>\n",
    "<h2><center>Current car prices from bazos.cz</center></h2>\n",
    "<h3><center>Daniel Brosko, Vojtěch Suchánek</center></h3>\n",
    "\n",
    "Our goal is to web-scrape advertisements listed on website bazos.cz, which is currently one of the most used websites for selling used cars in Czech republic. It has more than 15 000 car adds daily. On the other hand, it has really poor search options, which pretty much complicates searching for desired car based on your parameters.\n",
    "\n",
    "We are going to code algorithm, which will scan adds for the current day, pick those, which fulfill our conditions on date and car type and save their links. Then we will go to each link and save the text of the add. Then we will try to analyze the text of the add to find our parameters. In the end, we will perform some visualizations of distribution of price and selected parameters and try to select some underprices offers.\n",
    "\n",
    "This task might be better to perform continuouslly, for example each hour, to not overload the website. This approach might also allow for longer time period to analyze the data. But since this project should be designed as one-time run, we decided to limit the data to only current date."
   ]
  },
  {
   "cell_type": "code",
   "execution_count": 1,
   "id": "22d614ae",
   "metadata": {},
   "outputs": [],
   "source": [
    "import requests\n",
    "from bs4 import BeautifulSoup\n",
    "import re"
   ]
  },
  {
   "cell_type": "code",
   "execution_count": 2,
   "id": "988784bf",
   "metadata": {},
   "outputs": [
    {
     "name": "stdout",
     "output_type": "stream",
     "text": [
      "User-agent: *\r\n",
      "Disallow: /*humkreis\r\n",
      "Disallow: /*order=\r\n",
      "Disallow: /*cenaod=\r\n",
      "Disallow: /*vkm=\r\n",
      "Disallow: /*gal=\r\n",
      "Disallow: /suggest.php\r\n",
      "Disallow: /suggestpsc.php\r\n",
      "Disallow: /suggestpscinsert.php\r\n",
      "Disallow: /overeni.php\r\n",
      "Disallow: /detailtel.php\r\n",
      "Disallow: /agent.php\r\n",
      "Disallow: /favourite.php\r\n",
      "Disallow: /kmailn.php\r\n",
      "Disallow: /upload.php\r\n",
      "Disallow: /zip.php\r\n",
      "Disallow: /smazat/\r\n",
      "\r\n",
      "User-agent: Mediapartners-Google\r\n",
      "Disallow:\r\n",
      "\r\n",
      "User-agent: trovitBot\r\n",
      "Disallow: /\r\n",
      "\r\n",
      "User-agent: AhrefsBot\r\n",
      "Disallow: /\r\n",
      "\r\n",
      "User-agent: pricebot\r\n",
      "Disallow: /\r\n",
      "\r\n",
      "User-agent: magpie-crawler\r\n",
      "Disallow: /\r\n",
      "\r\n",
      "User-agent: SemrushBot\r\n",
      "Disallow: /\r\n",
      "\r\n",
      "User-Agent: trendictionbot\r\n",
      "Disallow: /\r\n",
      "\r\n",
      "User-agent: SemrushBot\r\n",
      "Disallow: /\r\n",
      "\r\n",
      "User-Agent: trendictionbot\r\n",
      "Disallow: /\r\n",
      "\r\n",
      "User-agent: BLEXBot\r\n",
      "Disallow: /\r\n",
      "\r\n",
      "User-agent: Riddler\r\n",
      "Disallow: /\r\n",
      "\r\n",
      "Sitemap: https://auto.bazos.cz/sitemap.php\n"
     ]
    }
   ],
   "source": [
    "bots = requests.get('https://auto.bazos.cz/robots.txt')\n",
    "print(bots.text)"
   ]
  },
  {
   "cell_type": "markdown",
   "id": "8887d0ee",
   "metadata": {},
   "source": [
    "From the robots page we can see that our actions done in our projects are allowed, since we are not gonna use these search commands."
   ]
  },
  {
   "cell_type": "markdown",
   "id": "f3d424b1",
   "metadata": {},
   "source": [
    "Here we will get the main page from car section of bazos."
   ]
  },
  {
   "cell_type": "code",
   "execution_count": 179,
   "id": "68b56204",
   "metadata": {},
   "outputs": [
    {
     "name": "stdout",
     "output_type": "stream",
     "text": [
      "24445\n"
     ]
    }
   ],
   "source": [
    "user_search_input = str(\"octávia\")\n",
    "user_search_input = re.sub(r\"[^\\w\\s]\", '', user_search_input)\n",
    "user_search_input = re.sub(r\"\\s+\", '+', user_search_input)\n",
    "\n",
    "no_of_adv_url = 'https://auto.bazos.cz/0/?hledat=' + user_search_input + '&hlokalita=&humkreis=25&cenaod=&cenado=&order='\n",
    "\n",
    "page = requests.get(no_of_adv_url)\n",
    "no_of_adv_html = BeautifulSoup(page.text, 'html')\n",
    "\n",
    "get_no_adv = no_of_adv_html.find('div', {'class':'listainzerat inzeratyflex'})\n",
    "get_no_adv = get_no_adv.find('div', {'class':'inzeratynadpis'})\n",
    "get_no_adv = get_no_adv.text\n",
    "get_no_adv = get_no_adv.split(\"z \")[-1]\n",
    "number_adv = get_no_adv.replace(\" \",\"\")\n",
    "\n",
    "# works properly, \"number_adv\" represents total number of advertisements for particular search input  \n",
    "# print(number_adv)"
   ]
  },
  {
   "cell_type": "code",
   "execution_count": 164,
   "id": "f9eff4be",
   "metadata": {
    "scrolled": true
   },
   "outputs": [
    {
     "name": "stdout",
     "output_type": "stream",
     "text": [
      "['https://auto.bazos.cz/0/?hledat=octávia+4&hlokalita=&humkreis=25&cenaod=&cenado=&order=', 'https://auto.bazos.cz/20/?hledat=octávia+4&hlokalita=&humkreis=25&cenaod=&cenado=&order=', 'https://auto.bazos.cz/40/?hledat=octávia+4&hlokalita=&humkreis=25&cenaod=&cenado=&order=', 'https://auto.bazos.cz/60/?hledat=octávia+4&hlokalita=&humkreis=25&cenaod=&cenado=&order=', 'https://auto.bazos.cz/80/?hledat=octávia+4&hlokalita=&humkreis=25&cenaod=&cenado=&order=', 'https://auto.bazos.cz/100/?hledat=octávia+4&hlokalita=&humkreis=25&cenaod=&cenado=&order=', 'https://auto.bazos.cz/120/?hledat=octávia+4&hlokalita=&humkreis=25&cenaod=&cenado=&order=', 'https://auto.bazos.cz/140/?hledat=octávia+4&hlokalita=&humkreis=25&cenaod=&cenado=&order=', 'https://auto.bazos.cz/160/?hledat=octávia+4&hlokalita=&humkreis=25&cenaod=&cenado=&order=', 'https://auto.bazos.cz/180/?hledat=octávia+4&hlokalita=&humkreis=25&cenaod=&cenado=&order=', 'https://auto.bazos.cz/200/?hledat=octávia+4&hlokalita=&humkreis=25&cenaod=&cenado=&order=', 'https://auto.bazos.cz/220/?hledat=octávia+4&hlokalita=&humkreis=25&cenaod=&cenado=&order=', 'https://auto.bazos.cz/240/?hledat=octávia+4&hlokalita=&humkreis=25&cenaod=&cenado=&order=', 'https://auto.bazos.cz/260/?hledat=octávia+4&hlokalita=&humkreis=25&cenaod=&cenado=&order=', 'https://auto.bazos.cz/280/?hledat=octávia+4&hlokalita=&humkreis=25&cenaod=&cenado=&order=', 'https://auto.bazos.cz/300/?hledat=octávia+4&hlokalita=&humkreis=25&cenaod=&cenado=&order=']\n"
     ]
    }
   ],
   "source": [
    "# firstly, we define the input variable so the user can search according to their preference\n",
    "user_search_input = str(\"octávia 4\")\n",
    "\n",
    "user_search_input = re.sub(r\"[^\\w\\s]\", '', user_search_input)\n",
    "user_search_input = re.sub(r\"\\s+\", '+', user_search_input)\n",
    "\n",
    "number_sequence = range(0, 320, 20) #start, stop (not included), step\n",
    "# we create empty list for saving the urls,\n",
    "# and then append other tabs with offers (since there are only 20 offers per tab by default)\n",
    "main_url_list = list()\n",
    "\n",
    "for i in range(0,len(number_sequence)):\n",
    "    url = f'https://auto.bazos.cz/{number_sequence[i]}/'\n",
    "    url = url + '?hledat=' + user_search_input + '&hlokalita=&humkreis=25&cenaod=&cenado=&order='\n",
    "    main_url_list.append(url)\n",
    "# here we can check the list of urls for particular tabs\n",
    "print(main_url_list)"
   ]
  },
  {
   "cell_type": "code",
   "execution_count": 165,
   "id": "878c4324",
   "metadata": {},
   "outputs": [],
   "source": [
    "# in the next step, we get the text of each of those tabs using the BeautifulSoup function,\n",
    "# and save it as elements of the \"soup_list\"\n",
    "soup_list = list()\n",
    "for url in main_url_list:\n",
    "    page = requests.get(url)\n",
    "    soup_list.append(BeautifulSoup(page.text, 'html'))\n"
   ]
  },
  {
   "cell_type": "code",
   "execution_count": 125,
   "id": "fa47eba7",
   "metadata": {},
   "outputs": [],
   "source": [
    "from datetime import date\n",
    "from datetime import datetime"
   ]
  },
  {
   "cell_type": "code",
   "execution_count": 161,
   "id": "b324745a",
   "metadata": {},
   "outputs": [],
   "source": [
    "# mozna pak jeste predelat predvoleny pocet tabs ktere prochazim podle poctu inzeratu\n",
    "# (vytahnout z classy co je nahore zobrazeno)"
   ]
  },
  {
   "cell_type": "markdown",
   "id": "d839ec54",
   "metadata": {},
   "source": [
    "There are 20 adds plus other page elements. Lets pick just one add to see their construction."
   ]
  },
  {
   "cell_type": "markdown",
   "id": "4889ec75",
   "metadata": {},
   "source": [
    "There are several elements, which are important to us. In this section, we are interested in add id, which we are able to extract from href in element a on the second line. Its the number after \"inzerat/\". We are also interested in the href itself, since it is our link to follow to the actual add. Another element important to us is h2 class = \"nadpis\", which contains title of the add, from which we can extract type of car. And the last interesting element is span with class \"velikost10\", which reffers to date uploaded.\n",
    "\n",
    "Now we can follow the link to the actual add page to see its content."
   ]
  },
  {
   "cell_type": "code",
   "execution_count": 173,
   "id": "f460d7f4",
   "metadata": {},
   "outputs": [
    {
     "name": "stdout",
     "output_type": "stream",
     "text": [
      "['https://auto.bazos.cz/inzerat/156117165/skoda-octavia-4-20tdi-110kw-dsg-28tkm-matrix-led-keyless.php', 'https://auto.bazos.cz/inzerat/157011033/led-svetlomet-skoda-octavia-iv.php']\n"
     ]
    }
   ],
   "source": [
    "today = date.today()\n",
    "# by the following code, we get the urls of each advertisement /offer/ (listed in the tabs we work with),\n",
    "# and save it to \"list_of_offers_url\"\n",
    "list_of_offers_url = list()\n",
    "\n",
    "for element in soup_list:\n",
    "    x = element.find('div', {'class':'inzeraty inzeratyflex'})\n",
    "    y = x.find('div', {'class':'inzeratynadpis'})\n",
    "    attribute_a = y.find('a')\n",
    "    w = attribute_a.get('href')\n",
    "    \n",
    "    attribute_span = y.find('span')\n",
    "    \n",
    "    #here we just obtain the date from the particular advertisement to make sure we analyze only ads added today\n",
    "    date_str = str(attribute_span.text)\n",
    "    date_str = date_str.replace(\" \",\"\")\n",
    "    date_str = date_str.strip(\"-[]\")\n",
    "    date_str = date_str.strip(\"TOP-[]\")\n",
    "    date_object = datetime.strptime(date_str,'%d.%m.%Y')\n",
    "    date_object = date_object.date()\n",
    "    \n",
    "    if date_object != today:\n",
    "        continue\n",
    "    \n",
    "    list_of_offers_url.append(f'https://auto.bazos.cz{w}')\n",
    "\n",
    "    \n",
    "print(list_of_offers_url)"
   ]
  },
  {
   "cell_type": "code",
   "execution_count": null,
   "id": "619f2c07",
   "metadata": {},
   "outputs": [],
   "source": [
    "#similar as above for class = 'velikos10', 'nadpis', ...\n",
    "# also the code below will be automatized using for loops, OOP, and etc."
   ]
  },
  {
   "cell_type": "code",
   "execution_count": null,
   "id": "b3aa4943",
   "metadata": {},
   "outputs": [],
   "source": [
    "# by the following code, we get the source text of each advertisement, again using the BeautifulSoup function,\n",
    "# then we save that into a list \"list_of_source_text_of_adv\"\n",
    "list_of_source_text_of_adv = list()\n",
    "for url_element in list_of_offers_url:\n",
    "    add_page = requests.get(url_element)\n",
    "    soup_add = BeautifulSoup(add_page.text, 'html')\n",
    "    list_of_offers_url.append(soup_add)"
   ]
  },
  {
   "cell_type": "code",
   "execution_count": 14,
   "id": "9fa79383",
   "metadata": {},
   "outputs": [
    {
     "name": "stdout",
     "output_type": "stream",
     "text": [
      "[]\n"
     ]
    }
   ],
   "source": [
    "# we will print just first element to check the content, since doing that for entire list would take too much time,\n",
    "# and probably even the output  would be too large to print\n",
    "print(list_of_source_text_of_adv)"
   ]
  },
  {
   "cell_type": "code",
   "execution_count": 7,
   "id": "caa43e57",
   "metadata": {},
   "outputs": [],
   "source": []
  },
  {
   "cell_type": "code",
   "execution_count": 8,
   "id": "b1d9b85e",
   "metadata": {},
   "outputs": [],
   "source": []
  },
  {
   "cell_type": "code",
   "execution_count": 9,
   "id": "dd7e03d2",
   "metadata": {},
   "outputs": [
    {
     "name": "stdout",
     "output_type": "stream",
     "text": [
      "None\n"
     ]
    }
   ],
   "source": [
    "#here should continue the text mining part? - if the code above works,\n",
    "# I (Daniel) will make it as OOP using class afterwards\n",
    "add_page = requests.get('https://auto.bazos.cz/inzerat/151109412/volkswagen-golf-gtd-135kw-manual-vyhrev-navi-led.php')\n",
    "soup_add = BeautifulSoup(add_page.text, 'html')\n",
    "print(soup_add.find('div', {'class':'popisdetail'}))"
   ]
  },
  {
   "cell_type": "markdown",
   "id": "93548d11",
   "metadata": {},
   "source": [
    "Here we can see the description, which we will use to extract parameters of the car. This will be one of the most difficult parts of the project to extract the relevant text in unformated text. There is no official format to the text, so we will have to find a way how to extract this information from various formats.\n",
    "\n",
    "After retrieving these informations, we will use analysis of the data got from this process."
   ]
  }
 ],
 "metadata": {
  "kernelspec": {
   "display_name": "Python 3 (ipykernel)",
   "language": "python",
   "name": "python3"
  },
  "language_info": {
   "codemirror_mode": {
    "name": "ipython",
    "version": 3
   },
   "file_extension": ".py",
   "mimetype": "text/x-python",
   "name": "python",
   "nbconvert_exporter": "python",
   "pygments_lexer": "ipython3",
   "version": "3.10.6"
  }
 },
 "nbformat": 4,
 "nbformat_minor": 5
}
