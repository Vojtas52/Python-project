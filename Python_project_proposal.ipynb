{
 "cells": [
  {
   "cell_type": "markdown",
   "id": "5a3d543d",
   "metadata": {},
   "source": [
    "<h1><center> Python project</center></h1>\n",
    "<h2><center>Current car prices and other relevant parameters from bazos.cz</center></h2>\n",
    "<h3><center>Daniel Brosko, Vojtěch Suchánek</center></h3>\n",
    "\n",
    "Our goal is to web-scrape advertisements listed on website bazos.cz, which is currently one of the most used websites for selling used cars in Czech republic. It has more than 15 000 car adds daily. On the other hand, it has really poor search options, which pretty much complicates searching for desired car based on your parameters.\n",
    "\n",
    "We are going to code algorithm, which will scan adds for the current day, pick those, which fulfill our conditions on date and car type and save their links. Then we will go to each link and save the text of the add. Then we will try to analyze the text of the add to find our parameters. In the end, we will perform some visualizations of distribution of price and selected parameters and try to select some underprices offers.\n",
    "\n",
    "This task might be better to perform continuouslly, for example each hour, to not overload the website. This approach might also allow for longer time period to analyze the data. But since this project should be designed as one-time run, we decided to limit the data to only current date."
   ]
  },
  {
   "cell_type": "code",
   "execution_count": 56,
   "id": "22d614ae",
   "metadata": {},
   "outputs": [],
   "source": [
    "import requests\n",
    "from bs4 import BeautifulSoup\n",
    "import re\n",
    "from datetime import date, datetime, timedelta\n",
    "import time\n",
    "import numpy as np\n",
    "import pandas as pd"
   ]
  },
  {
   "cell_type": "code",
   "execution_count": 51,
   "id": "2be076af",
   "metadata": {},
   "outputs": [],
   "source": [
    "# Just to get the version of packages for requirements.txt\n",
    "#pip list"
   ]
  },
  {
   "cell_type": "code",
   "execution_count": 18,
   "id": "988784bf",
   "metadata": {},
   "outputs": [],
   "source": [
    "bots = requests.get('https://auto.bazos.cz/robots.txt')\n",
    "#print(bots.text)"
   ]
  },
  {
   "cell_type": "markdown",
   "id": "8887d0ee",
   "metadata": {},
   "source": [
    "From the robots page we can see that our actions done in our projects are allowed, since we are not gonna use these search commands."
   ]
  },
  {
   "cell_type": "markdown",
   "id": "f3d424b1",
   "metadata": {},
   "source": [
    "Here we will get the main page from car section of bazos."
   ]
  },
  {
   "cell_type": "code",
   "execution_count": 19,
   "id": "f9eff4be",
   "metadata": {
    "scrolled": true
   },
   "outputs": [
    {
     "name": "stdout",
     "output_type": "stream",
     "text": [
      "['https://auto.bazos.cz/0/?hledat=octávia+3&hlokalita=&humkreis=25&cenaod=&cenado=&order=', 'https://auto.bazos.cz/20/?hledat=octávia+3&hlokalita=&humkreis=25&cenaod=&cenado=&order=', 'https://auto.bazos.cz/40/?hledat=octávia+3&hlokalita=&humkreis=25&cenaod=&cenado=&order=', 'https://auto.bazos.cz/60/?hledat=octávia+3&hlokalita=&humkreis=25&cenaod=&cenado=&order=', 'https://auto.bazos.cz/80/?hledat=octávia+3&hlokalita=&humkreis=25&cenaod=&cenado=&order=', 'https://auto.bazos.cz/100/?hledat=octávia+3&hlokalita=&humkreis=25&cenaod=&cenado=&order=', 'https://auto.bazos.cz/120/?hledat=octávia+3&hlokalita=&humkreis=25&cenaod=&cenado=&order=', 'https://auto.bazos.cz/140/?hledat=octávia+3&hlokalita=&humkreis=25&cenaod=&cenado=&order=', 'https://auto.bazos.cz/160/?hledat=octávia+3&hlokalita=&humkreis=25&cenaod=&cenado=&order=', 'https://auto.bazos.cz/180/?hledat=octávia+3&hlokalita=&humkreis=25&cenaod=&cenado=&order=', 'https://auto.bazos.cz/200/?hledat=octávia+3&hlokalita=&humkreis=25&cenaod=&cenado=&order=', 'https://auto.bazos.cz/220/?hledat=octávia+3&hlokalita=&humkreis=25&cenaod=&cenado=&order=', 'https://auto.bazos.cz/240/?hledat=octávia+3&hlokalita=&humkreis=25&cenaod=&cenado=&order=', 'https://auto.bazos.cz/260/?hledat=octávia+3&hlokalita=&humkreis=25&cenaod=&cenado=&order=', 'https://auto.bazos.cz/280/?hledat=octávia+3&hlokalita=&humkreis=25&cenaod=&cenado=&order=', 'https://auto.bazos.cz/300/?hledat=octávia+3&hlokalita=&humkreis=25&cenaod=&cenado=&order=', 'https://auto.bazos.cz/320/?hledat=octávia+3&hlokalita=&humkreis=25&cenaod=&cenado=&order=', 'https://auto.bazos.cz/340/?hledat=octávia+3&hlokalita=&humkreis=25&cenaod=&cenado=&order=', 'https://auto.bazos.cz/360/?hledat=octávia+3&hlokalita=&humkreis=25&cenaod=&cenado=&order=', 'https://auto.bazos.cz/380/?hledat=octávia+3&hlokalita=&humkreis=25&cenaod=&cenado=&order=', 'https://auto.bazos.cz/400/?hledat=octávia+3&hlokalita=&humkreis=25&cenaod=&cenado=&order=', 'https://auto.bazos.cz/420/?hledat=octávia+3&hlokalita=&humkreis=25&cenaod=&cenado=&order=', 'https://auto.bazos.cz/440/?hledat=octávia+3&hlokalita=&humkreis=25&cenaod=&cenado=&order=', 'https://auto.bazos.cz/460/?hledat=octávia+3&hlokalita=&humkreis=25&cenaod=&cenado=&order=', 'https://auto.bazos.cz/480/?hledat=octávia+3&hlokalita=&humkreis=25&cenaod=&cenado=&order=', 'https://auto.bazos.cz/500/?hledat=octávia+3&hlokalita=&humkreis=25&cenaod=&cenado=&order=', 'https://auto.bazos.cz/520/?hledat=octávia+3&hlokalita=&humkreis=25&cenaod=&cenado=&order=', 'https://auto.bazos.cz/540/?hledat=octávia+3&hlokalita=&humkreis=25&cenaod=&cenado=&order=', 'https://auto.bazos.cz/560/?hledat=octávia+3&hlokalita=&humkreis=25&cenaod=&cenado=&order=', 'https://auto.bazos.cz/580/?hledat=octávia+3&hlokalita=&humkreis=25&cenaod=&cenado=&order=', 'https://auto.bazos.cz/600/?hledat=octávia+3&hlokalita=&humkreis=25&cenaod=&cenado=&order=', 'https://auto.bazos.cz/620/?hledat=octávia+3&hlokalita=&humkreis=25&cenaod=&cenado=&order=', 'https://auto.bazos.cz/640/?hledat=octávia+3&hlokalita=&humkreis=25&cenaod=&cenado=&order=', 'https://auto.bazos.cz/660/?hledat=octávia+3&hlokalita=&humkreis=25&cenaod=&cenado=&order=', 'https://auto.bazos.cz/680/?hledat=octávia+3&hlokalita=&humkreis=25&cenaod=&cenado=&order=', 'https://auto.bazos.cz/700/?hledat=octávia+3&hlokalita=&humkreis=25&cenaod=&cenado=&order=', 'https://auto.bazos.cz/720/?hledat=octávia+3&hlokalita=&humkreis=25&cenaod=&cenado=&order=', 'https://auto.bazos.cz/740/?hledat=octávia+3&hlokalita=&humkreis=25&cenaod=&cenado=&order=', 'https://auto.bazos.cz/760/?hledat=octávia+3&hlokalita=&humkreis=25&cenaod=&cenado=&order=', 'https://auto.bazos.cz/780/?hledat=octávia+3&hlokalita=&humkreis=25&cenaod=&cenado=&order=', 'https://auto.bazos.cz/800/?hledat=octávia+3&hlokalita=&humkreis=25&cenaod=&cenado=&order=', 'https://auto.bazos.cz/820/?hledat=octávia+3&hlokalita=&humkreis=25&cenaod=&cenado=&order=', 'https://auto.bazos.cz/840/?hledat=octávia+3&hlokalita=&humkreis=25&cenaod=&cenado=&order=', 'https://auto.bazos.cz/860/?hledat=octávia+3&hlokalita=&humkreis=25&cenaod=&cenado=&order=', 'https://auto.bazos.cz/880/?hledat=octávia+3&hlokalita=&humkreis=25&cenaod=&cenado=&order=', 'https://auto.bazos.cz/900/?hledat=octávia+3&hlokalita=&humkreis=25&cenaod=&cenado=&order=', 'https://auto.bazos.cz/920/?hledat=octávia+3&hlokalita=&humkreis=25&cenaod=&cenado=&order=', 'https://auto.bazos.cz/940/?hledat=octávia+3&hlokalita=&humkreis=25&cenaod=&cenado=&order=', 'https://auto.bazos.cz/960/?hledat=octávia+3&hlokalita=&humkreis=25&cenaod=&cenado=&order=', 'https://auto.bazos.cz/980/?hledat=octávia+3&hlokalita=&humkreis=25&cenaod=&cenado=&order=', 'https://auto.bazos.cz/1000/?hledat=octávia+3&hlokalita=&humkreis=25&cenaod=&cenado=&order=', 'https://auto.bazos.cz/1020/?hledat=octávia+3&hlokalita=&humkreis=25&cenaod=&cenado=&order=', 'https://auto.bazos.cz/1040/?hledat=octávia+3&hlokalita=&humkreis=25&cenaod=&cenado=&order=', 'https://auto.bazos.cz/1060/?hledat=octávia+3&hlokalita=&humkreis=25&cenaod=&cenado=&order=', 'https://auto.bazos.cz/1080/?hledat=octávia+3&hlokalita=&humkreis=25&cenaod=&cenado=&order=', 'https://auto.bazos.cz/1100/?hledat=octávia+3&hlokalita=&humkreis=25&cenaod=&cenado=&order=', 'https://auto.bazos.cz/1120/?hledat=octávia+3&hlokalita=&humkreis=25&cenaod=&cenado=&order=', 'https://auto.bazos.cz/1140/?hledat=octávia+3&hlokalita=&humkreis=25&cenaod=&cenado=&order=', 'https://auto.bazos.cz/1160/?hledat=octávia+3&hlokalita=&humkreis=25&cenaod=&cenado=&order=', 'https://auto.bazos.cz/1180/?hledat=octávia+3&hlokalita=&humkreis=25&cenaod=&cenado=&order=', 'https://auto.bazos.cz/1200/?hledat=octávia+3&hlokalita=&humkreis=25&cenaod=&cenado=&order=', 'https://auto.bazos.cz/1220/?hledat=octávia+3&hlokalita=&humkreis=25&cenaod=&cenado=&order=', 'https://auto.bazos.cz/1240/?hledat=octávia+3&hlokalita=&humkreis=25&cenaod=&cenado=&order=', 'https://auto.bazos.cz/1260/?hledat=octávia+3&hlokalita=&humkreis=25&cenaod=&cenado=&order=', 'https://auto.bazos.cz/1280/?hledat=octávia+3&hlokalita=&humkreis=25&cenaod=&cenado=&order=', 'https://auto.bazos.cz/1300/?hledat=octávia+3&hlokalita=&humkreis=25&cenaod=&cenado=&order=', 'https://auto.bazos.cz/1320/?hledat=octávia+3&hlokalita=&humkreis=25&cenaod=&cenado=&order=', 'https://auto.bazos.cz/1340/?hledat=octávia+3&hlokalita=&humkreis=25&cenaod=&cenado=&order=', 'https://auto.bazos.cz/1360/?hledat=octávia+3&hlokalita=&humkreis=25&cenaod=&cenado=&order=', 'https://auto.bazos.cz/1380/?hledat=octávia+3&hlokalita=&humkreis=25&cenaod=&cenado=&order=', 'https://auto.bazos.cz/1400/?hledat=octávia+3&hlokalita=&humkreis=25&cenaod=&cenado=&order=', 'https://auto.bazos.cz/1420/?hledat=octávia+3&hlokalita=&humkreis=25&cenaod=&cenado=&order=', 'https://auto.bazos.cz/1440/?hledat=octávia+3&hlokalita=&humkreis=25&cenaod=&cenado=&order=', 'https://auto.bazos.cz/1460/?hledat=octávia+3&hlokalita=&humkreis=25&cenaod=&cenado=&order=', 'https://auto.bazos.cz/1480/?hledat=octávia+3&hlokalita=&humkreis=25&cenaod=&cenado=&order=', 'https://auto.bazos.cz/1500/?hledat=octávia+3&hlokalita=&humkreis=25&cenaod=&cenado=&order=', 'https://auto.bazos.cz/1520/?hledat=octávia+3&hlokalita=&humkreis=25&cenaod=&cenado=&order=', 'https://auto.bazos.cz/1540/?hledat=octávia+3&hlokalita=&humkreis=25&cenaod=&cenado=&order=', 'https://auto.bazos.cz/1560/?hledat=octávia+3&hlokalita=&humkreis=25&cenaod=&cenado=&order=', 'https://auto.bazos.cz/1580/?hledat=octávia+3&hlokalita=&humkreis=25&cenaod=&cenado=&order=', 'https://auto.bazos.cz/1600/?hledat=octávia+3&hlokalita=&humkreis=25&cenaod=&cenado=&order=', 'https://auto.bazos.cz/1620/?hledat=octávia+3&hlokalita=&humkreis=25&cenaod=&cenado=&order=', 'https://auto.bazos.cz/1640/?hledat=octávia+3&hlokalita=&humkreis=25&cenaod=&cenado=&order=', 'https://auto.bazos.cz/1660/?hledat=octávia+3&hlokalita=&humkreis=25&cenaod=&cenado=&order=', 'https://auto.bazos.cz/1680/?hledat=octávia+3&hlokalita=&humkreis=25&cenaod=&cenado=&order=', 'https://auto.bazos.cz/1700/?hledat=octávia+3&hlokalita=&humkreis=25&cenaod=&cenado=&order=', 'https://auto.bazos.cz/1720/?hledat=octávia+3&hlokalita=&humkreis=25&cenaod=&cenado=&order=', 'https://auto.bazos.cz/1740/?hledat=octávia+3&hlokalita=&humkreis=25&cenaod=&cenado=&order=', 'https://auto.bazos.cz/1760/?hledat=octávia+3&hlokalita=&humkreis=25&cenaod=&cenado=&order=', 'https://auto.bazos.cz/1780/?hledat=octávia+3&hlokalita=&humkreis=25&cenaod=&cenado=&order=', 'https://auto.bazos.cz/1800/?hledat=octávia+3&hlokalita=&humkreis=25&cenaod=&cenado=&order=', 'https://auto.bazos.cz/1820/?hledat=octávia+3&hlokalita=&humkreis=25&cenaod=&cenado=&order=', 'https://auto.bazos.cz/1840/?hledat=octávia+3&hlokalita=&humkreis=25&cenaod=&cenado=&order=', 'https://auto.bazos.cz/1860/?hledat=octávia+3&hlokalita=&humkreis=25&cenaod=&cenado=&order=', 'https://auto.bazos.cz/1880/?hledat=octávia+3&hlokalita=&humkreis=25&cenaod=&cenado=&order=', 'https://auto.bazos.cz/1900/?hledat=octávia+3&hlokalita=&humkreis=25&cenaod=&cenado=&order=', 'https://auto.bazos.cz/1920/?hledat=octávia+3&hlokalita=&humkreis=25&cenaod=&cenado=&order=', 'https://auto.bazos.cz/1940/?hledat=octávia+3&hlokalita=&humkreis=25&cenaod=&cenado=&order=', 'https://auto.bazos.cz/1960/?hledat=octávia+3&hlokalita=&humkreis=25&cenaod=&cenado=&order=', 'https://auto.bazos.cz/1980/?hledat=octávia+3&hlokalita=&humkreis=25&cenaod=&cenado=&order=', 'https://auto.bazos.cz/2000/?hledat=octávia+3&hlokalita=&humkreis=25&cenaod=&cenado=&order=', 'https://auto.bazos.cz/2020/?hledat=octávia+3&hlokalita=&humkreis=25&cenaod=&cenado=&order=', 'https://auto.bazos.cz/2040/?hledat=octávia+3&hlokalita=&humkreis=25&cenaod=&cenado=&order=', 'https://auto.bazos.cz/2060/?hledat=octávia+3&hlokalita=&humkreis=25&cenaod=&cenado=&order=', 'https://auto.bazos.cz/2080/?hledat=octávia+3&hlokalita=&humkreis=25&cenaod=&cenado=&order=', 'https://auto.bazos.cz/2100/?hledat=octávia+3&hlokalita=&humkreis=25&cenaod=&cenado=&order=', 'https://auto.bazos.cz/2120/?hledat=octávia+3&hlokalita=&humkreis=25&cenaod=&cenado=&order=']\n"
     ]
    }
   ],
   "source": [
    "# firstly, we define the input variable so the user can search according to their preference\n",
    "user_search_input = str(\"octávia 3\")\n",
    "user_search_input = re.sub(r\"[^\\w\\s]\", '', user_search_input)\n",
    "user_search_input = re.sub(r\"\\s+\", '+', user_search_input)\n",
    "\n",
    "no_of_adv_url = 'https://auto.bazos.cz/0/?hledat=' + user_search_input + '&hlokalita=&humkreis=25&cenaod=&cenado=&order='\n",
    "\n",
    "page = requests.get(no_of_adv_url)\n",
    "no_of_adv_html = BeautifulSoup(page.text, 'html')\n",
    "\n",
    "get_no_adv = no_of_adv_html.find('div', {'class':'listainzerat inzeratyflex'})\n",
    "get_no_adv = get_no_adv.find('div', {'class':'inzeratynadpis'})\n",
    "get_no_adv = get_no_adv.text\n",
    "get_no_adv = get_no_adv.split(\"z \")[-1]\n",
    "number_adv = get_no_adv.replace(\" \",\"\")\n",
    "number_adv = int(number_adv)\n",
    "# works properly, \"number_adv\" represents total number of advertisements for particular search input,\n",
    "# however, we modify it so that it correspondents correctly to the structure of page\n",
    "no_of_ad_lists = number_adv // 20\n",
    "if number_adv % 20 == 0:\n",
    "    number_adv = no_of_ad_lists * 19\n",
    "else:\n",
    "    number_adv = no_of_ad_lists * 20\n",
    "\n",
    "\n",
    "number_sequence = range(0, number_adv, 20) #start, stop (not included), step\n",
    "# we create empty list for saving the urls,\n",
    "# and then append other tabs with offers (since there are only 20 offers per tab by default)\n",
    "main_url_list = list()\n",
    "\n",
    "for i in range(0,len(number_sequence)):\n",
    "    url = f'https://auto.bazos.cz/{number_sequence[i]}/'\n",
    "    url = url + '?hledat=' + user_search_input + '&hlokalita=&humkreis=25&cenaod=&cenado=&order='\n",
    "    main_url_list.append(url)\n",
    "# here we can check the list of urls for particular tabs\n",
    "#print(main_url_list)"
   ]
  },
  {
   "cell_type": "code",
   "execution_count": 33,
   "id": "878c4324",
   "metadata": {},
   "outputs": [],
   "source": [
    "# in the next step, we get the text of each of those tabs using the BeautifulSoup function,\n",
    "# and save it as elements of the \"soup_list\"\n",
    "soup_list = list()\n",
    "for url in main_url_list:\n",
    "    page = requests.get(url)\n",
    "\n",
    "    ## MAYBE SLOW DOWN LATER by 0.3s per iteration\n",
    "    soup_list.append(BeautifulSoup(page.text, 'html'))\n",
    "\n",
    "# filter to cut-off pseudo-empty elements in main_url_list to prevent the unwanted behaviour of the code\n",
    "res_soup_list = []\n",
    "for element in soup_list:\n",
    "    if \"html\" in element:\n",
    "        res_soup_list.append(element)\n",
    "soup_list = res_soup_list"
   ]
  },
  {
   "cell_type": "markdown",
   "id": "d839ec54",
   "metadata": {},
   "source": [
    "There are 20 adds plus other page elements. Lets pick just one add to see their construction."
   ]
  },
  {
   "cell_type": "markdown",
   "id": "4889ec75",
   "metadata": {},
   "source": [
    "There are several elements, which are important to us. In this section, we are interested in add id, which we are able to extract from href in element a on the second line. Its the number after \"inzerat/\". We are also interested in the href itself, since it is our link to follow to the actual add. Another element important to us is h2 class = \"nadpis\", which contains title of the add, from which we can extract type of car. And the last interesting element is span with class \"velikost10\", which reffers to date uploaded.\n",
    "\n",
    "Now we can follow the link to the actual add page to see its content."
   ]
  },
  {
   "cell_type": "markdown",
   "id": "478a032d",
   "metadata": {},
   "source": [
    "In the next chunk, we filter for the ads added today - if we compare the numbers, now we have today's 98 of out entire 2020 (as of now) avertisements."
   ]
  },
  {
   "cell_type": "code",
   "execution_count": 80,
   "id": "df17f904",
   "metadata": {},
   "outputs": [
    {
     "name": "stdout",
     "output_type": "stream",
     "text": [
      "473\n",
      "['https://auto.bazos.cz/inzerat/157075143/skoda-octavia-3-20tdi-110kw-dsg-plna-zaruka-2-roky-zdarma.php', 'https://auto.bazos.cz/inzerat/157035970/octavia-scout-4x420tdi-110kwr2018dsgledacc123tiskm.php', 'https://auto.bazos.cz/inzerat/157035183/octavia-rs-20tsi-230psm2018facecantoncolumbuslane.php', 'https://auto.bazos.cz/inzerat/156861400/skoda-octavia-3-20tdi-110kw-plna-zaruka-2-roky-zdarma.php', 'https://auto.bazos.cz/inzerat/156839898/skoda-octavia-3-20tdi-110kw-dsg-plna-zaruka-2-roky-zdarma.php', 'https://auto.bazos.cz/inzerat/156800462/skoda-octavia-3-16tdi-85kw-plna-zaruka-2-roky-zdarma.php', 'https://auto.bazos.cz/inzerat/156776866/skoda-octavia-3-fc-14tsi-cng-81kw-dsg-style-koupcr107tkm.php', 'https://auto.bazos.cz/inzerat/156583245/skoda-octavia-3-16tdi-85kw-dsg-plna-zaruka-2-roky-zdarma.php', 'https://auto.bazos.cz/inzerat/157066972/skoda-octavia-rs-dsg-fullled-acc-columbus-vyhrsedacky.php', 'https://auto.bazos.cz/inzerat/157066943/skoda-octavia-iii-rs-fullled-navi-panorama-vyhrsedacky.php', 'https://auto.bazos.cz/inzerat/156538058/skoda-octavia-3-15tsi-110kw-plna-zaruka-2-roky-zdarma.php', 'https://auto.bazos.cz/inzerat/156512794/skoda-octavia-3-fc-16tdi-85kw-koupcr1majiteltazne2017.php', 'https://auto.bazos.cz/inzerat/156511278/skoda-octavia-3-fc-20tdi-110kw-4x4-koupcr1majitel78tkm.php', 'https://auto.bazos.cz/inzerat/156458612/skoda-octavia-iii-rs-20-tsi-162kwvyhrsklo-columbustazne.php', 'https://auto.bazos.cz/inzerat/156454350/octavia-scout-4x420tdi-110kw6stmancolumbus113tiskm.php', 'https://auto.bazos.cz/inzerat/156416445/skoda-octavia-3-fc-14tsi-cng-81kw-dsg-style-koupcr111tkm.php', 'https://auto.bazos.cz/inzerat/157066677/skoda-octavia-iii-tsi-ambition-vyhrsedacky-senzory.php', 'https://auto.bazos.cz/inzerat/156371658/octavia-iii-14-tsi-110kw-dsg-business-style-odpocet-dph.php', 'https://auto.bazos.cz/inzerat/157020354/skoda-octavia-3-14-tsi-103kw-125tkm-klimaautomatik.php', 'https://auto.bazos.cz/inzerat/156898684/skoda-octavia-iii-tsi-dsg-fullled-navi-vyhrsedacky-tazne.php', 'https://auto.bazos.cz/inzerat/156928243/skoda-octavia-3-18-tsi-132kw-85tkm-1majitel-acc-navi-led.php', 'https://auto.bazos.cz/inzerat/156252288/skoda-octavia-3-fc-16tdi-85kw-koupcr1majitel201977tkm.php', 'https://auto.bazos.cz/inzerat/156899499/skoda-octavia-iii-style-acc-xenon-columbus-senzory.php', 'https://auto.bazos.cz/inzerat/155953550/skoda-octavia-iii-combi-14-tsi-110kw-2018-puvod-cr-dph.php', 'https://auto.bazos.cz/inzerat/156216596/skoda-octavia-3-15tsi-110kw-style-dsgneztopeni2019cr.php', 'https://auto.bazos.cz/inzerat/156116224/skoda-kodiaq-4x4-20-tdi-140kw-dsg2019stylevirtualcrdph.php', 'https://auto.bazos.cz/inzerat/156722365/skoda-octavia-iii-rs-4x4-fullled-acc-dcc-columbus-webasto.php', 'https://auto.bazos.cz/inzerat/156724451/skoda-octavia-iii-tsi-dsg-xenon-columbus-webasto.php', 'https://auto.bazos.cz/inzerat/156722270/skoda-octavia-tsi-style-fullled-kamera-vyhrsedacky.php', 'https://auto.bazos.cz/inzerat/156118438/skoda-octavia-3-20tsi-140kw-dsg-panorama-nakup-v-klidu.php', 'https://auto.bazos.cz/inzerat/156117308/skoda-octavia-3-rs-245-20tsi-dsg-78tkm-dcc-full-led-dab-acc.php', 'https://auto.bazos.cz/inzerat/156080631/skoda-octavia-3-fc-16tdi-85kw-style-koupcr1majitel2019.php', 'https://auto.bazos.cz/inzerat/156559059/skoda-octavia-3-16tdi-77kw-bixenon-panorama-navi-parkasist.php', 'https://auto.bazos.cz/inzerat/156625476/skoda-octavia-kombi-3-vrs-20tdi-135kw-dsg.php', 'https://auto.bazos.cz/inzerat/156463895/skoda-octavia-3-14tsi.php', 'https://auto.bazos.cz/inzerat/155970833/skoda-octavia-3-20tdi-110kw-dsg-elviko-led-appconnect.php', 'https://auto.bazos.cz/inzerat/155970730/skoda-octavia-3-20tdi-110kw-canton-dab-nakup-v-klidu.php', 'https://auto.bazos.cz/inzerat/156787528/octavia-3-fl-style-16-tdi-85-kw.php', 'https://auto.bazos.cz/inzerat/156218183/skoda-octavia-3-rs-20tdi-135kw-top-cz-puvod.php', 'https://auto.bazos.cz/inzerat/156487898/skoda-octavia-iii-20-tdi-135kw-4x4-dsg-dph.php', 'https://auto.bazos.cz/inzerat/157061853/skoda-octavia-3-20tdi-110kw-dsg.php', 'https://auto.bazos.cz/inzerat/155752703/skoda-octavia-3-20tdi-4x4-110kw-dsg-al17-webasto-full-led.php', 'https://auto.bazos.cz/inzerat/156976635/skoda-octavia-iii-20-tdi-110-kw-dsg-combi-drive.php', 'https://auto.bazos.cz/inzerat/155676510/skoda-octavia-3-rs-20tdi-135kw-dsg-panorama-nakup-v-klidu.php', 'https://auto.bazos.cz/inzerat/156268385/skoda-octavia-16-tdi-combi.php', 'https://auto.bazos.cz/inzerat/156285764/skoda-octavia-iii-tsi-style-xenon-columbus-vyhrsedacky.php', 'https://auto.bazos.cz/inzerat/155633748/skoda-octavia-3-14tsi-g-tec-81kw-panorama-kuze-full-led.php', 'https://auto.bazos.cz/inzerat/156861644/skoda-octavia-3.php', 'https://auto.bazos.cz/inzerat/156055868/octavia-3-rs-tsi-180kw-2020.php', 'https://auto.bazos.cz/inzerat/156986825/prodam-origo-sadu-skoda-octavia.php', 'https://auto.bazos.cz/inzerat/156272101/rizeni-pro-skoda-vw.php', 'https://auto.bazos.cz/inzerat/157058620/skoda-octavia-3-5e-nahradni-dily.php', 'https://auto.bazos.cz/inzerat/157058415/skoda-octavia-3-5e-facelift-nahradni-dily.php', 'https://auto.bazos.cz/inzerat/155736867/radio-swing-pro-skoda-octavia-iii-5e0035871d.php', 'https://auto.bazos.cz/inzerat/157029392/skoda-octavia-iii-18tsi-dsg-4x4.php', 'https://auto.bazos.cz/inzerat/156812248/skoda-octavia-challenge-rs-combi-20-tdi-135kw.php', 'https://auto.bazos.cz/inzerat/156812397/skoda-octavia-3-facelift-20tdi-110kw.php', 'https://auto.bazos.cz/inzerat/157012610/skoda-octavia-320-tdi110-kw112014crtop-stav-nehavar.php', 'https://auto.bazos.cz/inzerat/157005391/octavia-3-rs-20-tdi.php', 'https://auto.bazos.cz/inzerat/156145341/octavia.php', 'https://auto.bazos.cz/inzerat/156943422/sada-kol-octavia-35-zimni-plech-2055516.php', 'https://auto.bazos.cz/inzerat/156553458/5x112-r16-original-alu-disky-skoda-octavia-3-2020.php', 'https://auto.bazos.cz/inzerat/156564360/octavia-3-hlavy-motoru-tdi.php', 'https://auto.bazos.cz/inzerat/156410679/octavia-3-combi-16-tdi-rv-2016.php', 'https://auto.bazos.cz/inzerat/155904809/octavia-iii-16tdi-81kw-style-1maj-2016-cr-digiklima-dph.php', 'https://auto.bazos.cz/inzerat/156574604/skoda-octavia-iii-scout-20-tdi-135kw-dsg-navi-tazne.php', 'https://auto.bazos.cz/inzerat/156975210/skoda-octavia-iii-rs.php', 'https://auto.bazos.cz/inzerat/156334791/octavia-3-combi-navigace-servisni-knizka-pekna-vybava.php', 'https://auto.bazos.cz/inzerat/156935895/skoda-octavia-3-superb-2-zimni-alu-kola-17-top-design.php', 'https://auto.bazos.cz/inzerat/156935792/skoda-octavia-superb-zimni-alu-kola-17-5x112.php', 'https://auto.bazos.cz/inzerat/155443203/skoda-octavia-3-fc-10tsi-85kw-koupcr1majitel201875tkm.php', 'https://auto.bazos.cz/inzerat/156922992/skoda-octavia-3-fc-16tdi-85kw-dsgkoupcr52019.php', 'https://auto.bazos.cz/inzerat/156931913/skoda-octavia-3-combi-20-tdi-110kw-100tis-km-nez-topeni.php', 'https://auto.bazos.cz/inzerat/156413656/skoda-octavia-3-20tdi-dsg.php', 'https://auto.bazos.cz/inzerat/155700587/skoda-octavia-3-rs-20tdi-135kw-top-stav.php', 'https://auto.bazos.cz/inzerat/156914984/skoda-octavia-3-dsg-16tdi-77kw-xenon-stav.php', 'https://auto.bazos.cz/inzerat/155094628/skoda-octavia-iii-combi-16-tdi-navipdc-cr-dph.php', 'https://auto.bazos.cz/inzerat/156896886/skoda-octavia-3-rs-20-135kw-4x4-dsg-top-stav.php', 'https://auto.bazos.cz/inzerat/156480836/skoda-octavia-3-16tdi.php', 'https://auto.bazos.cz/inzerat/155354147/skoda-octavia-3-fc-20tdi-110kw-style-koupcr1majitel2018.php', 'https://auto.bazos.cz/inzerat/156024216/skoda-octavia-3-rs-liftback.php', 'https://auto.bazos.cz/inzerat/156879818/multifunkcni-volant-5e0419091ah-skoda-octavia-3-rv-2013.php', 'https://auto.bazos.cz/inzerat/156879203/ridici-jednotka-abs-5q0907379r-agregat-5q0614517q.php', 'https://auto.bazos.cz/inzerat/156879000/skoda-octavia-3-greenline-rozvody.php', 'https://auto.bazos.cz/inzerat/156646740/rizeni-octavia-3-nove-original-kompletni-rizeni-octavie-3.php', 'https://auto.bazos.cz/inzerat/155859328/skoda-octavia-3-rs-20tsi-challenge-combi-manual-facelift.php', 'https://auto.bazos.cz/inzerat/156867606/skoda-octavia-iii-naraznik.php', 'https://auto.bazos.cz/inzerat/156858058/zimni-sada-17-alu-kol-crystal.php', 'https://auto.bazos.cz/inzerat/156853685/prevodovka-6q-dsg-hut-20tsi-147kw-axx-vw-golf-5-gti-152tis.php', 'https://auto.bazos.cz/inzerat/156752913/skoda-octavia-3-facelift-16tdi-clever-led-navi-alu.php', 'https://auto.bazos.cz/inzerat/156551382/skoda-octavia-3-combi-16-tdi-81kw-style-vybava.php', 'https://auto.bazos.cz/inzerat/156686405/octavia-3-dsg-14tsi-110kw-style-1maj-2018-cr-lednavi-dph.php', 'https://auto.bazos.cz/inzerat/156811576/skoda-octavia-3-rs-combi-20tdi-dsg-odecet-dph.php', 'https://auto.bazos.cz/inzerat/156439682/zanovni-motor-skoda-octavia-3-20-tdi-110k-typ-crv.php', 'https://auto.bazos.cz/inzerat/157090267/predni-naraznik-skoda-octavia-3-facelift-topmodra-pacific.php', 'https://auto.bazos.cz/inzerat/157090247/predni-naraznik-skoda-octavia-3-facelift-top-moon-weiss.php', 'https://auto.bazos.cz/inzerat/157090204/predni-naraznik-skoda-octavia-3-facelift-moon-weiss.php', 'https://auto.bazos.cz/inzerat/157089756/octavia-iii-20tdi-110kw-dsg-style-1maj-cr-digiklima-dph.php', 'https://auto.bazos.cz/inzerat/157088624/hybridni-disky-16-octavia-3.php', 'https://auto.bazos.cz/inzerat/156782825/original-sada-skoda-octavia-3.php', 'https://auto.bazos.cz/inzerat/157088312/skoda-octavia-20-tdi-rv-2013-110kw.php', 'https://auto.bazos.cz/inzerat/157087989/skoda-octavia-3-rs-combi.php', 'https://auto.bazos.cz/inzerat/157087608/lita-kola-alaris-18-skoda-octavia-3.php', 'https://auto.bazos.cz/inzerat/157086054/poklice-skoda-octavia-a-superb-1-kus.php', 'https://auto.bazos.cz/inzerat/157085991/vypln-kufru-skoda-octavia-3-opravna-sada-a-kompresor-2018.php', 'https://auto.bazos.cz/inzerat/157085577/octavia-iii-20-tdi-dsg-rs-paket-2015.php', 'https://auto.bazos.cz/inzerat/157085343/logo-do-volantu-pre-skoda.php', 'https://auto.bazos.cz/inzerat/157085066/skoda-octavia-3-16tdi-85kw.php', 'https://auto.bazos.cz/inzerat/157084059/skoda-octavia-3-dvere.php', 'https://auto.bazos.cz/inzerat/157083100/predni-naraznik-skoda-octavia-3-facelift-seda.php', 'https://auto.bazos.cz/inzerat/157082816/skoda-octavia-3.php', 'https://auto.bazos.cz/inzerat/157082216/skoda-yeti-12tsi-77kw.php', 'https://auto.bazos.cz/inzerat/156776679/skoda-octavia-combi-rs-20-135kw-2014.php', 'https://auto.bazos.cz/inzerat/157081509/nerezove-naslapy-pre-skoda-volkswagen-audi-seat.php', 'https://auto.bazos.cz/inzerat/157079802/tazny-hak-bajonet-octavia-3.php', 'https://auto.bazos.cz/inzerat/157079561/ocelove-disky-skoda-octavia-3.php', 'https://auto.bazos.cz/inzerat/157078133/skoda-octavia-iii-20tdi-110kw.php', 'https://auto.bazos.cz/inzerat/157077650/mlhovky-octavia-3-mrizky.php', 'https://auto.bazos.cz/inzerat/157077233/skoda-octavia-3-tdi.php', 'https://auto.bazos.cz/inzerat/155380794/skoda-octavia-iii-elegance-20-tdi-110-kw.php', 'https://auto.bazos.cz/inzerat/156757113/latkove-sedacky-skoda-octavia-3-kombi-rv-2016.php', 'https://auto.bazos.cz/inzerat/156753726/leve-a-prave-zrcatko-bila-lf9f-skoda-octavia-3-kombi-2016.php', 'https://auto.bazos.cz/inzerat/156753195/naftove-budiky-5e0920701b-skoda-octavia-3-kombi-rv-2016.php', 'https://auto.bazos.cz/inzerat/156752827/navigace-lcd-amundsen-5e0919605j-5q0035874a-skoda-octavia-3.php', 'https://auto.bazos.cz/inzerat/156752102/dekor-skoda-octavia-3-kombi-rv-2016.php', 'https://auto.bazos.cz/inzerat/156751694/prepinac-kombinovany-skoda-octavia-3-kombi-rv-2016.php', 'https://auto.bazos.cz/inzerat/157075344/autoradio-bolero-skoda-octavia-3-s-ovladaci-jednotkou.php', 'https://auto.bazos.cz/inzerat/157074884/mmb-box-multimedia-box-carplay.php', 'https://auto.bazos.cz/inzerat/157074882/skoda-octavia-3-zadni-naraznik.php', 'https://auto.bazos.cz/inzerat/157074265/vzpera-patych-dveri-octavia-3-leva-elektricka.php', 'https://auto.bazos.cz/inzerat/157073579/zimni-pneu-continental-winter-contact-ts860-vc-disku.php', 'https://auto.bazos.cz/inzerat/157073476/svetlomet-skoda-octavia-3.php', 'https://auto.bazos.cz/inzerat/157072481/octavia-3-kola-zimni.php', 'https://auto.bazos.cz/inzerat/155905893/octavia-3-dsg-16tdi-85kw-style-1maj-2018-cr-fullled-dph.php', 'https://auto.bazos.cz/inzerat/157070813/skoda-octavia-3-predni-naraznik.php', 'https://auto.bazos.cz/inzerat/157070473/octavia-3-20tdi-110kw.php', 'https://auto.bazos.cz/inzerat/157069574/nove-kola-vega-18-skoda-octavia-iii-22540-r18.php', 'https://auto.bazos.cz/inzerat/157069032/nove-kola-turini-18-skoda-octavia-iii-22540r18.php', 'https://auto.bazos.cz/inzerat/157068676/mlhovky-octavia-3-iii.php', 'https://auto.bazos.cz/inzerat/157067738/kapota-octavia-3-facelift.php', 'https://auto.bazos.cz/inzerat/157063951/skoda-r17-5x112.php', 'https://auto.bazos.cz/inzerat/157063942/prodam-poklice-skoda-15scala-octavia-34nove.php', 'https://auto.bazos.cz/inzerat/156755867/skoda-octavia-3-facelift-15-tsi110kwdsgkamzaruka.php', 'https://auto.bazos.cz/inzerat/157063127/palivovy-filtr-octavia-3-5q0127400j.php', 'https://auto.bazos.cz/inzerat/157063095/skoda-octavia-3fl-20-tsi-140kw.php', 'https://auto.bazos.cz/inzerat/157062932/palivovy-filtr-5q0127400gj-octavia-3-16-a-20-tdi.php', 'https://auto.bazos.cz/inzerat/156754521/skoda-octavia-iii-sportline-4x4.php', 'https://auto.bazos.cz/inzerat/157061689/svetla-na-vozy-skoda-a-vw.php', 'https://auto.bazos.cz/inzerat/157059985/skoda-octavia-3-bocnice.php', 'https://auto.bazos.cz/inzerat/157058829/skoda-octavia-3-combi-20-tdi-110-kw.php', 'https://auto.bazos.cz/inzerat/157058697/renovovany-volant-skoda-2013-2018-octavia-3.php', 'https://auto.bazos.cz/inzerat/156714436/pravy-blatnik-bila-barva-lf9f-j3j3-skoda-octavia-3-kombi-16.php', 'https://auto.bazos.cz/inzerat/156715506/cerna-palubni-deska-airbagy-pasy-rj-skoda-octavia-3-2016.php', 'https://auto.bazos.cz/inzerat/156718633/tahlo-moturek-steracu-5e1955023a-skoda-octavia-3-2016.php', 'https://auto.bazos.cz/inzerat/156719202/plato-viko-kufru-5e9867871b-skoda-octavia-3-kombi-2016.php', 'https://auto.bazos.cz/inzerat/156720264/chromove-hagusy-skoda-octavia-3-kombi-rv-2016.php', 'https://auto.bazos.cz/inzerat/156722869/original-alu-skoda-octavia-3-17-7j-et49-letni-22545r17.php', 'https://auto.bazos.cz/inzerat/157058417/ctyr-ramenny-volant-skoda-fabia3-rapid-octavia3.php', 'https://auto.bazos.cz/inzerat/156750688/prenecham-leasing-prodej-skoda-octavia-3-automat.php', 'https://auto.bazos.cz/inzerat/156749187/l-p-halogen-mlhovy-svetlomet-svetlo-skoda-octavia-3-kombi.php', 'https://auto.bazos.cz/inzerat/156750033/kompletni-ofuky-vzduchove-trysky-skoda-octavia-3-kombi-16.php', 'https://auto.bazos.cz/inzerat/156750388/climatronic-klimatronik-5e0907044r-skoda-octavia-3-kombi-16.php', 'https://auto.bazos.cz/inzerat/157057962/sedackasedadlo-ridice-octavia-3-rs-alcantaralatka.php', 'https://auto.bazos.cz/inzerat/156749699/skoda-octavia-3-style-20-tdi-110kw-dsg-acc-laneassist.php', 'https://auto.bazos.cz/inzerat/157056725/volant-skoda-fabia3octavia3superb2a3-roomsyeti.php', 'https://auto.bazos.cz/inzerat/157055312/packy-skoda-octavia-3.php', 'https://auto.bazos.cz/inzerat/157055004/skoda-octavia-3-12-tsi-75000-km-1majitel-soukroma-osoba.php', 'https://auto.bazos.cz/inzerat/156252298/maska-octavia-3naraznik-octavia-3chladicova-stena-octavia.php', 'https://auto.bazos.cz/inzerat/157054265/skoda-superb-20-tdi-125kw-dsg-2012-tazne.php', 'https://auto.bazos.cz/inzerat/157053437/skoda-octavia-iii-combi-style-20-tdi-dsg-12019.php', 'https://auto.bazos.cz/inzerat/157053350/skoda-octavia-iii-5e0-combi-2013-2017-14-tgi-nahradni-dily.php', 'https://auto.bazos.cz/inzerat/157053335/motor-19-tdi-16-hdi-16-mpi-20-fsi-12-htp-27-tdi.php', 'https://auto.bazos.cz/inzerat/157052681/skoda-octavia-3-pekny-blatnik.php', 'https://auto.bazos.cz/inzerat/157052643/skoda-volkswagen-audi-seat-15-tsi.php', 'https://auto.bazos.cz/inzerat/157052439/octavia-3-16tdi-66kw-plna-vybava-krasna.php', 'https://auto.bazos.cz/inzerat/157051846/skoda-octavia-3-20tdi-135kw-dsg-4x4.php', 'https://auto.bazos.cz/inzerat/157051731/predni-pruziny-octavia-3-kombi-16tdi.php', 'https://auto.bazos.cz/inzerat/157051625/skoda-octavia-3-20tdi110kw-velmi-krasne-auto.php', 'https://auto.bazos.cz/inzerat/157051510/skoda-octavia-3-facelift-kapota-predni-naraznik.php', 'https://auto.bazos.cz/inzerat/157051499/skoda-octavia-3-ventilator-topeninovyorig-5q1819021g.php', 'https://auto.bazos.cz/inzerat/157051164/skoda-octavia-3-predni-naraznik.php', 'https://auto.bazos.cz/inzerat/157050933/original-rj-kufra-skoda-octavia-3g0962243-b.php', 'https://auto.bazos.cz/inzerat/157050909/original-rj-xenonu-skoda-audi-8k0941597-b.php', 'https://auto.bazos.cz/inzerat/157050093/skoda-octavia-3-15-tsi.php', 'https://auto.bazos.cz/inzerat/157050088/skoda-octavia-3-jednotky.php', 'https://auto.bazos.cz/inzerat/157050086/octavia-3-15-tsi-110-kw.php', 'https://auto.bazos.cz/inzerat/157050083/volant-octavia-3-s-padlama.php', 'https://auto.bazos.cz/inzerat/157049301/ramecek-radici-paky-octavia-3.php', 'https://auto.bazos.cz/inzerat/157049265/ovladac-svetel-octavia-3.php', 'https://auto.bazos.cz/inzerat/157049129/presni-naraznik-octavia-3-rs-pred-fl.php', 'https://auto.bazos.cz/inzerat/157048813/skoda-octavia-iii-prava-predni-lista-chrom.php', 'https://auto.bazos.cz/inzerat/157045526/skoda-octavia-3-16-tdi-81kw-style-combi.php', 'https://auto.bazos.cz/inzerat/157043517/skoda-octavia-3.php', 'https://auto.bazos.cz/inzerat/157043128/octavia-3-sedan-15tsi-110-kw-tazne-navi-cr.php', 'https://auto.bazos.cz/inzerat/157042228/amundsen-skoda-octavia-3.php', 'https://auto.bazos.cz/inzerat/157041857/vstrik-04l130277e-20-tdi-cr-octavia-3-67000km.php', 'https://auto.bazos.cz/inzerat/157041540/skoda-octavia-3-5e.php', 'https://auto.bazos.cz/inzerat/157041330/brzdove-kotouce-brzdove-desticky-ate-pro-skoda.php', 'https://auto.bazos.cz/inzerat/157041131/kourove-dynamicke-led-blinkry-skoda-octavia-iii.php', 'https://auto.bazos.cz/inzerat/157040737/octavia-3-facelift-20-tdi.php', 'https://auto.bazos.cz/inzerat/157040446/prava-mlhovka-skoda-octavia-3.php', 'https://auto.bazos.cz/inzerat/157040427/skoda-octavia-3-rs.php', 'https://auto.bazos.cz/inzerat/156508755/octavia-3-16tdi-85kw.php', 'https://auto.bazos.cz/inzerat/157039493/prevodovka-dsg.php', 'https://auto.bazos.cz/inzerat/157038777/skoda-octavia-3-iii-kombi-16-tdi-ambiente.php', 'https://auto.bazos.cz/inzerat/157038135/octavia-3-zimni-kola-denom-23555-17-vzorek-9mm.php', 'https://auto.bazos.cz/inzerat/157037507/16-alu-kola-5x112-audi-skoda-vw-nove-zimni.php', 'https://auto.bazos.cz/inzerat/157037339/octavia-iii-16tdi.php', 'https://auto.bazos.cz/inzerat/157036916/20-alu-kola-5x112-bmw-i8-vw-skoda-seat-audi-nove-zimni.php', 'https://auto.bazos.cz/inzerat/157036065/prodam-original-pedaly-na-octavia-3-automat.php', 'https://auto.bazos.cz/inzerat/157035804/octavia-3-rs-20tdi-2018.php', 'https://auto.bazos.cz/inzerat/157035170/cierne-leskle-mracitka-pre-skoda-volkswagen-audi.php', 'https://auto.bazos.cz/inzerat/157035021/octavia-3benzin-18-tsi-sedan.php', 'https://auto.bazos.cz/inzerat/157034549/skoda-octavia-3-16-tdi.php', 'https://auto.bazos.cz/inzerat/157034060/octavia-3-combi-zadni-svetlo.php', 'https://auto.bazos.cz/inzerat/157033905/koupim-skoda-octavia-3-rs-combi.php', 'https://auto.bazos.cz/inzerat/157033828/17alu-sada-blade-5x112-origo-vw-golf-7-sportsvan-octavia-3.php', 'https://auto.bazos.cz/inzerat/157033569/17alu-sada-dijon-5x112-origo-vw-golf-7-gtd-gti-octavia-3-rs.php', 'https://auto.bazos.cz/inzerat/157033471/17zimni-alu-sada-dijon-5x112-origo-vw-golf-7-octavia-3-rs.php', 'https://auto.bazos.cz/inzerat/157031644/predni-naraznik-skoda-octavia-3.php', 'https://auto.bazos.cz/inzerat/156152412/nahradni-dily-na-vozy-skoda-a-vw.php', 'https://auto.bazos.cz/inzerat/157029954/skoda-octavia-3-fc-combi-20tdi-sport-style-91tkm-4x4.php', 'https://auto.bazos.cz/inzerat/157029851/zadni-viko-octavia-3-sedan.php', 'https://auto.bazos.cz/inzerat/157029830/motor-14-tsi-octavia-3.php', 'https://auto.bazos.cz/inzerat/157029791/predni-naraznik-octavia-iii-rs.php', 'https://auto.bazos.cz/inzerat/157029312/dvere-octavia-3-kombi-stribrne.php', 'https://auto.bazos.cz/inzerat/157029250/nova-maska-octavia-3.php', 'https://auto.bazos.cz/inzerat/157029125/prodam-skoda-octavia-3-20-tdi-110kw-dsg-puvod-cr.php', 'https://auto.bazos.cz/inzerat/157028348/android-autoradio.php', 'https://auto.bazos.cz/inzerat/155762020/skoda-octavia-iii-rs-dsg-4x4-fullled-columbus-canton.php', 'https://auto.bazos.cz/inzerat/157027350/skoda-octavia-3-kombi-16-tdi.php', 'https://auto.bazos.cz/inzerat/157026475/octavia-iii-combi-20tdi-la7w.php', 'https://auto.bazos.cz/inzerat/157025315/vw-caddy-octavia-2-plechove-disky-6x15-et47.php', 'https://auto.bazos.cz/inzerat/157025223/skoda-octavia-3-plechove-disky-6x15-et43.php', 'https://auto.bazos.cz/inzerat/157025016/18alu-sada-disku-alaris-5x112-origo-skoda-octavia-3-golf-7.php', 'https://auto.bazos.cz/inzerat/157024930/skoda-logo-do-volantu-46mm.php', 'https://auto.bazos.cz/inzerat/157023950/skoda-octavia-superb-ii-18-kola-5x112-nove.php', 'https://auto.bazos.cz/inzerat/155208643/skoda-octavia-3-fc-16tdi-85kw-koupcr1majitelservis2018.php', 'https://auto.bazos.cz/inzerat/156711883/predam-skoda-octavia.php', 'https://auto.bazos.cz/inzerat/157021176/skoda-octavia-3-autoradio-android-s-gps-navigaci-a-wifi.php', 'https://auto.bazos.cz/inzerat/157021171/skoda-octavia-3-autoradio-android-s-gps-navigaci-a-wifi.php', 'https://auto.bazos.cz/inzerat/157021146/predam-cierne-klucky-krytky-kluciek-skoda-volkswagen.php', 'https://auto.bazos.cz/inzerat/157021078/Skoda-Octavia-III-3-bocni-airbag.php', 'https://auto.bazos.cz/inzerat/156709874/skoda-octavia-3-kombi-20-tdi-110-kw-dsg-xenony.php', 'https://auto.bazos.cz/inzerat/157020087/vypln-dveri-sada-octavia-3-rs-kombi.php', 'https://auto.bazos.cz/inzerat/157020053/prave-dvere-octavia-3.php', 'https://auto.bazos.cz/inzerat/157020018/leve-dvere-octavia-3.php', 'https://auto.bazos.cz/inzerat/157019967/dvere-octavia-3-kombi.php', 'https://auto.bazos.cz/inzerat/157019927/prave-zrcatko-octavia-3-11pin.php', 'https://auto.bazos.cz/inzerat/155643357/skoda-octavia-3-rs-20-tsi.php', 'https://auto.bazos.cz/inzerat/157019875/leve-zrcatko-octavia-3-11pin.php', 'https://auto.bazos.cz/inzerat/157019116/skoda-octavia-3-zadni-naraznik.php', 'https://auto.bazos.cz/inzerat/157018877/airbag-octavia-3-scala-kodiaq.php', 'https://auto.bazos.cz/inzerat/157018772/volant-octavia-3-scala-kodiaq-kozeny-volant.php', 'https://auto.bazos.cz/inzerat/156706392/golf-octavia-rs-superb-zanovni-zimni-alu-kola-17.php', 'https://auto.bazos.cz/inzerat/156653045/skoda-octavia-3-rs-superb-2-zanovni-zimni-alu-kola-17.php', 'https://auto.bazos.cz/inzerat/156641348/golf-octavia-superb-passat-zanovni-zimni-alu-kola-17.php', 'https://auto.bazos.cz/inzerat/157015172/octavia-3-rs-havarovana-pp-castveskere-dilydoklady.php', 'https://auto.bazos.cz/inzerat/157013881/skoda-octavia-iii-lk-20-tdi-110kw2017kessynavileddph.php', 'https://auto.bazos.cz/inzerat/157013813/skoda-octavia-iii-facelift-combi-scout-2018-nahradni-dily.php', 'https://auto.bazos.cz/inzerat/156702950/predni-naraznik-skoda-octavia-rs-5e0807221aa.php', 'https://auto.bazos.cz/inzerat/156702447/naraznik-skoda-octavia-3-iii-rs-5e0807221f.php', 'https://auto.bazos.cz/inzerat/157012261/5e0-959-107-a-ridici-jednotka-pro-5-dvere-skoda-octavia-3.php', 'https://auto.bazos.cz/inzerat/157011928/alu-15-5x112-cms-germany-sada-jen-2799.php', 'https://auto.bazos.cz/inzerat/157011875/alu-15-5x112-orig-skoda-typ-helios.php', 'https://auto.bazos.cz/inzerat/157011838/4ks-plech-15-5x112-octavia-ii-top-stav-sada-1599.php', 'https://auto.bazos.cz/inzerat/157011674/8r0827505a-zamek-vika-kufru-skoda.php', 'https://auto.bazos.cz/inzerat/157011603/skoda-octavia-3-combi-20tdi-rv2015-27000km.php', 'https://auto.bazos.cz/inzerat/157011494/octavia-3-plechove-disky-65x16-et46.php', 'https://auto.bazos.cz/inzerat/157010320/pneu-barum-bravuris-5hm-22550-r-17-y-xl.php', 'https://auto.bazos.cz/inzerat/156697221/navigace-5e0919605-skoda-octavia-3-kombi-rv-2014.php', 'https://auto.bazos.cz/inzerat/157008425/octavia-3-rs-169kw-navi-kuze-dcc-acc-dph.php', 'https://auto.bazos.cz/inzerat/156695465/zadni-vnejsi-svetla-skoda-octavia-3-kombi-rv-2015.php', 'https://auto.bazos.cz/inzerat/156695463/predni-dotykovy-display-amundsen-skoda-octavia-3-rv-2015.php', 'https://auto.bazos.cz/inzerat/156694782/ridici-jednotka-motoru-ckf-04l907309d-vw-golf-7-kombi-2014.php', 'https://auto.bazos.cz/inzerat/156694948/rizeni-superb-3-passat-b8-karoq-nove-original.php', 'https://auto.bazos.cz/inzerat/156694728/rozvody-octavia-3superb-3-16-tdi-20tdi-original-nove.php', 'https://auto.bazos.cz/inzerat/157005646/skoda-octavia-3-rs.php', 'https://auto.bazos.cz/inzerat/156694188/vstrik-octavia-3-16tdi-81kw-85kw-04l130277d-novy-original.php', 'https://auto.bazos.cz/inzerat/156692196/octavia-3-combi-20tdi-110kw-16tdi-dily-cerne-bila-2y2y.php', 'https://auto.bazos.cz/inzerat/157004069/redukce-facelift-svetel-skoda-octavia-3.php', 'https://auto.bazos.cz/inzerat/157003573/kryty-pedalu-z-uslechtile-oceli-golf-7-octavia-3-leon3-atp.php', 'https://auto.bazos.cz/inzerat/157003447/octavia-3-15-110kw-112019-34-000-km-prvni-majitel.php', 'https://auto.bazos.cz/inzerat/157001690/naraznik-skoda-octavia.php', 'https://auto.bazos.cz/inzerat/157000786/zadni-leve-svetlo-skoda-octavia-3-5e9945095b.php', 'https://auto.bazos.cz/inzerat/157000251/kryt-podlahy-skoda-octavia-iii-5e0-5q0825201gnn.php', 'https://auto.bazos.cz/inzerat/156999863/alukola-skoda-octavia-3-hawk-22545-17-top.php', 'https://auto.bazos.cz/inzerat/156999203/upgrade-prednich-brzd-na-312-octavia-3-golf-7.php', 'https://auto.bazos.cz/inzerat/156999083/airbagova-sada-skoda-octavia-iii-3.php', 'https://auto.bazos.cz/inzerat/156996192/16-alu-kola-5x112-audi-a3-skoda-octavia-zimni.php', 'https://auto.bazos.cz/inzerat/156996085/17-alu-kola-5x112-audi-a3-skoda-octavia-3-zimni.php', 'https://auto.bazos.cz/inzerat/156996062/16-alu-kola-5x112-audi-a3-skoda-octavia-celorocni.php', 'https://auto.bazos.cz/inzerat/156995960/18-alu-kola-5x112-audi-a3-skoda-octavia-3-zimni.php', 'https://auto.bazos.cz/inzerat/156995552/koberecky-octavia-3-nove-nerozbalene.php', 'https://auto.bazos.cz/inzerat/156995367/15-alu-kola-5x112-aluett-zanovni-zimni-sada-top.php', 'https://auto.bazos.cz/inzerat/156994642/5e5807521.php', 'https://auto.bazos.cz/inzerat/156994184/skoda-octavia-3-rs-al-kola-dorado-17-vcetne-novych-pneu.php', 'https://auto.bazos.cz/inzerat/156994083/predni-narazniky-skoda.php', 'https://auto.bazos.cz/inzerat/156993857/skoda-octtavia-iii-rs-challenge-20-tdi-135-kw.php', 'https://auto.bazos.cz/inzerat/156993207/skoda-octavia-3-scout.php', 'https://auto.bazos.cz/inzerat/156992864/octavia-combi.php', 'https://auto.bazos.cz/inzerat/156992848/skoda-octavia-3-combi-14tsi-gtec-cng-81kw-nahradni-dily.php', 'https://auto.bazos.cz/inzerat/156992089/skoda-octavia-3-vnitrni-zpetne-zrcatko.php', 'https://auto.bazos.cz/inzerat/156991899/skoda-octavia-3-prah.php', 'https://auto.bazos.cz/inzerat/156991801/skoda-octavia-3-hatchback-zadni-leve-a-prave-svetlo.php', 'https://auto.bazos.cz/inzerat/156991443/skoda-octavia-3-vydechy-topeni-ofuk.php', 'https://auto.bazos.cz/inzerat/156991132/skoda-octavia-3-packa-predni-kapoty.php', 'https://auto.bazos.cz/inzerat/156990939/skoda-octavia-3-spinace-svetel-a-zrcatek.php', 'https://auto.bazos.cz/inzerat/156990926/nahradni-dily-skoda-octavia-3.php', 'https://auto.bazos.cz/inzerat/156990506/skoda-octavia-3-jednotka-parkovani-parkovaci-cidla-spojler.php', 'https://auto.bazos.cz/inzerat/156677623/skoda-octavia-3-16tdi-85kw.php', 'https://auto.bazos.cz/inzerat/156989832/skoda-octavia-3-rs-2012-2019-remus-vyfuk.php', 'https://auto.bazos.cz/inzerat/156988754/kompletni-nove-tehlice-s-brzdama-312mm-vwgroup.php', 'https://auto.bazos.cz/inzerat/156675708/skoda-octavia-3-18-tsi-132kw.php', 'https://auto.bazos.cz/inzerat/156988019/pravy-predni-blatnik-skoda-octavia-3iiibarva-8x8x-facelift.php', 'https://auto.bazos.cz/inzerat/156988005/skoda-octavia-3-facelift-kapota.php', 'https://auto.bazos.cz/inzerat/156987282/skoda-octavia-iii-14-tsi-110-kw-kamera-vyhrev-volantu.php', 'https://auto.bazos.cz/inzerat/155170433/skoda-octavia-3-16tdi-85kw-dsg-navi-led-nakup-v-klidu.php', 'https://auto.bazos.cz/inzerat/156981910/skoda-octavia-3-combi-16-tdi-81kw-2016-173674-km.php', 'https://auto.bazos.cz/inzerat/156981713/skoda-octavia-3-combi-20tdi-135kw-4x4-dsg-lk-1-maj-nove-cz.php', 'https://auto.bazos.cz/inzerat/155169370/skoda-octavia-3-16tdi-85kw-dsg-fcl-full-led-nakup-v-klidu.php', 'https://auto.bazos.cz/inzerat/156979983/15-plechove-disky-skoda-octavia-3vw-golf-7seat-leon-3.php', 'https://auto.bazos.cz/inzerat/156027708/skoda-octavia-3-kombi-16tdi-170tkm-servis-klima.php', 'https://auto.bazos.cz/inzerat/156976078/ovladaci-tlacitka-volantu-octavia-3-iii.php', 'https://auto.bazos.cz/inzerat/156975981/dverni-jednotka-octavie-3.php', 'https://auto.bazos.cz/inzerat/156975291/skoda-octavia-3-20-tdi-rs.php', 'https://auto.bazos.cz/inzerat/156975059/kompletni-sada-kol-octavia-3-celorocni-pneu.php', 'https://auto.bazos.cz/inzerat/156971878/5x112-vw-passat-golf-octavia.php', 'https://auto.bazos.cz/inzerat/156971441/volant-skoda.php', 'https://auto.bazos.cz/inzerat/156971313/kozeny-volant-skoda.php', 'https://auto.bazos.cz/inzerat/156970880/skoda-octavia-3-style-16tdi-85kw-keyless-go.php', 'https://auto.bazos.cz/inzerat/156970493/levy-zadni-blatnik-octavia-3.php', 'https://auto.bazos.cz/inzerat/156969326/sedacky-octavia-3.php', 'https://auto.bazos.cz/inzerat/156967820/skoda-octavia-16-tdi-85kw-pouze-54xxx-km.php', 'https://auto.bazos.cz/inzerat/156967219/kolo-denom-17-skoda-octavia-3.php', 'https://auto.bazos.cz/inzerat/156966449/bi-xenon-cocky-automotive-lighting.php', 'https://auto.bazos.cz/inzerat/156640706/skoda-octavia-3-rs-zanovni-zimni-alu-kola-17-et48.php', 'https://auto.bazos.cz/inzerat/156965091/5q0915181c-skoda-octavia-3-jednotka-baterie.php', 'https://auto.bazos.cz/inzerat/156964846/5e0853653-skoda-octavia-iii-maska-s-radarem.php', 'https://auto.bazos.cz/inzerat/156964580/octavia-3-fl-predni-svetla.php', 'https://auto.bazos.cz/inzerat/156963411/skoda-octavia-3-12-tsi-77-kw-2014-132000-km.php', 'https://auto.bazos.cz/inzerat/156961888/prodam-originalni-sadu-kol-skoda-pictoris-5x112-octavia-3-rs.php', 'https://auto.bazos.cz/inzerat/156961698/leve-zrcatko-skoda-octavia-3-cerne.php', 'https://auto.bazos.cz/inzerat/156961459/chromovy-ramecek-masky-skoda-octavia-3-facelift-top.php', 'https://auto.bazos.cz/inzerat/156958848/skoda-octavia-3-20tdi-110kw-4x4-dsgf1-navi-frontasist-opc.php', 'https://auto.bazos.cz/inzerat/156958358/skoda-octavia-3-laurin-klement-18-tsi.php', 'https://auto.bazos.cz/inzerat/156958326/octavia-3.php', 'https://auto.bazos.cz/inzerat/156957495/octavia-3-face-kapotanaraznikybkatnikysvetla.php', 'https://auto.bazos.cz/inzerat/156957373/skoda-octavia-3-combi-original-delici-sit-do-kufru.php', 'https://auto.bazos.cz/inzerat/156574156/skoda-octavia-iii-20tdi-scout-4x4-xenonnavi-2015.php', 'https://auto.bazos.cz/inzerat/156954962/skoda-octavia-iii-16-tdi-85kw.php', 'https://auto.bazos.cz/inzerat/156954387/Predni-narazniky-Skoda-pouzite.php', 'https://auto.bazos.cz/inzerat/156952374/nove-logo-skoda.php', 'https://auto.bazos.cz/inzerat/156951426/prodam-viko-kufru-na-octavia-3.php', 'https://auto.bazos.cz/inzerat/155906812/octavia-3-14-tsi-81kw-cng-style-2017-cr-fulllednavi-dph.php', 'https://auto.bazos.cz/inzerat/156950003/Skoda-Octavia-3-predni-naraznik.php', 'https://auto.bazos.cz/inzerat/156949506/pouzite-kola-1519565-r165-91h-barum-skoda-oct2.php', 'https://auto.bazos.cz/inzerat/156949043/skoda-octavia-3-18-tsi-132-kw-rv-2016.php', 'https://auto.bazos.cz/inzerat/156947964/plechove-disky-skoda-octavia-iii.php', 'https://auto.bazos.cz/inzerat/156560346/skoda-octavia-iii-style-cr-servis-2017.php', 'https://auto.bazos.cz/inzerat/156566619/skoda-octavia-iii-facelift-dsg-14tsi-cng-81000km-cr-servis.php', 'https://auto.bazos.cz/inzerat/156946261/skoda-octavia-3-combi-20-tdi-110kw-dsg-luxury.php', 'https://auto.bazos.cz/inzerat/156943818/octavia-3-16-tdi.php', 'https://auto.bazos.cz/inzerat/156942999/skoda-octavia-3-20-tdi-kombielegance.php', 'https://auto.bazos.cz/inzerat/156942848/skoda-octavia-3-kombi-20-tdi-110-kw.php', 'https://auto.bazos.cz/inzerat/156942098/predni-kapota-skoda-octavia-3.php', 'https://auto.bazos.cz/inzerat/156942087/predni-naraznik-skoda-octavia-3-facelift.php', 'https://auto.bazos.cz/inzerat/156942021/zadni-naraznik-skoda-octavia-3-combi.php', 'https://auto.bazos.cz/inzerat/156941950/zadni-dvere-skoda-octavia-lll-hb.php', 'https://auto.bazos.cz/inzerat/156941920/zadni-5-dvere-skoda-octavia-lll-kombi.php', 'https://auto.bazos.cz/inzerat/156941812/zadni-naraznik-skoda-octavia-lll-lift.php', 'https://auto.bazos.cz/inzerat/156941401/skoda-octavia-iii-stresni-nosic.php', 'https://auto.bazos.cz/inzerat/155132701/skoda-octavia-3-14tsi-110kw-led-navi-tempomat-appconnect.php', 'https://auto.bazos.cz/inzerat/156940493/koupim-svetla-na-skoda-octavia-3.php', 'https://auto.bazos.cz/inzerat/156940422/stabilizator-vw-golf-7-octavia-3vw-touran.php', 'https://auto.bazos.cz/inzerat/156940174/predni-kotouce-skoda-octavia-3.php', 'https://auto.bazos.cz/inzerat/156940087/skoda-octavia-3-kombi-viko-kufru.php', 'https://auto.bazos.cz/inzerat/156937127/2253519-alu.php', 'https://auto.bazos.cz/inzerat/156936884/chromova-lista-octavia-3-pred-face.php', 'https://auto.bazos.cz/inzerat/156935516/prodam.php', 'https://auto.bazos.cz/inzerat/156934220/alu-kola-17-skoda-octavia-trius-5x112-s-pneu-22545r17.php', 'https://auto.bazos.cz/inzerat/156932371/sadu-al-kola-5x1127jx16et45-octavia-3.php', 'https://auto.bazos.cz/inzerat/156930982/octavia-3-volant.php', 'https://auto.bazos.cz/inzerat/155123777/audi-a6-avant-30-tdi-165kw-s-line-tiptronic-tazne-stk.php', 'https://auto.bazos.cz/inzerat/154733805/octavia-3-dsg-20tdi-110kw-style-1maj-2017-cr-fullled-dph.php', 'https://auto.bazos.cz/inzerat/156927117/skoda-octavia.php', 'https://auto.bazos.cz/inzerat/156927071/skoda-octavia-3-20-tdi-2013.php', 'https://auto.bazos.cz/inzerat/156925277/predni-naraznik-skoda-octavia-3.php', 'https://auto.bazos.cz/inzerat/156924858/skoda-octavia-3-r17-letni-original-alu-kola.php', 'https://auto.bazos.cz/inzerat/156924275/skoda-octavia-iii-full-led-style-combi-16-tdi-85kw-cr.php', 'https://auto.bazos.cz/inzerat/156922635/ramecek-pro-prave-vnejsi-zrcatko-skoda.php', 'https://auto.bazos.cz/inzerat/156922618/ozubeny-remen-skoda.php', 'https://auto.bazos.cz/inzerat/156922577/vypln-podlahy-prava-skoda.php', 'https://auto.bazos.cz/inzerat/156922356/vyfuk-octavia-3-rs.php', 'https://auto.bazos.cz/inzerat/156922094/zadni-naraznik-octavia-3-combi.php', 'https://auto.bazos.cz/inzerat/156920694/skoda-octavia-3-2015-14-cng-ambition-g-tec.php', 'https://auto.bazos.cz/inzerat/156920425/skoda-octavia-3-rs-servisni-historiekoupeno-v-cr.php', 'https://auto.bazos.cz/inzerat/156479734/barevne-znaky-skoda-90mm-80mm.php', 'https://auto.bazos.cz/inzerat/156919513/alu-kola-skoda-octavia-3-2254517-zimni-nove.php', 'https://auto.bazos.cz/inzerat/156918886/5x112-r16-original-letni-sada-skoda-octavia-3-20555.php', 'https://auto.bazos.cz/inzerat/156917775/alu-kola-skoda-octavia-3seat-leon-3vw-golf-7alu-17-5x112.php', 'https://auto.bazos.cz/inzerat/156916693/alu-vw-17-5x112-letni-2254517-golftourancaddy.php', 'https://auto.bazos.cz/inzerat/156916565/skoda-octavia-3-16-tdi-77-kw-1majitel-v-cz-2roky-zaruka.php', 'https://auto.bazos.cz/inzerat/156916138/skoda-octavia-3-16-tdi-greenline.php', 'https://auto.bazos.cz/inzerat/156915746/nova-sada-alu-kol-original-skoda-16-5x112-et48571.php', 'https://auto.bazos.cz/inzerat/156914766/zadni-prave-svetlo-octavia-3-liftback.php', 'https://auto.bazos.cz/inzerat/156914752/octavia-3-led-leve-zadni-svetlo-liftback.php', 'https://auto.bazos.cz/inzerat/156913934/zadni-naraznik-skoda-octavia-3-facelift-sedan.php', 'https://auto.bazos.cz/inzerat/156913929/cidlo-urovne-podvozku-octavia-3-a-golf-7.php', 'https://auto.bazos.cz/inzerat/156913170/18-alu-kola-5x112-audi-a3-skoda-octavia3-zimni.php', 'https://auto.bazos.cz/inzerat/156912644/skoda-octavia-3-lll.php', 'https://auto.bazos.cz/inzerat/156911987/skoda-octavia-3-16-tdi-poloosy.php', 'https://auto.bazos.cz/inzerat/156911730/skoda-octavia-3-poloosa-5q0407271m.php', 'https://auto.bazos.cz/inzerat/156911522/octavia-3-lz-svetlo.php', 'https://auto.bazos.cz/inzerat/156910828/skoda-octavia-3-combi-14-tsi-110kw-modelovy-rok-2016.php', 'https://auto.bazos.cz/inzerat/156910307/prodam-pasy-skoda-octavia-3.php', 'https://auto.bazos.cz/inzerat/156910144/koupim-alu-kola.php', 'https://auto.bazos.cz/inzerat/156909985/skoda-octavia-3-rs-20-tdi-servis-acc-kamera.php', 'https://auto.bazos.cz/inzerat/156909484/alu-octavia-3leongolf-7touran-65jx16-et46-20555-r16.php', 'https://auto.bazos.cz/inzerat/156909474/prodam-blatnik-skoda-octavia-3-lift.php', 'https://auto.bazos.cz/inzerat/156590439/volkswagen-scirocco-14tsi-118kw.php', 'https://auto.bazos.cz/inzerat/156908720/emuk-zrcatka-ke-karavanu.php', 'https://auto.bazos.cz/inzerat/156255462/skoda-octavia-3-lk-20tdi-135kw-4x4.php', 'https://auto.bazos.cz/inzerat/156907173/octavia-3-20tdidynamiccrnaj83000kmserviskrasna.php', 'https://auto.bazos.cz/inzerat/156905572/kapota-octavia-3-predfacelift.php', 'https://auto.bazos.cz/inzerat/156905344/novy-zadni-kompletni-naraznik-skoda-octavia-3-scout.php', 'https://auto.bazos.cz/inzerat/156584518/original-airbagova-sada-skoda-octavia-3.php', 'https://auto.bazos.cz/inzerat/156902052/alu-kola-5112r17skoda-original.php', 'https://auto.bazos.cz/inzerat/156901879/predni-maska.php', 'https://auto.bazos.cz/inzerat/156901483/octavia-3.php', 'https://auto.bazos.cz/inzerat/156900722/naraznik-octavia-3.php', 'https://auto.bazos.cz/inzerat/156900677/blatnik-octavia-3.php', 'https://auto.bazos.cz/inzerat/156898236/c63-amg-pp-carbon-530ps.php', 'https://auto.bazos.cz/inzerat/156895975/predni-svetla-skoda-octavia-3-halogen-cena-za-kus.php', 'https://auto.bazos.cz/inzerat/156895331/skoda-octavia-3-combi-10-tsi-85-kw-navi-full-led.php', 'https://auto.bazos.cz/inzerat/156894951/prevodovka-16tdi-nrv-4x4-octavia-3.php', 'https://auto.bazos.cz/inzerat/156894730/octavia-14-tsi-103-kw-polokuze-el-kufr-top-stav.php', 'https://auto.bazos.cz/inzerat/156894564/octavia-3-combi-14-tsi-103-kw.php', 'https://auto.bazos.cz/inzerat/156891844/led-osvetleni-spz-skodavw-can-bus.php', 'https://auto.bazos.cz/inzerat/156889138/skoda-octavia-16tdi-81kw-dsg.php', 'https://auto.bazos.cz/inzerat/156888195/hak-kouletazne-zarizeni-skoda-octavia-3-original-posta-zd.php', 'https://auto.bazos.cz/inzerat/156887776/nahradni-dily-octavia-3-14-tsi.php', 'https://auto.bazos.cz/inzerat/156886938/octavia-3-combi-rs-4x4-20-tdi-151-kw-akcni-model-challenge.php', 'https://auto.bazos.cz/inzerat/156886584/skoda-octavia-3-20-tdi-110kwelegancedsgpolokuzetazne.php', 'https://auto.bazos.cz/inzerat/156886551/octavia-3-ofuky-palubovky.php', 'https://auto.bazos.cz/inzerat/156885529/dvere-octavia-3.php', 'https://auto.bazos.cz/inzerat/156884602/dvere-skoda-octavia-3.php', 'https://auto.bazos.cz/inzerat/156884404/octavia-3-motorek-steracu.php', 'https://auto.bazos.cz/inzerat/156883328/skoda-octavia3-hybrid-kola-16.php', 'https://auto.bazos.cz/inzerat/156883197/sada-4-alu-kol-r16-ats-antares-ps-na-skoda-vw.php', 'https://auto.bazos.cz/inzerat/156882373/skoda-octavia-3-combi-drive-20tdi-110kw-top.php', 'https://auto.bazos.cz/inzerat/156881669/skoda-octavia-3-18tsi-157kw.php', 'https://auto.bazos.cz/inzerat/156881433/zadni-naraznik-skoda-octavia-3-facelift-sedan-bila.php', 'https://auto.bazos.cz/inzerat/156881140/zadni-naraznik-skoda-octavia-3-facelift-sedan-stribrna.php', 'https://auto.bazos.cz/inzerat/156880884/zadni-naraznik-skoda-octavia-3-facelift-kombi-metal-grau.php', 'https://auto.bazos.cz/inzerat/156880364/zadni-naraznik-skoda-octavia-3-facelift-kombi-top-hneda.php', 'https://auto.bazos.cz/inzerat/156878975/prodam-jednotku-multifunkcniho-volantu-octavia-3.php', 'https://auto.bazos.cz/inzerat/156878845/skoda-octavia-3-rs-zadni-naraznik.php', 'https://auto.bazos.cz/inzerat/156878830/alu-kola-disky-r16-5x112-diewe-et46.php', 'https://auto.bazos.cz/inzerat/156560138/vstriky-04l130277e.php', 'https://auto.bazos.cz/inzerat/156560141/prevodovka-skoda-octavia-pfm.php', 'https://auto.bazos.cz/inzerat/156878580/xenon-octavia-3.php', 'https://auto.bazos.cz/inzerat/156878434/dily-skoda-octavia-3.php', 'https://auto.bazos.cz/inzerat/156876923/jednotka-radia-octavia-3.php', 'https://auto.bazos.cz/inzerat/156876747/skoda-octavia-3-dvere-zamek-dveri-sklo-lista-stahovacka.php', 'https://auto.bazos.cz/inzerat/156875415/SKODA-OCTAVIA-III-16TDI-81KW-odpDPH-2016.php', 'https://auto.bazos.cz/inzerat/156875352/hybridni-disky-5x112-6jx16-s-octavia-3-vw-seat.php', 'https://auto.bazos.cz/inzerat/156556085/vstrikovaci-trysky-04l130277aj-skoda-octavia-iii-16tdi-77kw.php', 'https://auto.bazos.cz/inzerat/156555784/kompletni-led-svetlomet-5e1941015e-skoda-octavia-3-facelift.php', 'https://auto.bazos.cz/inzerat/156874387/skoda-fabia-octavia-rapid-superb-karoq-kodiaq-narazniky.php', 'https://auto.bazos.cz/inzerat/156873689/ofuky-oken-skoda-octavia-3-predni-levy-a-pravy.php', 'https://auto.bazos.cz/inzerat/156872631/skoda-octavia-iii-predni-naraznik-2013-2018.php', 'https://auto.bazos.cz/inzerat/156872483/skoda-octavia-2014-12tsi-77kw-6-ti-rychlostni-manual.php']\n"
     ]
    }
   ],
   "source": [
    "#DODELANY FILTER NA POCET DNU ZPATKY\n",
    "number_of_accepted_past_days = 5 #range (0:5)\n",
    "today = date.today()\n",
    "accepted_days = list()\n",
    "\n",
    "for i in list(range(0, min(number_of_accepted_past_days + 1, 6), 1)):\n",
    "    i_days_ago = today - timedelta(days=i)\n",
    "    accepted_days.append(i_days_ago)\n",
    "    \n",
    "# by the following code, we get the urls of each advertisement /offer/ (listed in the tabs we work with),\n",
    "# and save it to \"list_of_offers_url\"\n",
    "list_of_offers_url = list()\n",
    "\n",
    "for element in soup_list:\n",
    "    x = element.find_all('div', {'class':'inzeraty inzeratyflex'})\n",
    "    \n",
    "    for sub_element in x:\n",
    "        y = sub_element.find('div', {'class':'inzeratynadpis'})\n",
    "        attribute_a = y.find('a')\n",
    "        w = attribute_a.get('href')\n",
    "        attribute_span = y.find('span')\n",
    "        \n",
    "        #here we just obtain the date from the particular advertisement to make sure we analyze only ads added today\n",
    "        date_str = str(attribute_span.text)\n",
    "        date_str = date_str.replace(\" \",\"\")\n",
    "        date_str = date_str.strip(\"-[]\")\n",
    "        date_str = date_str.strip(\"TOP-[]\")\n",
    "        date_object = datetime.strptime(date_str,'%d.%m.%Y')\n",
    "        date_object = date_object.date()\n",
    "\n",
    "        if not date_object in accepted_days:\n",
    "     #   if date_object != today:\n",
    "            continue\n",
    "    \n",
    "        list_of_offers_url.append(f'https://auto.bazos.cz{w}')\n",
    "    \n",
    "print(len(list_of_offers_url))\n",
    "print(list_of_offers_url)"
   ]
  },
  {
   "cell_type": "code",
   "execution_count": 36,
   "id": "f460d7f4",
   "metadata": {},
   "outputs": [
    {
     "name": "stdout",
     "output_type": "stream",
     "text": [
      "['https://auto.bazos.cz/inzerat/157075143/skoda-octavia-3-20tdi-110kw-dsg-plna-zaruka-2-roky-zdarma.php', 'https://auto.bazos.cz/inzerat/157035970/octavia-scout-4x420tdi-110kwr2018dsgledacc123tiskm.php', 'https://auto.bazos.cz/inzerat/157035183/octavia-rs-20tsi-230psm2018facecantoncolumbuslane.php', 'https://auto.bazos.cz/inzerat/156861400/skoda-octavia-3-20tdi-110kw-plna-zaruka-2-roky-zdarma.php', 'https://auto.bazos.cz/inzerat/156839898/skoda-octavia-3-20tdi-110kw-dsg-plna-zaruka-2-roky-zdarma.php', 'https://auto.bazos.cz/inzerat/156800462/skoda-octavia-3-16tdi-85kw-plna-zaruka-2-roky-zdarma.php', 'https://auto.bazos.cz/inzerat/156776866/skoda-octavia-3-fc-14tsi-cng-81kw-dsg-style-koupcr107tkm.php', 'https://auto.bazos.cz/inzerat/156583245/skoda-octavia-3-16tdi-85kw-dsg-plna-zaruka-2-roky-zdarma.php', 'https://auto.bazos.cz/inzerat/157066972/skoda-octavia-rs-dsg-fullled-acc-columbus-vyhrsedacky.php', 'https://auto.bazos.cz/inzerat/157066943/skoda-octavia-iii-rs-fullled-navi-panorama-vyhrsedacky.php', 'https://auto.bazos.cz/inzerat/156538058/skoda-octavia-3-15tsi-110kw-plna-zaruka-2-roky-zdarma.php', 'https://auto.bazos.cz/inzerat/156512794/skoda-octavia-3-fc-16tdi-85kw-koupcr1majiteltazne2017.php', 'https://auto.bazos.cz/inzerat/156511278/skoda-octavia-3-fc-20tdi-110kw-4x4-koupcr1majitel78tkm.php', 'https://auto.bazos.cz/inzerat/156458612/skoda-octavia-iii-rs-20-tsi-162kwvyhrsklo-columbustazne.php', 'https://auto.bazos.cz/inzerat/156454350/octavia-scout-4x420tdi-110kw6stmancolumbus113tiskm.php', 'https://auto.bazos.cz/inzerat/156416445/skoda-octavia-3-fc-14tsi-cng-81kw-dsg-style-koupcr111tkm.php', 'https://auto.bazos.cz/inzerat/157066677/skoda-octavia-iii-tsi-ambition-vyhrsedacky-senzory.php', 'https://auto.bazos.cz/inzerat/156371658/octavia-iii-14-tsi-110kw-dsg-business-style-odpocet-dph.php', 'https://auto.bazos.cz/inzerat/157020354/skoda-octavia-3-14-tsi-103kw-125tkm-klimaautomatik.php', 'https://auto.bazos.cz/inzerat/156898684/skoda-octavia-iii-tsi-dsg-fullled-navi-vyhrsedacky-tazne.php', 'https://auto.bazos.cz/inzerat/156928243/skoda-octavia-3-18-tsi-132kw-85tkm-1majitel-acc-navi-led.php', 'https://auto.bazos.cz/inzerat/156252288/skoda-octavia-3-fc-16tdi-85kw-koupcr1majitel201977tkm.php', 'https://auto.bazos.cz/inzerat/156899499/skoda-octavia-iii-style-acc-xenon-columbus-senzory.php', 'https://auto.bazos.cz/inzerat/155953550/skoda-octavia-iii-combi-14-tsi-110kw-2018-puvod-cr-dph.php', 'https://auto.bazos.cz/inzerat/156216596/skoda-octavia-3-15tsi-110kw-style-dsgneztopeni2019cr.php', 'https://auto.bazos.cz/inzerat/156116224/skoda-kodiaq-4x4-20-tdi-140kw-dsg2019stylevirtualcrdph.php', 'https://auto.bazos.cz/inzerat/156722365/skoda-octavia-iii-rs-4x4-fullled-acc-dcc-columbus-webasto.php', 'https://auto.bazos.cz/inzerat/156724451/skoda-octavia-iii-tsi-dsg-xenon-columbus-webasto.php', 'https://auto.bazos.cz/inzerat/156722270/skoda-octavia-tsi-style-fullled-kamera-vyhrsedacky.php', 'https://auto.bazos.cz/inzerat/156118438/skoda-octavia-3-20tsi-140kw-dsg-panorama-nakup-v-klidu.php', 'https://auto.bazos.cz/inzerat/156117308/skoda-octavia-3-rs-245-20tsi-dsg-78tkm-dcc-full-led-dab-acc.php', 'https://auto.bazos.cz/inzerat/156080631/skoda-octavia-3-fc-16tdi-85kw-style-koupcr1majitel2019.php', 'https://auto.bazos.cz/inzerat/156559059/skoda-octavia-3-16tdi-77kw-bixenon-panorama-navi-parkasist.php', 'https://auto.bazos.cz/inzerat/156625476/skoda-octavia-kombi-3-vrs-20tdi-135kw-dsg.php', 'https://auto.bazos.cz/inzerat/156463895/skoda-octavia-3-14tsi.php', 'https://auto.bazos.cz/inzerat/155970833/skoda-octavia-3-20tdi-110kw-dsg-elviko-led-appconnect.php', 'https://auto.bazos.cz/inzerat/155970730/skoda-octavia-3-20tdi-110kw-canton-dab-nakup-v-klidu.php', 'https://auto.bazos.cz/inzerat/156787528/octavia-3-fl-style-16-tdi-85-kw.php', 'https://auto.bazos.cz/inzerat/156218183/skoda-octavia-3-rs-20tdi-135kw-top-cz-puvod.php', 'https://auto.bazos.cz/inzerat/156487898/skoda-octavia-iii-20-tdi-135kw-4x4-dsg-dph.php', 'https://auto.bazos.cz/inzerat/157061853/skoda-octavia-3-20tdi-110kw-dsg.php', 'https://auto.bazos.cz/inzerat/155752703/skoda-octavia-3-20tdi-4x4-110kw-dsg-al17-webasto-full-led.php', 'https://auto.bazos.cz/inzerat/156976635/skoda-octavia-iii-20-tdi-110-kw-dsg-combi-drive.php', 'https://auto.bazos.cz/inzerat/155676510/skoda-octavia-3-rs-20tdi-135kw-dsg-panorama-nakup-v-klidu.php', 'https://auto.bazos.cz/inzerat/156268385/skoda-octavia-16-tdi-combi.php', 'https://auto.bazos.cz/inzerat/156285764/skoda-octavia-iii-tsi-style-xenon-columbus-vyhrsedacky.php', 'https://auto.bazos.cz/inzerat/155633748/skoda-octavia-3-14tsi-g-tec-81kw-panorama-kuze-full-led.php', 'https://auto.bazos.cz/inzerat/156861644/skoda-octavia-3.php', 'https://auto.bazos.cz/inzerat/156055868/octavia-3-rs-tsi-180kw-2020.php', 'https://auto.bazos.cz/inzerat/156986825/prodam-origo-sadu-skoda-octavia.php', 'https://auto.bazos.cz/inzerat/156272101/rizeni-pro-skoda-vw.php', 'https://auto.bazos.cz/inzerat/157058620/skoda-octavia-3-5e-nahradni-dily.php', 'https://auto.bazos.cz/inzerat/157058415/skoda-octavia-3-5e-facelift-nahradni-dily.php', 'https://auto.bazos.cz/inzerat/155736867/radio-swing-pro-skoda-octavia-iii-5e0035871d.php', 'https://auto.bazos.cz/inzerat/157029392/skoda-octavia-iii-18tsi-dsg-4x4.php', 'https://auto.bazos.cz/inzerat/156812248/skoda-octavia-challenge-rs-combi-20-tdi-135kw.php', 'https://auto.bazos.cz/inzerat/156812397/skoda-octavia-3-facelift-20tdi-110kw.php', 'https://auto.bazos.cz/inzerat/157012610/skoda-octavia-320-tdi110-kw112014crtop-stav-nehavar.php', 'https://auto.bazos.cz/inzerat/157005391/octavia-3-rs-20-tdi.php', 'https://auto.bazos.cz/inzerat/156145341/octavia.php', 'https://auto.bazos.cz/inzerat/156943422/sada-kol-octavia-35-zimni-plech-2055516.php', 'https://auto.bazos.cz/inzerat/156553458/5x112-r16-original-alu-disky-skoda-octavia-3-2020.php', 'https://auto.bazos.cz/inzerat/156564360/octavia-3-hlavy-motoru-tdi.php', 'https://auto.bazos.cz/inzerat/156410679/octavia-3-combi-16-tdi-rv-2016.php', 'https://auto.bazos.cz/inzerat/155904809/octavia-iii-16tdi-81kw-style-1maj-2016-cr-digiklima-dph.php', 'https://auto.bazos.cz/inzerat/156574604/skoda-octavia-iii-scout-20-tdi-135kw-dsg-navi-tazne.php', 'https://auto.bazos.cz/inzerat/156975210/skoda-octavia-iii-rs.php', 'https://auto.bazos.cz/inzerat/156334791/octavia-3-combi-navigace-servisni-knizka-pekna-vybava.php', 'https://auto.bazos.cz/inzerat/156935895/skoda-octavia-3-superb-2-zimni-alu-kola-17-top-design.php', 'https://auto.bazos.cz/inzerat/156935792/skoda-octavia-superb-zimni-alu-kola-17-5x112.php', 'https://auto.bazos.cz/inzerat/155443203/skoda-octavia-3-fc-10tsi-85kw-koupcr1majitel201875tkm.php', 'https://auto.bazos.cz/inzerat/156922992/skoda-octavia-3-fc-16tdi-85kw-dsgkoupcr52019.php', 'https://auto.bazos.cz/inzerat/156931913/skoda-octavia-3-combi-20-tdi-110kw-100tis-km-nez-topeni.php', 'https://auto.bazos.cz/inzerat/156413656/skoda-octavia-3-20tdi-dsg.php', 'https://auto.bazos.cz/inzerat/155700587/skoda-octavia-3-rs-20tdi-135kw-top-stav.php', 'https://auto.bazos.cz/inzerat/156914984/skoda-octavia-3-dsg-16tdi-77kw-xenon-stav.php', 'https://auto.bazos.cz/inzerat/155094628/skoda-octavia-iii-combi-16-tdi-navipdc-cr-dph.php', 'https://auto.bazos.cz/inzerat/156896886/skoda-octavia-3-rs-20-135kw-4x4-dsg-top-stav.php', 'https://auto.bazos.cz/inzerat/156480836/skoda-octavia-3-16tdi.php', 'https://auto.bazos.cz/inzerat/155354147/skoda-octavia-3-fc-20tdi-110kw-style-koupcr1majitel2018.php', 'https://auto.bazos.cz/inzerat/156024216/skoda-octavia-3-rs-liftback.php', 'https://auto.bazos.cz/inzerat/156879818/multifunkcni-volant-5e0419091ah-skoda-octavia-3-rv-2013.php', 'https://auto.bazos.cz/inzerat/156879203/ridici-jednotka-abs-5q0907379r-agregat-5q0614517q.php', 'https://auto.bazos.cz/inzerat/156879000/skoda-octavia-3-greenline-rozvody.php', 'https://auto.bazos.cz/inzerat/156646740/rizeni-octavia-3-nove-original-kompletni-rizeni-octavie-3.php', 'https://auto.bazos.cz/inzerat/155859328/skoda-octavia-3-rs-20tsi-challenge-combi-manual-facelift.php', 'https://auto.bazos.cz/inzerat/156867606/skoda-octavia-iii-naraznik.php', 'https://auto.bazos.cz/inzerat/156858058/zimni-sada-17-alu-kol-crystal.php', 'https://auto.bazos.cz/inzerat/156853685/prevodovka-6q-dsg-hut-20tsi-147kw-axx-vw-golf-5-gti-152tis.php', 'https://auto.bazos.cz/inzerat/156752913/skoda-octavia-3-facelift-16tdi-clever-led-navi-alu.php', 'https://auto.bazos.cz/inzerat/156551382/skoda-octavia-3-combi-16-tdi-81kw-style-vybava.php', 'https://auto.bazos.cz/inzerat/156686405/octavia-3-dsg-14tsi-110kw-style-1maj-2018-cr-lednavi-dph.php', 'https://auto.bazos.cz/inzerat/156811576/skoda-octavia-3-rs-combi-20tdi-dsg-odecet-dph.php', 'https://auto.bazos.cz/inzerat/156439682/zanovni-motor-skoda-octavia-3-20-tdi-110k-typ-crv.php', 'https://auto.bazos.cz/inzerat/157090267/predni-naraznik-skoda-octavia-3-facelift-topmodra-pacific.php', 'https://auto.bazos.cz/inzerat/157090247/predni-naraznik-skoda-octavia-3-facelift-top-moon-weiss.php', 'https://auto.bazos.cz/inzerat/157090204/predni-naraznik-skoda-octavia-3-facelift-moon-weiss.php', 'https://auto.bazos.cz/inzerat/157089756/octavia-iii-20tdi-110kw-dsg-style-1maj-cr-digiklima-dph.php']\n"
     ]
    }
   ],
   "source": [
    "today = date.today()\n",
    "# by the following code, we get the urls of each advertisement /offer/ (listed in the tabs we work with),\n",
    "# and save it to \"list_of_offers_url\"\n",
    "list_of_offers_url = list()\n",
    "\n",
    "for element in soup_list:\n",
    "    x = element.find_all('div', {'class':'inzeraty inzeratyflex'})\n",
    "    \n",
    "    for sub_element in x:\n",
    "        y = sub_element.find('div', {'class':'inzeratynadpis'})\n",
    "        attribute_a = y.find('a')\n",
    "        w = attribute_a.get('href')\n",
    "        attribute_span = y.find('span')\n",
    "        \n",
    "        #here we just obtain the date from the particular advertisement to make sure we analyze only ads added today\n",
    "        date_str = str(attribute_span.text)\n",
    "        date_str = date_str.replace(\" \",\"\")\n",
    "        date_str = date_str.strip(\"-[]\")\n",
    "        date_str = date_str.strip(\"TOP-[]\")\n",
    "        date_object = datetime.strptime(date_str,'%d.%m.%Y')\n",
    "        date_object = date_object.date()\n",
    "\n",
    "        if date_object != today:\n",
    "            continue\n",
    "    \n",
    "        list_of_offers_url.append(f'https://auto.bazos.cz{w}')\n",
    "        #    time.sleep(0.03)\n",
    "    \n",
    "print(list_of_offers_url)"
   ]
  },
  {
   "cell_type": "code",
   "execution_count": 52,
   "id": "b42795c5",
   "metadata": {},
   "outputs": [
    {
     "ename": "AttributeError",
     "evalue": "'NoneType' object has no attribute 'get_text'",
     "output_type": "error",
     "traceback": [
      "\u001b[0;31m---------------------------------------------------------------------------\u001b[0m",
      "\u001b[0;31mAttributeError\u001b[0m                            Traceback (most recent call last)",
      "Input \u001b[0;32mIn [52]\u001b[0m, in \u001b[0;36m<cell line: 56>\u001b[0;34m()\u001b[0m\n\u001b[1;32m     54\u001b[0m link \u001b[38;5;241m=\u001b[39m [\u001b[38;5;124m'\u001b[39m\u001b[38;5;124mhttps://auto.bazos.cz/inzerat/157012769/vw-golf-7-20tdi-110kw-107tkm-plna-zaruka-2-roky-zdarma.php\u001b[39m\u001b[38;5;124m'\u001b[39m, \u001b[38;5;124m'\u001b[39m\u001b[38;5;124mhttps://auto.bazos.cz/inzerat/156954743/skoda-octavia-3dsg-20-tdi.php\u001b[39m\u001b[38;5;124m'\u001b[39m]\n\u001b[1;32m     55\u001b[0m \u001b[38;5;66;03m#link = list_of_offers_url\u001b[39;00m\n\u001b[0;32m---> 56\u001b[0m \u001b[43mget_info\u001b[49m\u001b[43m(\u001b[49m\u001b[43mlink\u001b[49m\u001b[43m)\u001b[49m\n",
      "Input \u001b[0;32mIn [52]\u001b[0m, in \u001b[0;36mget_info\u001b[0;34m(links)\u001b[0m\n\u001b[1;32m     45\u001b[0m add_page \u001b[38;5;241m=\u001b[39m requests\u001b[38;5;241m.\u001b[39mget(i)\n\u001b[1;32m     46\u001b[0m soup_add \u001b[38;5;241m=\u001b[39m BeautifulSoup(add_page\u001b[38;5;241m.\u001b[39mtext, \u001b[38;5;124m'\u001b[39m\u001b[38;5;124mhtml\u001b[39m\u001b[38;5;124m'\u001b[39m)\n\u001b[0;32m---> 47\u001b[0m add \u001b[38;5;241m=\u001b[39m remove_spaces(\u001b[43msoup_add\u001b[49m\u001b[38;5;241;43m.\u001b[39;49m\u001b[43mfind\u001b[49m\u001b[43m(\u001b[49m\u001b[38;5;124;43m'\u001b[39;49m\u001b[38;5;124;43mdiv\u001b[39;49m\u001b[38;5;124;43m'\u001b[39;49m\u001b[43m,\u001b[49m\u001b[43m \u001b[49m\u001b[43m{\u001b[49m\u001b[38;5;124;43m'\u001b[39;49m\u001b[38;5;124;43mclass\u001b[39;49m\u001b[38;5;124;43m'\u001b[39;49m\u001b[43m:\u001b[49m\u001b[38;5;124;43m'\u001b[39;49m\u001b[38;5;124;43mpopisdetail\u001b[39;49m\u001b[38;5;124;43m'\u001b[39;49m\u001b[43m}\u001b[49m\u001b[43m)\u001b[49m\u001b[38;5;241;43m.\u001b[39;49m\u001b[43mget_text\u001b[49m())\n\u001b[1;32m     48\u001b[0m all_numbers \u001b[38;5;241m=\u001b[39m get_numbers_from_text(add)\n\u001b[1;32m     49\u001b[0m context_got \u001b[38;5;241m=\u001b[39m get_context(add, all_numbers)\n",
      "\u001b[0;31mAttributeError\u001b[0m: 'NoneType' object has no attribute 'get_text'"
     ]
    }
   ],
   "source": [
    "# DATA/TEXT MINING PART\n",
    "def remove_spaces(text):\n",
    "    return text.replace(\" \", \"\")\n",
    "def get_numbers_from_text(text):\n",
    "    import re\n",
    "    text = remove_spaces(text)\n",
    "    pattern = '[-+]?[.]?[\\d]+(?:,\\d\\d\\d)*[\\.]?\\d*(?:[eE][-+]?\\d+)?'\n",
    "    list_of_numbers = re.findall(pattern, text)\n",
    "    return list_of_numbers\n",
    "def find_years(numbers):\n",
    "    numbers = [x for x in numbers if (float(x) > 1980) and (float(x) < 2030)]\n",
    "    return numbers\n",
    "def find_km(numbers):\n",
    "    numbers = [x for x in numbers if (float(x) > 3000) and (float(x) < 500000)]\n",
    "    return numbers\n",
    "def get_context(text, list_of_tokens, year_dictionary = ['egistr', 'r.v', 'vyrob', 'výrob', 'prov'], km_dictionary = ['km', 'Km', 'KM', 'ilomet', 'ajet', 'ájez', 'achom', 'atoč'], context_span=20):\n",
    "    import re\n",
    "    context = []\n",
    "    year = 'No match'\n",
    "    km = 'No match'\n",
    "    for token in find_years(list_of_tokens):\n",
    "        all_occurences_indices = [m.start() for m in re.finditer(token, text)]\n",
    "        for index in all_occurences_indices:\n",
    "            left_index = max(index - context_span, 0)\n",
    "            right_index = min(index + context_span, len(text))\n",
    "            substring = text[left_index: right_index].strip()\n",
    "            for s in year_dictionary:\n",
    "                year_find = [m.start() for m in re.finditer(s, substring)]\n",
    "                if len(year_find) > 0:\n",
    "                    year = token\n",
    "    for token in find_km(list_of_tokens):\n",
    "        all_occurences_indices = [m.start() for m in re.finditer(token, text)]\n",
    "        for index in all_occurences_indices:\n",
    "            left_index = max(index - context_span, 0)\n",
    "            right_index = min(index + context_span, len(text))\n",
    "            substring = text[left_index: right_index].strip()\n",
    "            for s in km_dictionary:\n",
    "                km_find = [m.start() for m in re.finditer(s, substring)]\n",
    "                if len(km_find) > 0:\n",
    "                    km = token\n",
    "    return [year, km]\n",
    "def get_info(links):\n",
    "    results = []\n",
    "    for i in links:\n",
    "        add_page = requests.get(i)\n",
    "        soup_add = BeautifulSoup(add_page.text, 'html')\n",
    "        add = remove_spaces(soup_add.find('div', {'class':'popisdetail'}).get_text())\n",
    "        all_numbers = get_numbers_from_text(add)\n",
    "        context_got = get_context(add, all_numbers)\n",
    "        result = [i, context_got[0], context_got[1]]\n",
    "        results.append(result)\n",
    "        time.sleep(0.03)\n",
    "    return results\n",
    "link = ['https://auto.bazos.cz/inzerat/157012769/vw-golf-7-20tdi-110kw-107tkm-plna-zaruka-2-roky-zdarma.php', 'https://auto.bazos.cz/inzerat/156954743/skoda-octavia-3dsg-20-tdi.php']\n",
    "#link = list_of_offers_url\n",
    "get_info(link)"
   ]
  },
  {
   "cell_type": "markdown",
   "id": "93548d11",
   "metadata": {},
   "source": [
    "Here we can see the description, which we will use to extract parameters of the car. This will be one of the most difficult parts of the project to extract the relevant text in unformated text. There is no official format to the text, so we will have to find a way how to extract this information from various formats.\n",
    "\n",
    "After retrieving these informations, we will use analysis of the data got from this process."
   ]
  }
 ],
 "metadata": {
  "kernelspec": {
   "display_name": "Python 3 (ipykernel)",
   "language": "python",
   "name": "python3"
  },
  "language_info": {
   "codemirror_mode": {
    "name": "ipython",
    "version": 3
   },
   "file_extension": ".py",
   "mimetype": "text/x-python",
   "name": "python",
   "nbconvert_exporter": "python",
   "pygments_lexer": "ipython3",
   "version": "3.10.6"
  }
 },
 "nbformat": 4,
 "nbformat_minor": 5
}
